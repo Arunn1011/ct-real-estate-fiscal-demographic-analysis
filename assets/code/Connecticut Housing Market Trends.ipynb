{
 "cells": [
  {
   "cell_type": "markdown",
   "id": "7b8527a4-9161-40cd-b03b-fa7b94e1a46e",
   "metadata": {},
   "source": [
    "# **Connecticut Municipal Fiscal Health 2020 — Visual Analysis**\n",
    "\n"
   ]
  },
  {
   "cell_type": "markdown",
   "id": "60228dda-235f-43bc-99e4-8379b036c553",
   "metadata": {},
   "source": [
    "## **Motivation**:\n",
    "\n",
    "1. To explore and communicate how municipal fiscal factors (tax rates, grand list values) and demographic variables (population, per-capita income) relate to housing market outcomes (median sale price) across Connecticut towns.\n",
    "\n",
    "2. To develop an affordability index that blends price-to-income and tax burdens, highlighting which towns are most and least affordable for residents"
   ]
  },
  {
   "cell_type": "markdown",
   "id": "1542966c-925b-440e-a09c-a8817b7d45d3",
   "metadata": {},
   "source": [
    "## **Dataset** :\n",
    "\n",
    "1. Real Estate Sales (Real_Estate_Sales_Cleaned.csv): All residential sales in CT for 2020, including sale amount, sales ratio, town, and year.\n",
    "\n",
    "2. Municipal Fiscal Indicators (Fiscal_indicator_cleaned.csv): Key 2020 metrics per town (e.g. mill rate, equalized net grand list, per-capita income).\n",
    "\n",
    "3. Population Projections (Connecticut_Town_Population_Projections__2015-2040.csv): Projected town populations for 2020."
   ]
  },
  {
   "cell_type": "markdown",
   "id": "88f9c4f7-24e0-4954-b07a-1f388f8c84ed",
   "metadata": {},
   "source": [
    "### **Basic Stats**:\n",
    "\n",
    "1. Town-level aggregation produced a final table of ~ 150–170 municipalities (inner-merge of all three sources for 2020).\n",
    "\n",
    "2. Variables included:\n",
    "\n",
    "- Median sale price\n",
    "\n",
    "- Sales volume (count of transactions)\n",
    "\n",
    "- Average assessment ratio\n",
    "\n",
    "- Mill rate (mills per $1,000 AV)\n",
    "\n",
    "- Per-capita income\n",
    "\n",
    "- Equalized net grand list value\n",
    "\n",
    "- Population\n",
    "\n",
    "- Derived metrics: price-to-income, annual tax burden, tax-to-income, composite affordability index\n",
    "\n",
    "3. Initial EDA (df.info()) confirmed no major data-type mismatches; only a handful of missing town matches were dropped during the inner joins."
   ]
  },
  {
   "cell_type": "markdown",
   "id": "34ed5f04-dfd5-4be3-9488-68501810eeb9",
   "metadata": {},
   "source": [
    "## **Data Cleaning & Preprocessing**\n",
    "\n",
    "1. Filtering: Subset each source to the year 2020.\n",
    "\n",
    "2. Aggregation:\n",
    "\n",
    "- Real estate data → median sale price & sales count by town.\n",
    "\n",
    "- Population → total projected population by town.\n",
    "\n",
    "3. Pivoting: Fiscal indicators reshaped so each town is one row, metrics as columns.\n",
    "\n",
    "4. Town-name standardization: Lowercased & stripped whitespace to ensure clean merges.\n",
    "\n",
    "5. Merging: Inner joins to keep only towns present in all three sources, ensuring completeness.\n",
    "\n",
    "6. Derived Metrics: Calculated price-to-income, annual tax burden, tax-to-income, and combined into a single affordability index.\n",
    "\n",
    "7. Classification: Binned affordability index into four classes (Very Affordable, Moderate, Less Affordable, Least Affordable)."
   ]
  },
  {
   "cell_type": "markdown",
   "id": "f10074a0-e7e4-4829-9382-92522ff7c740",
   "metadata": {},
   "source": [
    "### Library Imports and Setup"
   ]
  },
  {
   "cell_type": "code",
   "execution_count": null,
   "id": "40c85d83",
   "metadata": {},
   "outputs": [],
   "source": [
    "import pandas as pd\n",
    "import plotly.express as px\n",
    "import seaborn as sns\n",
    "import matplotlib.pyplot as plt\n",
    "import numpy as np"
   ]
  },
  {
   "cell_type": "code",
   "execution_count": null,
   "id": "73660a55-8447-4045-8a9d-17d391da7477",
   "metadata": {},
   "outputs": [
    {
     "name": "stderr",
     "output_type": "stream",
     "text": [
      "C:\\Users\\arund\\AppData\\Local\\Temp\\ipykernel_21104\\59070866.py:4: DtypeWarning: Columns (12) have mixed types. Specify dtype option on import or set low_memory=False.\n",
      "  real_estate = pd.read_csv('Real_Estate_Sales_Cleaned.csv')\n"
     ]
    },
    {
     "name": "stdout",
     "output_type": "stream",
     "text": [
      "<class 'pandas.core.frame.DataFrame'>\n",
      "RangeIndex: 683497 entries, 0 to 683496\n",
      "Data columns (total 14 columns):\n",
      " #   Column            Non-Null Count   Dtype  \n",
      "---  ------            --------------   -----  \n",
      " 0   Serial Number     683497 non-null  int64  \n",
      " 1   List Year         683497 non-null  int64  \n",
      " 2   Date Recorded     683497 non-null  object \n",
      " 3   Town              683497 non-null  object \n",
      " 4   Address           683497 non-null  object \n",
      " 5   Assessed Value    683497 non-null  float64\n",
      " 6   Sale Amount       683497 non-null  float64\n",
      " 7   Sales Ratio       683497 non-null  float64\n",
      " 8   Property Type     683497 non-null  object \n",
      " 9   Residential Type  670868 non-null  object \n",
      " 10  Non Use Code      200621 non-null  object \n",
      " 11  Assessor Remarks  142615 non-null  object \n",
      " 12  OPM remarks       11091 non-null   object \n",
      " 13  Location          194778 non-null  object \n",
      "dtypes: float64(3), int64(2), object(9)\n",
      "memory usage: 73.0+ MB\n",
      "Real Estate Sales:\n",
      " None\n",
      "<class 'pandas.core.frame.DataFrame'>\n",
      "RangeIndex: 20811 entries, 0 to 20810\n",
      "Data columns (total 9 columns):\n",
      " #   Column                                       Non-Null Count  Dtype  \n",
      "---  ------                                       --------------  -----  \n",
      " 0   Municipal Fiscal Indicators Report Edition   20811 non-null  object \n",
      " 1   Year                                         20811 non-null  int64  \n",
      " 2   Year type                                    20811 non-null  object \n",
      " 3   Municipality name                            20811 non-null  object \n",
      " 4   Municipality FIPS GEOID                      20795 non-null  float64\n",
      " 5   Municipality FIPS code                       20795 non-null  float64\n",
      " 6   Municipality tax code                        20795 non-null  float64\n",
      " 7   Metric                                       20811 non-null  object \n",
      " 8   Value                                        20797 non-null  float64\n",
      "dtypes: float64(4), int64(1), object(4)\n",
      "memory usage: 1.4+ MB\n",
      "\n",
      "Fiscal Indicators:\n",
      " None\n",
      "<class 'pandas.core.frame.DataFrame'>\n",
      "RangeIndex: 19266 entries, 0 to 19265\n",
      "Data columns (total 6 columns):\n",
      " #   Column     Non-Null Count  Dtype \n",
      "---  ------     --------------  ----- \n",
      " 0   Year       19266 non-null  int64 \n",
      " 1   Geography  19266 non-null  object\n",
      " 2   Age_Group  19266 non-null  object\n",
      " 3   Male       19266 non-null  int64 \n",
      " 4   Female     19266 non-null  int64 \n",
      " 5   Total      19266 non-null  int64 \n",
      "dtypes: int64(4), object(2)\n",
      "memory usage: 903.2+ KB\n",
      "\n",
      "Population Projections:\n",
      " None\n"
     ]
    }
   ],
   "source": [
    "\n",
    "\n",
    "# Load datasets\n",
    "real_estate = pd.read_csv('Real_Estate_Sales_Cleaned.csv')\n",
    "fiscal_indicators = pd.read_csv('Fiscal_indactor_cleaned.csv')\n",
    "population = pd.read_csv('Connecticut_Town_Population_Projections__2015-2040.csv')\n",
    "\n",
    "# Display basic info\n",
    "print(\"Real Estate Sales:\\n\", real_estate.info())\n",
    "print(\"\\nFiscal Indicators:\\n\", fiscal_indicators.info())\n",
    "print(\"\\nPopulation Projections:\\n\", population.info())"
   ]
  },
  {
   "cell_type": "code",
   "execution_count": 2,
   "id": "10bf4635-c028-4ad4-98dc-1747579c0e03",
   "metadata": {},
   "outputs": [],
   "source": [
    "# Real Estate: Filter for 2020 sales\n",
    "re_2020 = real_estate[real_estate['List Year'] == 2020].copy()\n",
    "\n",
    "# Fiscal Indicators: Filter for 2020 (assuming 'Year' column is calendar year)\n",
    "fi_2020 = fiscal_indicators[fiscal_indicators['Year'] == 2020].copy()\n",
    "\n",
    "# Population: Extract 2020 projections (closest to actual census)\n",
    "pop_2020 = population[population['Year'] == 2020].copy()"
   ]
  },
  {
   "cell_type": "code",
   "execution_count": 3,
   "id": "f3795248-eee0-4f64-b736-2a07d0344bb5",
   "metadata": {},
   "outputs": [],
   "source": [
    "re_agg = re_2020.groupby('Town').agg(\n",
    "    median_sale_price=('Sale Amount', 'median'),\n",
    "    sales_volume=('Sale Amount', 'count'),\n",
    "    avg_assessment_ratio=('Sales Ratio', 'mean')\n",
    ").reset_index()"
   ]
  },
  {
   "cell_type": "code",
   "execution_count": 4,
   "id": "8c71b089-f71c-4465-899d-7469c72f92ee",
   "metadata": {},
   "outputs": [],
   "source": [
    "fi_pivoted = fi_2020.pivot_table(\n",
    "    index='Municipality name',\n",
    "    columns='Metric',\n",
    "    values='Value',\n",
    "    aggfunc='first'  # Assuming 1 unique value per metric-town\n",
    ").reset_index()"
   ]
  },
  {
   "cell_type": "code",
   "execution_count": 5,
   "id": "8df9045c-fa41-481d-b7f0-99ef13bac8b6",
   "metadata": {},
   "outputs": [],
   "source": [
    "pop_agg = pop_2020.groupby('Geography')['Total'].sum().reset_index()"
   ]
  },
  {
   "cell_type": "code",
   "execution_count": 6,
   "id": "f3870680-55af-4e82-bb13-4e9c11f81453",
   "metadata": {},
   "outputs": [],
   "source": [
    "# Standardize town names (lowercase, remove whitespace)\n",
    "for df in [re_agg, fi_pivoted, pop_agg]:\n",
    "    df['town_clean'] = df.iloc[:, 0].str.lower().str.strip()\n",
    "\n",
    "# Merge sequentially\n",
    "merged = pd.merge(\n",
    "    re_agg, \n",
    "    fi_pivoted, \n",
    "    left_on='town_clean', \n",
    "    right_on='town_clean',\n",
    "    how='inner'\n",
    ")\n",
    "merged = pd.merge(\n",
    "    merged,\n",
    "    pop_agg,\n",
    "    left_on='town_clean',\n",
    "    right_on='town_clean',\n",
    "    how='inner'\n",
    ")"
   ]
  },
  {
   "cell_type": "code",
   "execution_count": 7,
   "id": "30f09ff5-4eff-497d-880b-ef14bda43222",
   "metadata": {},
   "outputs": [
    {
     "name": "stdout",
     "output_type": "stream",
     "text": [
      "Unique metrics in fiscal data:\n",
      "['Area in sq miles 2020 census' 'Estimated population (DPH)'\n",
      " 'FYE total net grand list' 'Grand list: apartment'\n",
      " 'Grand list: commercial' 'Grand list: income and expense'\n",
      " 'Grand list: industrial' 'Grand list: land use'\n",
      " 'Grand list: motor vehicle' 'Grand list: net personal property'\n",
      " 'Grand list: net real property' 'Grand list: personal property'\n",
      " 'Grand list: public utility' 'Grand list: residential'\n",
      " 'Grand list: ten mill land' 'Grand list: total net motor vehicle'\n",
      " 'Grand list: total real property' 'Grand list: vacant land'\n",
      " 'Median value of owner occupied homes (ACS)' 'Mill rate: motor vehicle'\n",
      " 'Mill rate: real and personal property'\n",
      " 'Net current education expenditures (CSDE)'\n",
      " 'Net current education expenditures per pupil (CSDE)'\n",
      " 'Per capita income (ACS)'\n",
      " 'School enrollment (average daily membership)(CSDE)'\n",
      " 'Tax exempt property as a percent of total'\n",
      " 'Tax exempt property assessment'\n",
      " 'Total exempt and taxable property assessment' 'Total net grand list'\n",
      " 'Median household income (ACS)' 'Equalized net grand list']\n"
     ]
    }
   ],
   "source": [
    "# Check available metrics in fiscal data\n",
    "print(\"Unique metrics in fiscal data:\")\n",
    "print(fi_2020['Metric'].unique())"
   ]
  },
  {
   "cell_type": "code",
   "execution_count": 8,
   "id": "d6a48779-6c0c-4a35-b9b4-0256aadecd47",
   "metadata": {},
   "outputs": [
    {
     "name": "stdout",
     "output_type": "stream",
     "text": [
      "Found 2 duplicate metric entries:\n",
      "      Municipal Fiscal Indicators Report Edition   Year        Year type  \\\n",
      "19851                   Report Edition: 2015-2019  2020  Fiscal Year End   \n",
      "19852                   Report Edition: 2015-2019  2020  Fiscal Year End   \n",
      "\n",
      "      Municipality name  Municipality FIPS GEOID  Municipality FIPS code  \\\n",
      "19851            GROTON              918034250.0                 34250.0   \n",
      "19852            GROTON              918034250.0                 34250.0   \n",
      "\n",
      "       Municipality tax code                    Metric         Value  \n",
      "19851                   59.0  Equalized net grand list  6.380800e+09  \n",
      "19852                   59.0  Equalized net grand list           NaN  \n"
     ]
    }
   ],
   "source": [
    "# Step 1: Filter for 2020 and key metrics\n",
    "key_metrics = [\n",
    "    'Mill rate: real and personal property',\n",
    "    'Median value of owner occupied homes (ACS)',\n",
    "    'Per capita income (ACS)',\n",
    "    'Equalized net grand list'\n",
    "]\n",
    "fi_filtered = fi_2020[fi_2020['Metric'].isin(key_metrics)].copy()\n",
    "\n",
    "# Step 2: Check for duplicates\n",
    "duplicates = fi_filtered.duplicated(subset=['Municipality name', 'Metric'], keep=False)\n",
    "print(f\"Found {duplicates.sum()} duplicate metric entries:\")\n",
    "print(fi_filtered[duplicates].sort_values(['Municipality name', 'Metric']))\n",
    "\n",
    "# Step 3: Resolve duplicates (keep first occurrence)\n",
    "fi_deduped = fi_filtered.drop_duplicates(subset=['Municipality name', 'Metric'])\n",
    "\n",
    "# Step 4: Now pivot safely\n",
    "fi_pivoted = fi_deduped.pivot(\n",
    "    index='Municipality name',\n",
    "    columns='Metric',\n",
    "    values='Value'\n",
    ").reset_index()\n",
    "\n",
    "# Clean column names\n",
    "fi_pivoted.columns = [col.replace(':', '').strip() for col in fi_pivoted.columns]"
   ]
  },
  {
   "cell_type": "code",
   "execution_count": 9,
   "id": "862429fd-6db2-4760-b4fe-5c143b456064",
   "metadata": {},
   "outputs": [
    {
     "name": "stdout",
     "output_type": "stream",
     "text": [
      "Groton's processed metrics:\n",
      "                                           Metric         Value\n",
      "12020       Mill rate: real and personal property  2.598000e+01\n",
      "12023                     Per capita income (ACS)  3.842300e+04\n",
      "12018  Median value of owner occupied homes (ACS)  2.471000e+05\n",
      "19851                    Equalized net grand list  6.380800e+09\n"
     ]
    }
   ],
   "source": [
    "# Step 1: Handle duplicates by keeping the first non-NA value\n",
    "fi_filtered = fi_2020[fi_2020['Metric'].isin(key_metrics)].copy()\n",
    "\n",
    "# For each metric-municipality pair, keep first non-NA value\n",
    "fi_deduped = fi_filtered.sort_values('Value', na_position='last')\\\n",
    "    .drop_duplicates(['Municipality name', 'Metric'])\n",
    "\n",
    "# Step 2: Verify Groton's data\n",
    "print(\"Groton's processed metrics:\")\n",
    "print(fi_deduped[fi_deduped['Municipality name'] == 'GROTON'][['Metric', 'Value']])\n",
    "\n",
    "# Step 3: Pivot the cleaned data\n",
    "fi_pivoted = fi_deduped.pivot(\n",
    "    index='Municipality name',\n",
    "    columns='Metric',\n",
    "    values='Value'\n",
    ").reset_index()\n",
    "\n",
    "# Step 4: Clean column names\n",
    "fi_pivoted.columns = [col.replace(':', '').strip() for col in fi_pivoted.columns]\n",
    "\n",
    "# Now merge with other datasets as before..."
   ]
  },
  {
   "cell_type": "code",
   "execution_count": 10,
   "id": "6285282e-144e-4d53-a203-88f2bed7c94d",
   "metadata": {},
   "outputs": [],
   "source": [
    "def clean_town_names(df, col_name):\n",
    "    \"\"\"Standardize town names across all datasets\"\"\"\n",
    "    df['town_clean'] = (\n",
    "        df[col_name]\n",
    "        .str.upper()  # Convert to uppercase\n",
    "        .str.strip()  # Remove whitespace\n",
    "        .str.replace(r'TOWN OF |CITY OF |\\.', '', regex=True)  # Remove prefixes\n",
    "    )\n",
    "    return df\n",
    "\n",
    "# Apply to each dataset\n",
    "re_agg = clean_town_names(re_agg, 'Town')\n",
    "fi_pivoted = clean_town_names(fi_pivoted, 'Municipality name')\n",
    "pop_agg = clean_town_names(pop_agg, 'Geography')"
   ]
  },
  {
   "cell_type": "code",
   "execution_count": 11,
   "id": "acdea134-a64f-4cab-a18a-87cda8d9a770",
   "metadata": {},
   "outputs": [
    {
     "name": "stdout",
     "output_type": "stream",
     "text": [
      "Real Estate towns sample: ['ANDOVER' 'ANSONIA' 'ASHFORD' 'AVON' 'BARKHAMSTED']\n",
      "Fiscal towns sample: ['ANDOVER' 'ANSONIA' 'ASHFORD' 'AVON' 'BARKHAMSTED']\n",
      "Population towns sample: ['ANDOVER' 'ANSONIA' 'ASHFORD' 'AVON' 'BARKHAMSTED']\n"
     ]
    }
   ],
   "source": [
    "print(\"Real Estate towns sample:\", re_agg['town_clean'].unique()[:5])\n",
    "print(\"Fiscal towns sample:\", fi_pivoted['town_clean'].unique()[:5])\n",
    "print(\"Population towns sample:\", pop_agg['town_clean'].unique()[:5])"
   ]
  },
  {
   "cell_type": "code",
   "execution_count": 12,
   "id": "9df96593-c868-43e9-a4a9-c1fd7fb57e41",
   "metadata": {},
   "outputs": [
    {
     "name": "stdout",
     "output_type": "stream",
     "text": [
      "After first merge: 144 rows\n",
      "Final merged rows: 144\n"
     ]
    }
   ],
   "source": [
    "# Step 1: Merge Real Estate + Fiscal Data\n",
    "merge_step1 = pd.merge(\n",
    "    re_agg,\n",
    "    fi_pivoted,\n",
    "    on='town_clean',\n",
    "    how='inner',  # Start with inner to find matches\n",
    "    suffixes=('', '_fiscal')\n",
    ")\n",
    "print(f\"After first merge: {merge_step1.shape[0]} rows\")\n",
    "\n",
    "# Step 2: Merge with Population\n",
    "final_df = pd.merge(\n",
    "    merge_step1,\n",
    "    pop_agg,\n",
    "    on='town_clean',\n",
    "    how='inner'\n",
    ")\n",
    "print(f\"Final merged rows: {final_df.shape[0]}\")"
   ]
  },
  {
   "cell_type": "code",
   "execution_count": null,
   "id": "ad83214f-02cf-4d9a-83af-a2e193a7ac7a",
   "metadata": {},
   "outputs": [
    {
     "data": {
      "application/vnd.plotly.v1+json": {
       "config": {
        "plotlyServerURL": "https://plot.ly"
       },
       "data": [
        {
         "hovertemplate": "<b>%{hovertext}</b><br><br>Mill Rate =%{x}<br>Median Home Sale Price ($)=%{y}<extra></extra>",
         "hovertext": [
          "Andover",
          "Ansonia",
          "Ashford",
          "Avon",
          "Barkhamsted",
          "Beacon Falls",
          "Berlin",
          "Bethany",
          "Bethel",
          "Bethlehem",
          "Bloomfield",
          "Bolton",
          "Bozrah",
          "Branford",
          "Bridgeport",
          "Bridgewater",
          "Bristol",
          "Brookfield",
          "Burlington",
          "Canaan",
          "Canton",
          "Chaplin",
          "Cheshire",
          "Chester",
          "Colchester",
          "Colebrook",
          "Columbia",
          "Cornwall",
          "Coventry",
          "Cromwell",
          "Danbury",
          "Darien",
          "Deep River",
          "Derby",
          "East Granby",
          "East Haddam",
          "East Hartford",
          "East Haven",
          "East Lyme",
          "East Windsor",
          "Eastford",
          "Easton",
          "Enfield",
          "Essex",
          "Farmington",
          "Franklin",
          "Glastonbury",
          "Goshen",
          "Granby",
          "Greenwich",
          "Griswold",
          "Groton",
          "Guilford",
          "Hampton",
          "Hartford",
          "Harwinton",
          "Hebron",
          "Kent",
          "Killingly",
          "Killingworth",
          "Lebanon",
          "Lisbon",
          "Litchfield",
          "Lyme",
          "Madison",
          "Manchester",
          "Mansfield",
          "Meriden",
          "Middlebury",
          "Middlefield",
          "Middletown",
          "Milford",
          "Monroe",
          "Montville",
          "Morris",
          "Naugatuck",
          "New Britain",
          "New Canaan",
          "New Fairfield",
          "New Hartford",
          "New Haven",
          "New London",
          "Newington",
          "Newtown",
          "Norfolk",
          "North Canaan",
          "North Haven",
          "Norwalk",
          "Norwich",
          "Old Lyme",
          "Old Saybrook",
          "Orange",
          "Plainfield",
          "Plainville",
          "Plymouth",
          "Portland",
          "Preston",
          "Putnam",
          "Redding",
          "Ridgefield",
          "Rocky Hill",
          "Roxbury",
          "Salem",
          "Scotland",
          "Sharon",
          "Shelton",
          "Sherman",
          "Simsbury",
          "Somers",
          "South Windsor",
          "Southbury",
          "Sprague",
          "Stamford",
          "Sterling",
          "Stonington",
          "Stratford",
          "Suffield",
          "Thomaston",
          "Thompson",
          "Tolland",
          "Torrington",
          "Trumbull",
          "Union",
          "Vernon",
          "Wallingford",
          "Warren",
          "Washington",
          "Waterbury",
          "Waterford",
          "Watertown",
          "West Hartford",
          "Westbrook",
          "Weston",
          "Wethersfield",
          "Willington",
          "Wilton",
          "Winchester",
          "Windham",
          "Windsor",
          "Windsor Locks",
          "Wolcott",
          "Woodbridge",
          "Woodbury",
          "Woodstock"
         ],
         "legendgroup": "",
         "marker": {
          "color": "#636efa",
          "symbol": "circle"
         },
         "mode": "markers",
         "name": "",
         "orientation": "v",
         "showlegend": false,
         "type": "scatter",
         "x": {
          "_inputArray": {
           "0": 35.88,
           "1": 37.8,
           "10": 35.58,
           "100": 34.1,
           "101": 15.4,
           "102": 32.2,
           "103": 39,
           "104": 14.5,
           "105": 22.03,
           "106": 18.64,
           "107": 37.41,
           "108": 26.66,
           "109": 37.86,
           "11": 39.43,
           "110": 29.3,
           "111": 36,
           "112": 26.94,
           "113": 31.94,
           "114": 23.85,
           "115": 39.47,
           "116": 28.64,
           "117": 36.13,
           "118": 24.95,
           "119": 37.11,
           "12": 27,
           "120": 46.17,
           "121": 35.42,
           "122": 28.6,
           "123": 39.63,
           "124": 28.52,
           "125": 14.15,
           "126": 14.25,
           "127": 60.21,
           "128": 27.64,
           "129": 34.56,
           "13": 29.45,
           "130": 42.42,
           "131": 25,
           "132": 32.92,
           "133": 40.67,
           "134": 29.99,
           "135": 27.87,
           "136": 33.54,
           "137": 37.21,
           "138": 33.27,
           "139": 25.83,
           "14": 43.45,
           "140": 33.14,
           "141": 42.64,
           "142": 29.17,
           "143": 25.5,
           "15": 17.5,
           "16": 38.35,
           "17": 30.1,
           "18": 33.4,
           "19": 25.7,
           "2": 36.37,
           "20": 33.22,
           "21": 32.5,
           "22": 33.72,
           "23": 29.5,
           "24": 33.05,
           "25": 30.9,
           "26": 29.33,
           "27": 16.7,
           "28": 31.15,
           "29": 30.33,
           "3": 34.21,
           "30": 27.6,
           "31": 16.84,
           "32": 29.58,
           "33": 38.6,
           "34": 33.6,
           "35": 30.44,
           "36": 49.35,
           "37": 34.25,
           "38": 28.51,
           "39": 34.5,
           "4": 31.52,
           "40": 26,
           "41": 32.35,
           "42": 34.23,
           "43": 22.43,
           "44": 28.81,
           "45": 22.97,
           "46": 37.32,
           "47": 20.6,
           "48": 39.61,
           "49": 11.59,
           "5": 34.9,
           "50": 28.94,
           "51": 25.98,
           "52": 32.62,
           "53": 23.77,
           "54": 74.29,
           "55": 28.7,
           "56": 36.33,
           "57": 18.57,
           "58": 25.14,
           "59": 26.72,
           "6": 33.93,
           "60": 28.4,
           "61": 23.23,
           "62": 27.6,
           "63": 19.95,
           "64": 28.85,
           "65": 36.52,
           "66": 31.38,
           "67": 40.86,
           "68": 34.83,
           "69": 31.82,
           "7": 34.5,
           "70": 35.7,
           "71": 27.65,
           "72": 36.36,
           "73": 31.75,
           "74": 24.63,
           "75": 47.75,
           "76": 49.5,
           "77": 18.16,
           "78": 31.49,
           "79": 30.93,
           "8": 34.26,
           "80": 43.88,
           "81": 37.95,
           "82": 38.81,
           "83": 34.65,
           "84": 26.91,
           "85": 29,
           "86": 30.71,
           "87": 23.97,
           "88": 41.98,
           "89": 23.3,
           "9": 27.51,
           "90": 20.05,
           "91": 33.25,
           "92": 28.33,
           "93": 34.56,
           "94": 40.63,
           "95": 35.01,
           "96": 26.94,
           "97": 20.84,
           "98": 32.84,
           "99": 28.21,
           "bdata": "cT0K16PwQUBmZmZmZuZCQI/C9ShcL0JAexSuR+EaQUCF61G4HoU/QDMzMzMzc0FA16NwPQr3QEAAAAAAAEBBQOF6FK5HIUFAw/UoXI+CO0AK16NwPcpBQNejcD0Kt0NAAAAAAAAAO0AzMzMzM3M9QJqZmZmZuUVAAAAAAACAMUDNzMzMzCxDQJqZmZmZGT5AMzMzMzOzQEAzMzMzM7M5QFyPwvUonEBAAAAAAABAQEBcj8L1KNxAQAAAAAAAgD1AZmZmZmaGQEBmZmZmZuY+QBSuR+F6VD1AMzMzMzOzMEBmZmZmZiY/QBSuR+F6VD5AmpmZmZmZO0DXo3A9CtcwQBSuR+F6lD1AzczMzMxMQ0DNzMzMzMxAQHE9CtejcD5AzczMzMysSEAAAAAAACBBQMP1KFyPgjxAAAAAAABAQUAAAAAAAAA6QM3MzMzMLEBAPQrXo3AdQUCuR+F6FG42QI/C9ShczzxAuB6F61H4NkApXI/C9ahCQJqZmZmZmTRArkfhehTOQ0CuR+F6FC4nQHE9Ctej8DxAexSuR+H6OUCPwvUoXE9AQIXrUbgexTdAw/UoXI+SUkAzMzMzM7M8QArXo3A9KkJAUrgeheuRMkCkcD0K1yM5QLgehetRuDpAZmZmZmZmPEB7FK5H4To3QJqZmZmZmTtAMzMzMzPzM0CamZmZmdk8QMP1KFyPQkJA4XoUrkdhP0CuR+F6FG5EQArXo3A9akFAUrgehevRP0CamZmZmdlBQGZmZmZmpjtArkfhehQuQkAAAAAAAMA/QOF6FK5HoThAAAAAAADgR0AAAAAAAMBIQClcj8L1KDJAPQrXo3B9P0CuR+F6FO4+QHE9Ctej8EVAmpmZmZn5QkBI4XoUrmdDQDMzMzMzU0FAKVyPwvXoOkAAAAAAAAA9QPYoXI/CtT5AuB6F61H4N0A9CtejcP1EQM3MzMzMTDdAzczMzMwMNEAAAAAAAKBAQBSuR+F6VDxASOF6FK5HQUBxPQrXo1BEQOF6FK5HgUFAcT0K16PwOkDXo3A9Ctc0QOxRuB6Fa0BA9ihcj8I1PEDNzMzMzAxBQM3MzMzMzC5AmpmZmZkZQEAAAAAAAIBDQAAAAAAAAC1ASOF6FK4HNkCkcD0K16MyQBSuR+F6tEJAKVyPwvWoOkCuR+F6FO5CQM3MzMzMTD1AAAAAAAAAQkBxPQrXo/A6QHE9Ctej8D9AmpmZmZnZN0Bcj8L1KLxDQKRwPQrXozxAcT0K16MQQkAzMzMzM/M4QK5H4XoUjkJA9ihcj8IVR0D2KFyPwrVBQJqZmZmZmTxAcT0K16PQQ0CF61G4HoU8QM3MzMzMTCxAAAAAAACALEB7FK5H4RpOQKRwPQrXoztASOF6FK5HQUD2KFyPwjVFQAAAAAAAADlA9ihcj8J1QED2KFyPwlVEQD0K16Nw/T1AH4XrUbjeO0CF61G4HsVAQHsUrkfhmkJAw/UoXI+iQEAUrkfhetQ5QFK4HoXrkUBAUrgehetRRUDsUbgehSs9QAAAAAAAgDlA",
           "dtype": "f8",
           "shape": "144"
          },
          "bdata": "cT0K16PwQUBmZmZmZuZCQI/C9ShcL0JAexSuR+EaQUCF61G4HoU/QDMzMzMzc0FA16NwPQr3QEAAAAAAAEBBQOF6FK5HIUFAw/UoXI+CO0AK16NwPcpBQNejcD0Kt0NAAAAAAAAAO0AzMzMzM3M9QJqZmZmZuUVAAAAAAACAMUDNzMzMzCxDQJqZmZmZGT5AMzMzMzOzQEAzMzMzM7M5QFyPwvUonEBAAAAAAABAQEBcj8L1KNxAQAAAAAAAgD1AZmZmZmaGQEBmZmZmZuY+QBSuR+F6VD1AMzMzMzOzMEBmZmZmZiY/QBSuR+F6VD5AmpmZmZmZO0DXo3A9CtcwQBSuR+F6lD1AzczMzMxMQ0DNzMzMzMxAQHE9CtejcD5AzczMzMysSEAAAAAAACBBQMP1KFyPgjxAAAAAAABAQUAAAAAAAAA6QM3MzMzMLEBAPQrXo3AdQUCuR+F6FG42QI/C9ShczzxAuB6F61H4NkApXI/C9ahCQJqZmZmZmTRArkfhehTOQ0CuR+F6FC4nQHE9Ctej8DxAexSuR+H6OUCPwvUoXE9AQIXrUbgexTdAw/UoXI+SUkAzMzMzM7M8QArXo3A9KkJAUrgeheuRMkCkcD0K1yM5QLgehetRuDpAZmZmZmZmPEB7FK5H4To3QJqZmZmZmTtAMzMzMzPzM0CamZmZmdk8QMP1KFyPQkJA4XoUrkdhP0CuR+F6FG5EQArXo3A9akFAUrgehevRP0CamZmZmdlBQGZmZmZmpjtArkfhehQuQkAAAAAAAMA/QOF6FK5HoThAAAAAAADgR0AAAAAAAMBIQClcj8L1KDJAPQrXo3B9P0CuR+F6FO4+QHE9Ctej8EVAmpmZmZn5QkBI4XoUrmdDQDMzMzMzU0FAKVyPwvXoOkAAAAAAAAA9QPYoXI/CtT5AuB6F61H4N0A9CtejcP1EQM3MzMzMTDdAzczMzMwMNEAAAAAAAKBAQBSuR+F6VDxASOF6FK5HQUBxPQrXo1BEQOF6FK5HgUFAcT0K16PwOkDXo3A9Ctc0QOxRuB6Fa0BA9ihcj8I1PEDNzMzMzAxBQM3MzMzMzC5AmpmZmZkZQEAAAAAAAIBDQAAAAAAAAC1ASOF6FK4HNkCkcD0K16MyQBSuR+F6tEJAKVyPwvWoOkCuR+F6FO5CQM3MzMzMTD1AAAAAAAAAQkBxPQrXo/A6QHE9Ctej8D9AmpmZmZnZN0Bcj8L1KLxDQKRwPQrXozxAcT0K16MQQkAzMzMzM/M4QK5H4XoUjkJA9ihcj8IVR0D2KFyPwrVBQJqZmZmZmTxAcT0K16PQQ0CF61G4HoU8QM3MzMzMTCxAAAAAAACALEB7FK5H4RpOQKRwPQrXoztASOF6FK5HQUD2KFyPwjVFQAAAAAAAADlA9ihcj8J1QED2KFyPwlVEQD0K16Nw/T1AH4XrUbjeO0CF61G4HsVAQHsUrkfhmkJAw/UoXI+iQEAUrkfhetQ5QFK4HoXrkUBAUrgehetRRUDsUbgehSs9QAAAAAAAgDlA",
          "dtype": "f8"
         },
         "xaxis": "x",
         "y": {
          "_inputArray": {
           "0": 275000,
           "1": 254950,
           "10": 240000,
           "100": 246000,
           "101": 739300,
           "102": 306000,
           "103": 257000,
           "104": 350000,
           "105": 375000,
           "106": 519000,
           "107": 340000,
           "108": 233500,
           "109": 291000,
           "11": 283500,
           "110": 285000,
           "111": 219350,
           "112": 525000,
           "113": 219900,
           "114": 370875,
           "115": 315000,
           "116": 303500,
           "117": 210000,
           "118": 235000,
           "119": 310000,
           "12": 217000,
           "120": 165000,
           "121": 460000,
           "122": 172500,
           "123": 211000,
           "124": 220000,
           "125": 412500,
           "126": 650000,
           "127": 170000,
           "128": 264757.5,
           "129": 255000,
           "13": 275000,
           "130": 340000,
           "131": 335750,
           "132": 917000,
           "133": 278000,
           "134": 230808.5,
           "135": 839000,
           "136": 190000,
           "137": 170000,
           "138": 250000,
           "139": 215000,
           "14": 148700,
           "140": 262250,
           "141": 450000,
           "142": 347000,
           "143": 270500,
           "15": 625000,
           "16": 215000,
           "17": 380000,
           "18": 345000,
           "19": 321000,
           "2": 241500,
           "20": 320000,
           "21": 216000,
           "22": 364137.5,
           "23": 360137,
           "24": 275000,
           "25": 252500,
           "26": 292500,
           "27": 342500,
           "28": 240000,
           "29": 225000,
           "3": 375000,
           "30": 335000,
           "31": 1455000,
           "32": 150000,
           "33": 230000,
           "34": 269950,
           "35": 261450,
           "36": 200000,
           "37": 235000,
           "38": 336000,
           "39": 212000,
           "4": 247450,
           "40": 230000,
           "41": 672500,
           "42": 225000,
           "43": 452500,
           "44": 309000,
           "45": 237450,
           "46": 350000,
           "47": 365000,
           "48": 330000,
           "49": 1737500,
           "5": 260000,
           "50": 230000,
           "51": 262000,
           "52": 415000,
           "53": 276000,
           "54": 205000,
           "55": 307500,
           "56": 323550,
           "57": 335000,
           "58": 228800,
           "59": 352000,
           "6": 280000,
           "60": 245000,
           "61": 229900,
           "62": 327500,
           "63": 495000,
           "64": 483125,
           "65": 220000,
           "66": 240000,
           "67": 200000,
           "68": 375000,
           "69": 257000,
           "7": 375565,
           "70": 231500,
           "71": 345000,
           "72": 415000,
           "73": 235500,
           "74": 350000,
           "75": 225000,
           "76": 197850,
           "77": 1450000,
           "78": 425000,
           "79": 250000,
           "8": 395000,
           "80": 250000,
           "81": 195000,
           "82": 253200,
           "83": 435000,
           "84": 315000,
           "85": 212250,
           "86": 315000,
           "87": 469500,
           "88": 164900,
           "89": 450000,
           "9": 330000,
           "90": 440000,
           "91": 411500,
           "92": 218250,
           "93": 215000,
           "94": 200000,
           "95": 250000,
           "96": 227500,
           "97": 227000,
           "98": 625625,
           "99": 690000,
           "bdata": "AAAAAODIEEEAAAAAMB8PQQAAAADgeg1BAAAAAGDjFkEAAAAA0DQOQQAAAAAAvQ9BAAAAAAAXEUEAAAAANOwWQQAAAADgGxhBAAAAAEAkFEEAAAAAAEwNQQAAAACwTRFBAAAAAEB9CkEAAAAA4MgQQQAAAADgJgJBAAAAANASI0EAAAAAwD4KQQAAAACAMRdBAAAAAKAOFUEAAAAAoJcTQQAAAAAAiBNBAAAAAABeCkEAAAAApjkWQQAAAAAk+xVBAAAAAODIEEEAAAAAoNIOQQAAAABQ2hFBAAAAAJDnFEEAAAAAAEwNQQAAAABAdwtBAAAAAGByFEEAAAAAmDM2QQAAAACATwJBAAAAAIATDEEAAAAA+HkQQQAAAABQ6g9BAAAAAABqCEEAAAAAwK8MQQAAAAAAghRBAAAAAADhCUEAAAAAgBMMQQAAAADohSRBAAAAAEB3C0EAAAAAUJ4bQQAAAAAg3BJBAAAAAFD8DEEAAAAAwFwVQQAAAAAgRxZBAAAAAEAkFEEAAAAAHIM6QQAAAACAEwxBAAAAAID7D0EAAAAAYFQZQQAAAACA2BBBAAAAAEAGCUEAAAAAsMQSQQAAAAB4vxNBAAAAAGByFEEAAAAAAO4LQQAAAAAAfBVBAAAAAEDoDUEAAAAAYBAMQQAAAAAw/RNBAAAAAGA2HkEAAAAA1HwdQQAAAAAA2wpBAAAAAABMDUEAAAAAAGoIQQAAAABg4xZBAAAAAEBfD0EAAAAAYEIMQQAAAACgDhVBAAAAAGBUGUEAAAAAYL8MQQAAAADAXBVBAAAAAEB3C0EAAAAA0CYIQQAAAAAQIDZBAAAAAKDwGUEAAAAAgIQOQQAAAACAhA5BAAAAAMDNB0EAAAAAgOgOQQAAAADgjBpBAAAAAOA5E0EAAAAA0OgJQQAAAADgORNBAAAAAPCnHEEAAAAAICEEQQAAAABAdxtBAAAAAADbGkEAAAAAsB0ZQQAAAABQpApBAAAAAMA+CkEAAAAAAGoIQQAAAACAhA5BAAAAAGDFC0EAAAAAwLULQQAAAACyFyNBAAAAAKAOJUEAAAAAgAcOQQAAAADIjyZBAAAAAECtEkEAAAAAQF8PQQAAAADAXBVBAAAAAGDjFkEAAAAAYK0fQQAAAACAwBRBAAAAAOCADEEAAAAA4MIRQQAAAAAgZRFBAAAAALDGCkEAAAAAkAUgQQAAAADg1wpBAAAAAOyiFkEAAAAA4DkTQQAAAAAwhhJBAAAAAICiCUEAAAAAwK8MQQAAAADA6xJBAAAAAEAkBEEAAAAAgBMcQQAAAACgDgVBAAAAAMDBCUEAAAAAANsKQQAAAABQLRlBAAAAACDWI0EAAAAAgMAEQQAAAADWKBBBAAAAAMAgD0EAAAAAgMAUQQAAAAAYfhRBAAAAABD8K0EAAAAAwPcQQQAAAADELAxBAAAAALCaKUEAAAAAgDEHQQAAAACAwARBAAAAAICEDkEAAAAAwD4KQQAAAACoARBBAAAAAEB3G0EAAAAA4C0VQQAAAACQghBB",
           "dtype": "f8",
           "shape": "144"
          },
          "bdata": "AAAAAODIEEEAAAAAMB8PQQAAAADgeg1BAAAAAGDjFkEAAAAA0DQOQQAAAAAAvQ9BAAAAAAAXEUEAAAAANOwWQQAAAADgGxhBAAAAAEAkFEEAAAAAAEwNQQAAAACwTRFBAAAAAEB9CkEAAAAA4MgQQQAAAADgJgJBAAAAANASI0EAAAAAwD4KQQAAAACAMRdBAAAAAKAOFUEAAAAAoJcTQQAAAAAAiBNBAAAAAABeCkEAAAAApjkWQQAAAAAk+xVBAAAAAODIEEEAAAAAoNIOQQAAAABQ2hFBAAAAAJDnFEEAAAAAAEwNQQAAAABAdwtBAAAAAGByFEEAAAAAmDM2QQAAAACATwJBAAAAAIATDEEAAAAA+HkQQQAAAABQ6g9BAAAAAABqCEEAAAAAwK8MQQAAAAAAghRBAAAAAADhCUEAAAAAgBMMQQAAAADohSRBAAAAAEB3C0EAAAAAUJ4bQQAAAAAg3BJBAAAAAFD8DEEAAAAAwFwVQQAAAAAgRxZBAAAAAEAkFEEAAAAAHIM6QQAAAACAEwxBAAAAAID7D0EAAAAAYFQZQQAAAACA2BBBAAAAAEAGCUEAAAAAsMQSQQAAAAB4vxNBAAAAAGByFEEAAAAAAO4LQQAAAAAAfBVBAAAAAEDoDUEAAAAAYBAMQQAAAAAw/RNBAAAAAGA2HkEAAAAA1HwdQQAAAAAA2wpBAAAAAABMDUEAAAAAAGoIQQAAAABg4xZBAAAAAEBfD0EAAAAAYEIMQQAAAACgDhVBAAAAAGBUGUEAAAAAYL8MQQAAAADAXBVBAAAAAEB3C0EAAAAA0CYIQQAAAAAQIDZBAAAAAKDwGUEAAAAAgIQOQQAAAACAhA5BAAAAAMDNB0EAAAAAgOgOQQAAAADgjBpBAAAAAOA5E0EAAAAA0OgJQQAAAADgORNBAAAAAPCnHEEAAAAAICEEQQAAAABAdxtBAAAAAADbGkEAAAAAsB0ZQQAAAABQpApBAAAAAMA+CkEAAAAAAGoIQQAAAACAhA5BAAAAAGDFC0EAAAAAwLULQQAAAACyFyNBAAAAAKAOJUEAAAAAgAcOQQAAAADIjyZBAAAAAECtEkEAAAAAQF8PQQAAAADAXBVBAAAAAGDjFkEAAAAAYK0fQQAAAACAwBRBAAAAAOCADEEAAAAA4MIRQQAAAAAgZRFBAAAAALDGCkEAAAAAkAUgQQAAAADg1wpBAAAAAOyiFkEAAAAA4DkTQQAAAAAwhhJBAAAAAICiCUEAAAAAwK8MQQAAAADA6xJBAAAAAEAkBEEAAAAAgBMcQQAAAACgDgVBAAAAAMDBCUEAAAAAANsKQQAAAABQLRlBAAAAACDWI0EAAAAAgMAEQQAAAADWKBBBAAAAAMAgD0EAAAAAgMAUQQAAAAAYfhRBAAAAABD8K0EAAAAAwPcQQQAAAADELAxBAAAAALCaKUEAAAAAgDEHQQAAAACAwARBAAAAAICEDkEAAAAAwD4KQQAAAACoARBBAAAAAEB3G0EAAAAA4C0VQQAAAACQghBB",
          "dtype": "f8"
         },
         "yaxis": "y"
        }
       ],
       "layout": {
        "autosize": true,
        "legend": {
         "tracegroupgap": 0
        },
        "template": {
         "data": {
          "bar": [
           {
            "error_x": {
             "color": "#2a3f5f"
            },
            "error_y": {
             "color": "#2a3f5f"
            },
            "marker": {
             "line": {
              "color": "#E5ECF6",
              "width": 0.5
             },
             "pattern": {
              "fillmode": "overlay",
              "size": 10,
              "solidity": 0.2
             }
            },
            "type": "bar"
           }
          ],
          "barpolar": [
           {
            "marker": {
             "line": {
              "color": "#E5ECF6",
              "width": 0.5
             },
             "pattern": {
              "fillmode": "overlay",
              "size": 10,
              "solidity": 0.2
             }
            },
            "type": "barpolar"
           }
          ],
          "carpet": [
           {
            "aaxis": {
             "endlinecolor": "#2a3f5f",
             "gridcolor": "white",
             "linecolor": "white",
             "minorgridcolor": "white",
             "startlinecolor": "#2a3f5f"
            },
            "baxis": {
             "endlinecolor": "#2a3f5f",
             "gridcolor": "white",
             "linecolor": "white",
             "minorgridcolor": "white",
             "startlinecolor": "#2a3f5f"
            },
            "type": "carpet"
           }
          ],
          "choropleth": [
           {
            "colorbar": {
             "outlinewidth": 0,
             "ticks": ""
            },
            "type": "choropleth"
           }
          ],
          "contour": [
           {
            "colorbar": {
             "outlinewidth": 0,
             "ticks": ""
            },
            "colorscale": [
             [
              0,
              "#0d0887"
             ],
             [
              0.1111111111111111,
              "#46039f"
             ],
             [
              0.2222222222222222,
              "#7201a8"
             ],
             [
              0.3333333333333333,
              "#9c179e"
             ],
             [
              0.4444444444444444,
              "#bd3786"
             ],
             [
              0.5555555555555556,
              "#d8576b"
             ],
             [
              0.6666666666666666,
              "#ed7953"
             ],
             [
              0.7777777777777778,
              "#fb9f3a"
             ],
             [
              0.8888888888888888,
              "#fdca26"
             ],
             [
              1,
              "#f0f921"
             ]
            ],
            "type": "contour"
           }
          ],
          "contourcarpet": [
           {
            "colorbar": {
             "outlinewidth": 0,
             "ticks": ""
            },
            "type": "contourcarpet"
           }
          ],
          "heatmap": [
           {
            "colorbar": {
             "outlinewidth": 0,
             "ticks": ""
            },
            "colorscale": [
             [
              0,
              "#0d0887"
             ],
             [
              0.1111111111111111,
              "#46039f"
             ],
             [
              0.2222222222222222,
              "#7201a8"
             ],
             [
              0.3333333333333333,
              "#9c179e"
             ],
             [
              0.4444444444444444,
              "#bd3786"
             ],
             [
              0.5555555555555556,
              "#d8576b"
             ],
             [
              0.6666666666666666,
              "#ed7953"
             ],
             [
              0.7777777777777778,
              "#fb9f3a"
             ],
             [
              0.8888888888888888,
              "#fdca26"
             ],
             [
              1,
              "#f0f921"
             ]
            ],
            "type": "heatmap"
           }
          ],
          "histogram": [
           {
            "marker": {
             "pattern": {
              "fillmode": "overlay",
              "size": 10,
              "solidity": 0.2
             }
            },
            "type": "histogram"
           }
          ],
          "histogram2d": [
           {
            "colorbar": {
             "outlinewidth": 0,
             "ticks": ""
            },
            "colorscale": [
             [
              0,
              "#0d0887"
             ],
             [
              0.1111111111111111,
              "#46039f"
             ],
             [
              0.2222222222222222,
              "#7201a8"
             ],
             [
              0.3333333333333333,
              "#9c179e"
             ],
             [
              0.4444444444444444,
              "#bd3786"
             ],
             [
              0.5555555555555556,
              "#d8576b"
             ],
             [
              0.6666666666666666,
              "#ed7953"
             ],
             [
              0.7777777777777778,
              "#fb9f3a"
             ],
             [
              0.8888888888888888,
              "#fdca26"
             ],
             [
              1,
              "#f0f921"
             ]
            ],
            "type": "histogram2d"
           }
          ],
          "histogram2dcontour": [
           {
            "colorbar": {
             "outlinewidth": 0,
             "ticks": ""
            },
            "colorscale": [
             [
              0,
              "#0d0887"
             ],
             [
              0.1111111111111111,
              "#46039f"
             ],
             [
              0.2222222222222222,
              "#7201a8"
             ],
             [
              0.3333333333333333,
              "#9c179e"
             ],
             [
              0.4444444444444444,
              "#bd3786"
             ],
             [
              0.5555555555555556,
              "#d8576b"
             ],
             [
              0.6666666666666666,
              "#ed7953"
             ],
             [
              0.7777777777777778,
              "#fb9f3a"
             ],
             [
              0.8888888888888888,
              "#fdca26"
             ],
             [
              1,
              "#f0f921"
             ]
            ],
            "type": "histogram2dcontour"
           }
          ],
          "mesh3d": [
           {
            "colorbar": {
             "outlinewidth": 0,
             "ticks": ""
            },
            "type": "mesh3d"
           }
          ],
          "parcoords": [
           {
            "line": {
             "colorbar": {
              "outlinewidth": 0,
              "ticks": ""
             }
            },
            "type": "parcoords"
           }
          ],
          "pie": [
           {
            "automargin": true,
            "type": "pie"
           }
          ],
          "scatter": [
           {
            "fillpattern": {
             "fillmode": "overlay",
             "size": 10,
             "solidity": 0.2
            },
            "type": "scatter"
           }
          ],
          "scatter3d": [
           {
            "line": {
             "colorbar": {
              "outlinewidth": 0,
              "ticks": ""
             }
            },
            "marker": {
             "colorbar": {
              "outlinewidth": 0,
              "ticks": ""
             }
            },
            "type": "scatter3d"
           }
          ],
          "scattercarpet": [
           {
            "marker": {
             "colorbar": {
              "outlinewidth": 0,
              "ticks": ""
             }
            },
            "type": "scattercarpet"
           }
          ],
          "scattergeo": [
           {
            "marker": {
             "colorbar": {
              "outlinewidth": 0,
              "ticks": ""
             }
            },
            "type": "scattergeo"
           }
          ],
          "scattergl": [
           {
            "marker": {
             "colorbar": {
              "outlinewidth": 0,
              "ticks": ""
             }
            },
            "type": "scattergl"
           }
          ],
          "scattermap": [
           {
            "marker": {
             "colorbar": {
              "outlinewidth": 0,
              "ticks": ""
             }
            },
            "type": "scattermap"
           }
          ],
          "scattermapbox": [
           {
            "marker": {
             "colorbar": {
              "outlinewidth": 0,
              "ticks": ""
             }
            },
            "type": "scattermapbox"
           }
          ],
          "scatterpolar": [
           {
            "marker": {
             "colorbar": {
              "outlinewidth": 0,
              "ticks": ""
             }
            },
            "type": "scatterpolar"
           }
          ],
          "scatterpolargl": [
           {
            "marker": {
             "colorbar": {
              "outlinewidth": 0,
              "ticks": ""
             }
            },
            "type": "scatterpolargl"
           }
          ],
          "scatterternary": [
           {
            "marker": {
             "colorbar": {
              "outlinewidth": 0,
              "ticks": ""
             }
            },
            "type": "scatterternary"
           }
          ],
          "surface": [
           {
            "colorbar": {
             "outlinewidth": 0,
             "ticks": ""
            },
            "colorscale": [
             [
              0,
              "#0d0887"
             ],
             [
              0.1111111111111111,
              "#46039f"
             ],
             [
              0.2222222222222222,
              "#7201a8"
             ],
             [
              0.3333333333333333,
              "#9c179e"
             ],
             [
              0.4444444444444444,
              "#bd3786"
             ],
             [
              0.5555555555555556,
              "#d8576b"
             ],
             [
              0.6666666666666666,
              "#ed7953"
             ],
             [
              0.7777777777777778,
              "#fb9f3a"
             ],
             [
              0.8888888888888888,
              "#fdca26"
             ],
             [
              1,
              "#f0f921"
             ]
            ],
            "type": "surface"
           }
          ],
          "table": [
           {
            "cells": {
             "fill": {
              "color": "#EBF0F8"
             },
             "line": {
              "color": "white"
             }
            },
            "header": {
             "fill": {
              "color": "#C8D4E3"
             },
             "line": {
              "color": "white"
             }
            },
            "type": "table"
           }
          ]
         },
         "layout": {
          "annotationdefaults": {
           "arrowcolor": "#2a3f5f",
           "arrowhead": 0,
           "arrowwidth": 1
          },
          "autotypenumbers": "strict",
          "coloraxis": {
           "colorbar": {
            "outlinewidth": 0,
            "ticks": ""
           }
          },
          "colorscale": {
           "diverging": [
            [
             0,
             "#8e0152"
            ],
            [
             0.1,
             "#c51b7d"
            ],
            [
             0.2,
             "#de77ae"
            ],
            [
             0.3,
             "#f1b6da"
            ],
            [
             0.4,
             "#fde0ef"
            ],
            [
             0.5,
             "#f7f7f7"
            ],
            [
             0.6,
             "#e6f5d0"
            ],
            [
             0.7,
             "#b8e186"
            ],
            [
             0.8,
             "#7fbc41"
            ],
            [
             0.9,
             "#4d9221"
            ],
            [
             1,
             "#276419"
            ]
           ],
           "sequential": [
            [
             0,
             "#0d0887"
            ],
            [
             0.1111111111111111,
             "#46039f"
            ],
            [
             0.2222222222222222,
             "#7201a8"
            ],
            [
             0.3333333333333333,
             "#9c179e"
            ],
            [
             0.4444444444444444,
             "#bd3786"
            ],
            [
             0.5555555555555556,
             "#d8576b"
            ],
            [
             0.6666666666666666,
             "#ed7953"
            ],
            [
             0.7777777777777778,
             "#fb9f3a"
            ],
            [
             0.8888888888888888,
             "#fdca26"
            ],
            [
             1,
             "#f0f921"
            ]
           ],
           "sequentialminus": [
            [
             0,
             "#0d0887"
            ],
            [
             0.1111111111111111,
             "#46039f"
            ],
            [
             0.2222222222222222,
             "#7201a8"
            ],
            [
             0.3333333333333333,
             "#9c179e"
            ],
            [
             0.4444444444444444,
             "#bd3786"
            ],
            [
             0.5555555555555556,
             "#d8576b"
            ],
            [
             0.6666666666666666,
             "#ed7953"
            ],
            [
             0.7777777777777778,
             "#fb9f3a"
            ],
            [
             0.8888888888888888,
             "#fdca26"
            ],
            [
             1,
             "#f0f921"
            ]
           ]
          },
          "colorway": [
           "#636efa",
           "#EF553B",
           "#00cc96",
           "#ab63fa",
           "#FFA15A",
           "#19d3f3",
           "#FF6692",
           "#B6E880",
           "#FF97FF",
           "#FECB52"
          ],
          "font": {
           "color": "#2a3f5f"
          },
          "geo": {
           "bgcolor": "white",
           "lakecolor": "white",
           "landcolor": "#E5ECF6",
           "showlakes": true,
           "showland": true,
           "subunitcolor": "white"
          },
          "hoverlabel": {
           "align": "left"
          },
          "hovermode": "closest",
          "mapbox": {
           "style": "light"
          },
          "paper_bgcolor": "white",
          "plot_bgcolor": "#E5ECF6",
          "polar": {
           "angularaxis": {
            "gridcolor": "white",
            "linecolor": "white",
            "ticks": ""
           },
           "bgcolor": "#E5ECF6",
           "radialaxis": {
            "gridcolor": "white",
            "linecolor": "white",
            "ticks": ""
           }
          },
          "scene": {
           "xaxis": {
            "backgroundcolor": "#E5ECF6",
            "gridcolor": "white",
            "gridwidth": 2,
            "linecolor": "white",
            "showbackground": true,
            "ticks": "",
            "zerolinecolor": "white"
           },
           "yaxis": {
            "backgroundcolor": "#E5ECF6",
            "gridcolor": "white",
            "gridwidth": 2,
            "linecolor": "white",
            "showbackground": true,
            "ticks": "",
            "zerolinecolor": "white"
           },
           "zaxis": {
            "backgroundcolor": "#E5ECF6",
            "gridcolor": "white",
            "gridwidth": 2,
            "linecolor": "white",
            "showbackground": true,
            "ticks": "",
            "zerolinecolor": "white"
           }
          },
          "shapedefaults": {
           "line": {
            "color": "#2a3f5f"
           }
          },
          "ternary": {
           "aaxis": {
            "gridcolor": "white",
            "linecolor": "white",
            "ticks": ""
           },
           "baxis": {
            "gridcolor": "white",
            "linecolor": "white",
            "ticks": ""
           },
           "bgcolor": "#E5ECF6",
           "caxis": {
            "gridcolor": "white",
            "linecolor": "white",
            "ticks": ""
           }
          },
          "title": {
           "x": 0.05
          },
          "xaxis": {
           "automargin": true,
           "gridcolor": "white",
           "linecolor": "white",
           "ticks": "",
           "title": {
            "standoff": 15
           },
           "zerolinecolor": "white",
           "zerolinewidth": 2
          },
          "yaxis": {
           "automargin": true,
           "gridcolor": "white",
           "linecolor": "white",
           "ticks": "",
           "title": {
            "standoff": 15
           },
           "zerolinecolor": "white",
           "zerolinewidth": 2
          }
         }
        },
        "title": {
         "text": "Tax Rates vs Home Prices"
        },
        "xaxis": {
         "anchor": "y",
         "autorange": true,
         "domain": [
          0,
          1
         ],
         "range": [
          7.796098430813124,
          78.08390156918688
         ],
         "title": {
          "text": "Mill Rate "
         },
         "type": "linear"
        },
        "yaxis": {
         "anchor": "x",
         "autorange": true,
         "domain": [
          0,
          1
         ],
         "range": [
          17585.436893203878,
          1868614.5631067962
         ],
         "title": {
          "text": "Median Home Sale Price ($)"
         },
         "type": "linear"
        }
       }
      },
      "image/png": "[encoded data removed]"
     },
     "metadata": {},
     "output_type": "display_data"
    },
    {
     "data": {
      "application/vnd.plotly.v1+json": {
       "config": {
        "plotlyServerURL": "https://plot.ly"
       },
       "data": [
        {
         "hovertemplate": "Per Capita Income ($)=%{x}<br>Median Home Sale Price ($)=%{y}<br>Sales Volume=%{marker.size}<br>Population=%{marker.color}<extra></extra>",
         "legendgroup": "",
         "marker": {
          "color": {
           "_inputArray": {
            "0": 6313,
            "1": 39680,
            "10": 41013,
            "100": 42558,
            "101": 4495,
            "102": 8192,
            "103": 3559,
            "104": 4785,
            "105": 76745,
            "106": 5966,
            "107": 44726,
            "108": 23424,
            "109": 49737,
            "11": 9276,
            "110": 38710,
            "111": 5992,
            "112": 252195,
            "113": 8860,
            "114": 35655,
            "115": 103807,
            "116": 33202,
            "117": 15679,
            "118": 19202,
            "119": 30072,
            "12": 5600,
            "120": 73577,
            "121": 70775,
            "122": 1829,
            "123": 60106,
            "124": 89931,
            "125": 3161,
            "126": 6690,
            "127": 225141,
            "128": 37816,
            "129": 44023,
            "13": 52444,
            "130": 130551,
            "131": 14157,
            "132": 17200,
            "133": 53599,
            "134": 12949,
            "135": 32832,
            "136": 22718,
            "137": 55659,
            "138": 56945,
            "139": 25111,
            "14": 297456,
            "140": 33848,
            "141": 16474,
            "142": 19669,
            "143": 16413,
            "15": 3015,
            "16": 119071,
            "17": 31562,
            "18": 19135,
            "19": 2664,
            "2": 8819,
            "20": 21811,
            "21": 4452,
            "22": 56515,
            "23": 7751,
            "24": 32390,
            "25": 2770,
            "26": 11029,
            "27": 2538,
            "28": 24507,
            "29": 29365,
            "3": 39592,
            "30": 169780,
            "31": 40316,
            "32": 8500,
            "33": 26502,
            "34": 10637,
            "35": 18339,
            "36": 106482,
            "37": 58657,
            "38": 38349,
            "39": 25303,
            "4": 7557,
            "40": 3577,
            "41": 13482,
            "42": 86244,
            "43": 12522,
            "44": 50841,
            "45": 3799,
            "46": 69619,
            "47": 6185,
            "48": 21906,
            "49": 114021,
            "5": 12841,
            "50": 25610,
            "51": 80642,
            "52": 44490,
            "53": 3637,
            "54": 252888,
            "55": 11049,
            "56": 19125,
            "57": 5686,
            "58": 35964,
            "59": 12565,
            "6": 40485,
            "60": 14326,
            "61": 8496,
            "62": 16398,
            "63": 5139,
            "64": 34806,
            "65": 125400,
            "66": 54279,
            "67": 125753,
            "68": 16461,
            "69": 8855,
            "7": 11433,
            "70": 99712,
            "71": 102099,
            "72": 34150,
            "73": 39097,
            "74": 4682,
            "75": 64421,
            "76": 150554,
            "77": 37129,
            "78": 23643,
            "79": 14529,
            "8": 35243,
            "80": 270761,
            "81": 58045,
            "82": 62370,
            "83": 55574,
            "84": 3258,
            "85": 6286,
            "86": 47601,
            "87": 172607,
            "88": 90133,
            "89": 14319,
            "9": 7192,
            "90": 18419,
            "91": 27550,
            "92": 30874,
            "93": 35384,
            "94": 24437,
            "95": 19553,
            "96": 9078,
            "97": 20506,
            "98": 18267,
            "99": 46337,
            "bdata": "qRgAAACbAABzIgAAqJoAAIUdAAApMgAAJZ4AAKksAACriQAAGBwAADWgAAA8JAAA4BUAANzMAADwiQQAxwsAAB/RAQBKewAAv0oAAGgKAAAzVQAAZBEAAMPcAABHHgAAhn4AANIKAAAVKwAA6gkAALtfAAC1cgAANJcCAHydAAA0IQAAhmcAAI0pAACjRwAA8p8BACHlAADNlQAA12IAAPkNAACqNAAA5FABAOowAACZxgAA1w4AAPMPAQApGAAAklUAAGW9AQAKZAAAAjsBAMqtAAA1DgAA2NsDACkrAAC1SgAANhYAAHyMAAAVMQAA9jcAADAhAAAOQAAAExQAAPaHAADY6QEAB9QAADnrAQBNQAAAlyIAAICFAQDTjgEAZoUAALmYAABKEgAApfsAABpMAgAJkQAAW1wAAME4AACpIQQAveIAAKLzAAAW2QAAugwAAI4YAADxuQAAP6ICABVgAQDvNwAA80cAAJ5rAACaeAAAOIoAAHVfAABhTAAAdiMAABpQAABbRwAAAbUAAD6mAACPEQAAACAAAOcNAACxEgAAySsBAE4XAAC2rgAAgFsAAEnCAAA2lwAAaBcAACPZAwCcIgAAR4sAAH+VAQCygQAAPz0AAAJLAAB4dQAAaR8BAHcUAQAlBwAAyuoAAEtfAQBZDAAAIhoAAHVvAwC4kwAA96sAAPf9AQBNNwAAMEMAAF/RAACVMgAAQIAAAL5YAABr2QAAcd4AABdiAAA4hAAAWkAAANVMAAAdQAAA",
            "dtype": "i4",
            "shape": "144"
           },
           "bdata": "qRgAAACbAABzIgAAqJoAAIUdAAApMgAAJZ4AAKksAACriQAAGBwAADWgAAA8JAAA4BUAANzMAADwiQQAxwsAAB/RAQBKewAAv0oAAGgKAAAzVQAAZBEAAMPcAABHHgAAhn4AANIKAAAVKwAA6gkAALtfAAC1cgAANJcCAHydAAA0IQAAhmcAAI0pAACjRwAA8p8BACHlAADNlQAA12IAAPkNAACqNAAA5FABAOowAACZxgAA1w4AAPMPAQApGAAAklUAAGW9AQAKZAAAAjsBAMqtAAA1DgAA2NsDACkrAAC1SgAANhYAAHyMAAAVMQAA9jcAADAhAAAOQAAAExQAAPaHAADY6QEAB9QAADnrAQBNQAAAlyIAAICFAQDTjgEAZoUAALmYAABKEgAApfsAABpMAgAJkQAAW1wAAME4AACpIQQAveIAAKLzAAAW2QAAugwAAI4YAADxuQAAP6ICABVgAQDvNwAA80cAAJ5rAACaeAAAOIoAAHVfAABhTAAAdiMAABpQAABbRwAAAbUAAD6mAACPEQAAACAAAOcNAACxEgAAySsBAE4XAAC2rgAAgFsAAEnCAAA2lwAAaBcAACPZAwCcIgAAR4sAAH+VAQCygQAAPz0AAAJLAAB4dQAAaR8BAHcUAQAlBwAAyuoAAEtfAQBZDAAAIhoAAHVvAwC4kwAA96sAAPf9AQBNNwAAMEMAAF/RAACVMgAAQIAAAL5YAABr2QAAcd4AABdiAAA4hAAAWkAAANVMAAAdQAAA",
           "dtype": "i4"
          },
          "coloraxis": "coloraxis",
          "size": {
           "_inputArray": {
            "0": 68,
            "1": 366,
            "10": 405,
            "100": 308,
            "101": 97,
            "102": 121,
            "103": 37,
            "104": 133,
            "105": 963,
            "106": 120,
            "107": 638,
            "108": 2,
            "109": 723,
            "11": 101,
            "110": 710,
            "111": 58,
            "112": 2686,
            "113": 119,
            "114": 566,
            "115": 1392,
            "116": 378,
            "117": 191,
            "118": 275,
            "119": 381,
            "12": 39,
            "120": 1108,
            "121": 789,
            "122": 21,
            "123": 651,
            "124": 31,
            "125": 55,
            "126": 139,
            "127": 2385,
            "128": 642,
            "129": 467,
            "13": 811,
            "130": 1416,
            "131": 244,
            "132": 344,
            "133": 653,
            "134": 104,
            "135": 565,
            "136": 332,
            "137": 354,
            "138": 625,
            "139": 291,
            "14": 13,
            "140": 418,
            "141": 185,
            "142": 314,
            "143": 215,
            "15": 56,
            "16": 1381,
            "17": 437,
            "18": 241,
            "19": 40,
            "2": 94,
            "20": 270,
            "21": 43,
            "22": 548,
            "23": 81,
            "24": 369,
            "25": 56,
            "26": 127,
            "27": 73,
            "28": 363,
            "29": 393,
            "3": 530,
            "30": 1607,
            "31": 619,
            "32": 1,
            "33": 160,
            "34": 136,
            "35": 290,
            "36": 954,
            "37": 719,
            "38": 531,
            "39": 270,
            "4": 94,
            "40": 52,
            "41": 212,
            "42": 949,
            "43": 230,
            "44": 746,
            "45": 68,
            "46": 885,
            "47": 137,
            "48": 276,
            "49": 1778,
            "5": 163,
            "50": 363,
            "51": 803,
            "52": 587,
            "53": 44,
            "54": 1275,
            "55": 134,
            "56": 208,
            "57": 112,
            "58": 478,
            "59": 173,
            "6": 431,
            "60": 165,
            "61": 111,
            "62": 261,
            "63": 82,
            "64": 548,
            "65": 1230,
            "66": 288,
            "67": 1277,
            "68": 266,
            "69": 123,
            "7": 138,
            "70": 1069,
            "71": 1302,
            "72": 487,
            "73": 472,
            "74": 77,
            "75": 807,
            "76": 1234,
            "77": 707,
            "78": 385,
            "79": 169,
            "8": 521,
            "80": 1397,
            "81": 445,
            "82": 3,
            "83": 805,
            "84": 49,
            "85": 92,
            "86": 512,
            "87": 1932,
            "88": 1067,
            "89": 279,
            "9": 101,
            "90": 363,
            "91": 247,
            "92": 444,
            "93": 428,
            "94": 311,
            "95": 241,
            "96": 152,
            "97": 264,
            "98": 286,
            "99": 818,
            "bdata": "RABuAV4AEgJeAKMArwGKAAkCZQCVAWUAJwArAw0AOABlBbUB8QAoAA4BKwAkAlEAcQE4AH8ASQBrAYkBRwZrAgEAoACIACIBugPPAhMCDgE0ANQAtQPmAOoCRAB1A4kAFAHyBmsBIwNLAiwA+wSGANAAcADeAa0ApQBvAAUBUgAkAs4EIAH9BAoBewAtBBYF5wHYAU0AJwPSBMMCgQGpAHUFvQEDACUDMQBcAAACjAcrBBcBawH3ALwBrAE3AfEAmAAIAR4BMgM0AWEAeQAlAIUAwwN4AH4CAgDTAsYCOgB+CncANgJwBXoBvwATAX0BVAQVAxUAiwIfADcAiwBRCYIC0wGIBfQAWAGNAmgANQJMAWIBcQIjAaIBuQA6AdcA",
            "dtype": "i2",
            "shape": "144"
           },
           "bdata": "RABuAV4AEgJeAKMArwGKAAkCZQCVAWUAJwArAw0AOABlBbUB8QAoAA4BKwAkAlEAcQE4AH8ASQBrAYkBRwZrAgEAoACIACIBugPPAhMCDgE0ANQAtQPmAOoCRAB1A4kAFAHyBmsBIwNLAiwA+wSGANAAcADeAa0ApQBvAAUBUgAkAs4EIAH9BAoBewAtBBYF5wHYAU0AJwPSBMMCgQGpAHUFvQEDACUDMQBcAAACjAcrBBcBawH3ALwBrAE3AfEAmAAIAR4BMgM0AWEAeQAlAIUAwwN4AH4CAgDTAsYCOgB+CncANgJwBXoBvwATAX0BVAQVAxUAiwIfADcAiwBRCYIC0wGIBfQAWAGNAmgANQJMAWIBcQIjAaIBuQA6AdcA",
           "dtype": "i2"
          },
          "sizemode": "area",
          "sizeref": 6.715,
          "symbol": "circle"
         },
         "mode": "markers",
         "name": "",
         "orientation": "v",
         "showlegend": false,
         "type": "scatter",
         "x": {
          "_inputArray": {
           "0": 44803,
           "1": 30285,
           "10": 43959,
           "100": 47749,
           "101": 74277,
           "102": 53025,
           "103": 37228,
           "104": 74580,
           "105": 49136,
           "106": 90874,
           "107": 65329,
           "108": 43733,
           "109": 53513,
           "11": 48142,
           "110": 55478,
           "111": 36079,
           "112": 56283,
           "113": 31599,
           "114": 58872,
           "115": 39438,
           "116": 49651,
           "117": 38710,
           "118": 35800,
           "119": 58335,
           "12": 38676,
           "120": 33025,
           "121": 51689,
           "122": 47422,
           "123": 38245,
           "124": 42662,
           "125": 73364,
           "126": 72769,
           "127": 25082,
           "128": 44931,
           "129": 41993,
           "13": 50107,
           "130": 58140,
           "131": 59116,
           "132": 103578,
           "133": 46967,
           "134": 37879,
           "135": 92796,
           "136": 36542,
           "137": 21427,
           "138": 41596,
           "139": 40361,
           "14": 24430,
           "140": 42098,
           "141": 70114,
           "142": 61650,
           "143": 49159,
           "15": 73434,
           "16": 36535,
           "17": 55684,
           "18": 54684,
           "19": 51044,
           "2": 46602,
           "20": 51836,
           "21": 35586,
           "22": 54866,
           "23": 41045,
           "24": 46996,
           "25": 48860,
           "26": 51078,
           "27": 69610,
           "28": 47578,
           "29": 47638,
           "3": 74617,
           "30": 36512,
           "31": 129829,
           "32": 47196,
           "33": 37266,
           "34": 42988,
           "35": 51773,
           "36": 29789,
           "37": 32860,
           "38": 47751,
           "39": 40347,
           "4": 43558,
           "40": 42506,
           "41": 79465,
           "42": 37046,
           "43": 60415,
           "44": 55426,
           "45": 41937,
           "46": 60913,
           "47": 58616,
           "48": 54421,
           "49": 108412,
           "5": 42714,
           "50": 35144,
           "51": 38423,
           "52": 62405,
           "53": 41287,
           "54": 22055,
           "55": 49370,
           "56": 54348,
           "57": 62127,
           "58": 32478,
           "59": 48583,
           "6": 49967,
           "60": 47962,
           "61": 41696,
           "62": 49908,
           "63": 79113,
           "64": 62752,
           "65": 37708,
           "66": 21071,
           "67": 33873,
           "68": 53127,
           "69": 44539,
           "7": 70042,
           "70": 38345,
           "71": 51837,
           "72": 51001,
           "73": 35845,
           "74": 47373,
           "75": 35797,
           "76": 24702,
           "77": 114884,
           "78": 51298,
           "79": 59386,
           "8": 43233,
           "80": 27607,
           "81": 26242,
           "82": 40507,
           "83": 56517,
           "84": 44918,
           "85": 40011,
           "86": 50363,
           "87": 52812,
           "88": 31459,
           "89": 72875,
           "9": 47482,
           "90": 55191,
           "91": 56567,
           "92": 30511,
           "93": 40869,
           "94": 40527,
           "95": 47819,
           "96": 39112,
           "97": 34206,
           "98": 75134,
           "99": 82810,
           "bdata": "AAAAAGDg5UAAAAAAQJPdQAAAAABAweZAAAAAAJA38kAAAAAAwETlQAAAAABA2+RAAAAAAOBl6EAAAAAAoBnxQAAAAAAgHOVAAAAAAEAv50AAAAAA4HblQAAAAADAgedAAAAAAIDi4kAAAAAAYHfoQAAAAACA29dAAAAAAKDt8UAAAAAA4NbhQAAAAACAMOtAAAAAAICz6kAAAAAAgOzoQAAAAACAT+lAAAAAAEBg4UAAAAAAQMrqQAAAAACgCuRAAAAAAIDy5kAAAAAAgNvnQAAAAADA8OhAAAAAAKD+8EAAAAAAQDvnQAAAAADAQudAAAAAAADU4UAAAAAAULL/QAAAAACAC+dAAAAAAEAy4kAAAAAAgP3kQAAAAACgR+lAAAAAAEAX3UAAAAAAgAvgQAAAAADgUOdAAAAAAGCz40AAAAAAQMHkQAAAAACQZvNAAAAAAMAW4kAAAAAA4H/tQAAAAABAEOtAAAAAACB65EAAAAAAIL7tQAAAAAAAn+xAAAAAAKCS6kAAAAAAwHf6QAAAAAAAKeFAAAAAAODC4kAAAAAAoHjuQAAAAADgKORAAAAAAMCJ1UAAAAAAQBvoQAAAAACAiepAAAAAAOBV7kAAAAAAgLffQAAAAADguOdAAAAAAEBr50AAAAAAAFzkQAAAAACAXuhAAAAAAJBQ80AAAAAAAKTuQAAAAACAaeJAAAAAAMCT1EAAAAAAIIrgQAAAAADg8OlAAAAAAGC/5UAAAAAAILniQAAAAACgT+lAAAAAACDn6EAAAAAAoIDhQAAAAACgIedAAAAAAKB64UAAAAAAgB/YQAAAAABADPxAAAAAAEAM6UAAAAAAQP/sQAAAAADA9dpAAAAAAICg2UAAAAAAYMfjQAAAAACgmOtAAAAAAMDu5UAAAAAAYInjQAAAAABgl+hAAAAAAIDJ6UAAAAAAwLjeQAAAAACwyvFAAAAAAODy6kAAAAAA4J7rQAAAAADAy91AAAAAAKD040AAAAAA4MnjQAAAAABgWedAAAAAAAAZ40AAAAAAwLPgQAAAAADgV/JAAAAAAKA39EAAAAAAoFDnQAAAAABQIvJAAAAAACDk6UAAAAAAgC3iQAAAAABANfJAAAAAAAD+50AAAAAAoC/2QAAAAAAg5u9AAAAAAKBa5UAAAAAAICHqQAAAAADAFutAAAAAAOCd4UAAAAAAYHvrQAAAAADA295AAAAAAAC/7EAAAAAAwEHjQAAAAABgPuhAAAAAAMDm4kAAAAAAAHvhQAAAAADge+xAAAAAACAg4EAAAAAAID3pQAAAAADAJ+dAAAAAAKCs4kAAAAAAwNTkQAAAAABA6fFAAAAAABDE8UAAAAAAgH7YQAAAAABg8OVAAAAAACCB5EAAAAAAgGPsQAAAAACA3exAAAAAAKBJ+UAAAAAA4O7mQAAAAADgfuJAAAAAAMCn9kAAAAAAwNfhQAAAAADA7NRAAAAAAIBP5EAAAAAAILXjQAAAAABAjuRAAAAAACAe8UAAAAAAQBruQAAAAADgAOhA",
           "dtype": "f8",
           "shape": "144"
          },
          "bdata": "AAAAAGDg5UAAAAAAQJPdQAAAAABAweZAAAAAAJA38kAAAAAAwETlQAAAAABA2+RAAAAAAOBl6EAAAAAAoBnxQAAAAAAgHOVAAAAAAEAv50AAAAAA4HblQAAAAADAgedAAAAAAIDi4kAAAAAAYHfoQAAAAACA29dAAAAAAKDt8UAAAAAA4NbhQAAAAACAMOtAAAAAAICz6kAAAAAAgOzoQAAAAACAT+lAAAAAAEBg4UAAAAAAQMrqQAAAAACgCuRAAAAAAIDy5kAAAAAAgNvnQAAAAADA8OhAAAAAAKD+8EAAAAAAQDvnQAAAAADAQudAAAAAAADU4UAAAAAAULL/QAAAAACAC+dAAAAAAEAy4kAAAAAAgP3kQAAAAACgR+lAAAAAAEAX3UAAAAAAgAvgQAAAAADgUOdAAAAAAGCz40AAAAAAQMHkQAAAAACQZvNAAAAAAMAW4kAAAAAA4H/tQAAAAABAEOtAAAAAACB65EAAAAAAIL7tQAAAAAAAn+xAAAAAAKCS6kAAAAAAwHf6QAAAAAAAKeFAAAAAAODC4kAAAAAAoHjuQAAAAADgKORAAAAAAMCJ1UAAAAAAQBvoQAAAAACAiepAAAAAAOBV7kAAAAAAgLffQAAAAADguOdAAAAAAEBr50AAAAAAAFzkQAAAAACAXuhAAAAAAJBQ80AAAAAAAKTuQAAAAACAaeJAAAAAAMCT1EAAAAAAIIrgQAAAAADg8OlAAAAAAGC/5UAAAAAAILniQAAAAACgT+lAAAAAACDn6EAAAAAAoIDhQAAAAACgIedAAAAAAKB64UAAAAAAgB/YQAAAAABADPxAAAAAAEAM6UAAAAAAQP/sQAAAAADA9dpAAAAAAICg2UAAAAAAYMfjQAAAAACgmOtAAAAAAMDu5UAAAAAAYInjQAAAAABgl+hAAAAAAIDJ6UAAAAAAwLjeQAAAAACwyvFAAAAAAODy6kAAAAAA4J7rQAAAAADAy91AAAAAAKD040AAAAAA4MnjQAAAAABgWedAAAAAAAAZ40AAAAAAwLPgQAAAAADgV/JAAAAAAKA39EAAAAAAoFDnQAAAAABQIvJAAAAAACDk6UAAAAAAgC3iQAAAAABANfJAAAAAAAD+50AAAAAAoC/2QAAAAAAg5u9AAAAAAKBa5UAAAAAAICHqQAAAAADAFutAAAAAAOCd4UAAAAAAYHvrQAAAAADA295AAAAAAAC/7EAAAAAAwEHjQAAAAABgPuhAAAAAAMDm4kAAAAAAAHvhQAAAAADge+xAAAAAACAg4EAAAAAAID3pQAAAAADAJ+dAAAAAAKCs4kAAAAAAwNTkQAAAAABA6fFAAAAAABDE8UAAAAAAgH7YQAAAAABg8OVAAAAAACCB5EAAAAAAgGPsQAAAAACA3exAAAAAAKBJ+UAAAAAA4O7mQAAAAADgfuJAAAAAAMCn9kAAAAAAwNfhQAAAAADA7NRAAAAAAIBP5EAAAAAAILXjQAAAAABAjuRAAAAAACAe8UAAAAAAQBruQAAAAADgAOhA",
          "dtype": "f8"
         },
         "xaxis": "x",
         "y": {
          "_inputArray": {
           "0": 275000,
           "1": 254950,
           "10": 240000,
           "100": 246000,
           "101": 739300,
           "102": 306000,
           "103": 257000,
           "104": 350000,
           "105": 375000,
           "106": 519000,
           "107": 340000,
           "108": 233500,
           "109": 291000,
           "11": 283500,
           "110": 285000,
           "111": 219350,
           "112": 525000,
           "113": 219900,
           "114": 370875,
           "115": 315000,
           "116": 303500,
           "117": 210000,
           "118": 235000,
           "119": 310000,
           "12": 217000,
           "120": 165000,
           "121": 460000,
           "122": 172500,
           "123": 211000,
           "124": 220000,
           "125": 412500,
           "126": 650000,
           "127": 170000,
           "128": 264757.5,
           "129": 255000,
           "13": 275000,
           "130": 340000,
           "131": 335750,
           "132": 917000,
           "133": 278000,
           "134": 230808.5,
           "135": 839000,
           "136": 190000,
           "137": 170000,
           "138": 250000,
           "139": 215000,
           "14": 148700,
           "140": 262250,
           "141": 450000,
           "142": 347000,
           "143": 270500,
           "15": 625000,
           "16": 215000,
           "17": 380000,
           "18": 345000,
           "19": 321000,
           "2": 241500,
           "20": 320000,
           "21": 216000,
           "22": 364137.5,
           "23": 360137,
           "24": 275000,
           "25": 252500,
           "26": 292500,
           "27": 342500,
           "28": 240000,
           "29": 225000,
           "3": 375000,
           "30": 335000,
           "31": 1455000,
           "32": 150000,
           "33": 230000,
           "34": 269950,
           "35": 261450,
           "36": 200000,
           "37": 235000,
           "38": 336000,
           "39": 212000,
           "4": 247450,
           "40": 230000,
           "41": 672500,
           "42": 225000,
           "43": 452500,
           "44": 309000,
           "45": 237450,
           "46": 350000,
           "47": 365000,
           "48": 330000,
           "49": 1737500,
           "5": 260000,
           "50": 230000,
           "51": 262000,
           "52": 415000,
           "53": 276000,
           "54": 205000,
           "55": 307500,
           "56": 323550,
           "57": 335000,
           "58": 228800,
           "59": 352000,
           "6": 280000,
           "60": 245000,
           "61": 229900,
           "62": 327500,
           "63": 495000,
           "64": 483125,
           "65": 220000,
           "66": 240000,
           "67": 200000,
           "68": 375000,
           "69": 257000,
           "7": 375565,
           "70": 231500,
           "71": 345000,
           "72": 415000,
           "73": 235500,
           "74": 350000,
           "75": 225000,
           "76": 197850,
           "77": 1450000,
           "78": 425000,
           "79": 250000,
           "8": 395000,
           "80": 250000,
           "81": 195000,
           "82": 253200,
           "83": 435000,
           "84": 315000,
           "85": 212250,
           "86": 315000,
           "87": 469500,
           "88": 164900,
           "89": 450000,
           "9": 330000,
           "90": 440000,
           "91": 411500,
           "92": 218250,
           "93": 215000,
           "94": 200000,
           "95": 250000,
           "96": 227500,
           "97": 227000,
           "98": 625625,
           "99": 690000,
           "bdata": "AAAAAODIEEEAAAAAMB8PQQAAAADgeg1BAAAAAGDjFkEAAAAA0DQOQQAAAAAAvQ9BAAAAAAAXEUEAAAAANOwWQQAAAADgGxhBAAAAAEAkFEEAAAAAAEwNQQAAAACwTRFBAAAAAEB9CkEAAAAA4MgQQQAAAADgJgJBAAAAANASI0EAAAAAwD4KQQAAAACAMRdBAAAAAKAOFUEAAAAAoJcTQQAAAAAAiBNBAAAAAABeCkEAAAAApjkWQQAAAAAk+xVBAAAAAODIEEEAAAAAoNIOQQAAAABQ2hFBAAAAAJDnFEEAAAAAAEwNQQAAAABAdwtBAAAAAGByFEEAAAAAmDM2QQAAAACATwJBAAAAAIATDEEAAAAA+HkQQQAAAABQ6g9BAAAAAABqCEEAAAAAwK8MQQAAAAAAghRBAAAAAADhCUEAAAAAgBMMQQAAAADohSRBAAAAAEB3C0EAAAAAUJ4bQQAAAAAg3BJBAAAAAFD8DEEAAAAAwFwVQQAAAAAgRxZBAAAAAEAkFEEAAAAAHIM6QQAAAACAEwxBAAAAAID7D0EAAAAAYFQZQQAAAACA2BBBAAAAAEAGCUEAAAAAsMQSQQAAAAB4vxNBAAAAAGByFEEAAAAAAO4LQQAAAAAAfBVBAAAAAEDoDUEAAAAAYBAMQQAAAAAw/RNBAAAAAGA2HkEAAAAA1HwdQQAAAAAA2wpBAAAAAABMDUEAAAAAAGoIQQAAAABg4xZBAAAAAEBfD0EAAAAAYEIMQQAAAACgDhVBAAAAAGBUGUEAAAAAYL8MQQAAAADAXBVBAAAAAEB3C0EAAAAA0CYIQQAAAAAQIDZBAAAAAKDwGUEAAAAAgIQOQQAAAACAhA5BAAAAAMDNB0EAAAAAgOgOQQAAAADgjBpBAAAAAOA5E0EAAAAA0OgJQQAAAADgORNBAAAAAPCnHEEAAAAAICEEQQAAAABAdxtBAAAAAADbGkEAAAAAsB0ZQQAAAABQpApBAAAAAMA+CkEAAAAAAGoIQQAAAACAhA5BAAAAAGDFC0EAAAAAwLULQQAAAACyFyNBAAAAAKAOJUEAAAAAgAcOQQAAAADIjyZBAAAAAECtEkEAAAAAQF8PQQAAAADAXBVBAAAAAGDjFkEAAAAAYK0fQQAAAACAwBRBAAAAAOCADEEAAAAA4MIRQQAAAAAgZRFBAAAAALDGCkEAAAAAkAUgQQAAAADg1wpBAAAAAOyiFkEAAAAA4DkTQQAAAAAwhhJBAAAAAICiCUEAAAAAwK8MQQAAAADA6xJBAAAAAEAkBEEAAAAAgBMcQQAAAACgDgVBAAAAAMDBCUEAAAAAANsKQQAAAABQLRlBAAAAACDWI0EAAAAAgMAEQQAAAADWKBBBAAAAAMAgD0EAAAAAgMAUQQAAAAAYfhRBAAAAABD8K0EAAAAAwPcQQQAAAADELAxBAAAAALCaKUEAAAAAgDEHQQAAAACAwARBAAAAAICEDkEAAAAAwD4KQQAAAACoARBBAAAAAEB3G0EAAAAA4C0VQQAAAACQghBB",
           "dtype": "f8",
           "shape": "144"
          },
          "bdata": "AAAAAODIEEEAAAAAMB8PQQAAAADgeg1BAAAAAGDjFkEAAAAA0DQOQQAAAAAAvQ9BAAAAAAAXEUEAAAAANOwWQQAAAADgGxhBAAAAAEAkFEEAAAAAAEwNQQAAAACwTRFBAAAAAEB9CkEAAAAA4MgQQQAAAADgJgJBAAAAANASI0EAAAAAwD4KQQAAAACAMRdBAAAAAKAOFUEAAAAAoJcTQQAAAAAAiBNBAAAAAABeCkEAAAAApjkWQQAAAAAk+xVBAAAAAODIEEEAAAAAoNIOQQAAAABQ2hFBAAAAAJDnFEEAAAAAAEwNQQAAAABAdwtBAAAAAGByFEEAAAAAmDM2QQAAAACATwJBAAAAAIATDEEAAAAA+HkQQQAAAABQ6g9BAAAAAABqCEEAAAAAwK8MQQAAAAAAghRBAAAAAADhCUEAAAAAgBMMQQAAAADohSRBAAAAAEB3C0EAAAAAUJ4bQQAAAAAg3BJBAAAAAFD8DEEAAAAAwFwVQQAAAAAgRxZBAAAAAEAkFEEAAAAAHIM6QQAAAACAEwxBAAAAAID7D0EAAAAAYFQZQQAAAACA2BBBAAAAAEAGCUEAAAAAsMQSQQAAAAB4vxNBAAAAAGByFEEAAAAAAO4LQQAAAAAAfBVBAAAAAEDoDUEAAAAAYBAMQQAAAAAw/RNBAAAAAGA2HkEAAAAA1HwdQQAAAAAA2wpBAAAAAABMDUEAAAAAAGoIQQAAAABg4xZBAAAAAEBfD0EAAAAAYEIMQQAAAACgDhVBAAAAAGBUGUEAAAAAYL8MQQAAAADAXBVBAAAAAEB3C0EAAAAA0CYIQQAAAAAQIDZBAAAAAKDwGUEAAAAAgIQOQQAAAACAhA5BAAAAAMDNB0EAAAAAgOgOQQAAAADgjBpBAAAAAOA5E0EAAAAA0OgJQQAAAADgORNBAAAAAPCnHEEAAAAAICEEQQAAAABAdxtBAAAAAADbGkEAAAAAsB0ZQQAAAABQpApBAAAAAMA+CkEAAAAAAGoIQQAAAACAhA5BAAAAAGDFC0EAAAAAwLULQQAAAACyFyNBAAAAAKAOJUEAAAAAgAcOQQAAAADIjyZBAAAAAECtEkEAAAAAQF8PQQAAAADAXBVBAAAAAGDjFkEAAAAAYK0fQQAAAACAwBRBAAAAAOCADEEAAAAA4MIRQQAAAAAgZRFBAAAAALDGCkEAAAAAkAUgQQAAAADg1wpBAAAAAOyiFkEAAAAA4DkTQQAAAAAwhhJBAAAAAICiCUEAAAAAwK8MQQAAAADA6xJBAAAAAEAkBEEAAAAAgBMcQQAAAACgDgVBAAAAAMDBCUEAAAAAANsKQQAAAABQLRlBAAAAACDWI0EAAAAAgMAEQQAAAADWKBBBAAAAAMAgD0EAAAAAgMAUQQAAAAAYfhRBAAAAABD8K0EAAAAAwPcQQQAAAADELAxBAAAAALCaKUEAAAAAgDEHQQAAAACAwARBAAAAAICEDkEAAAAAwD4KQQAAAACoARBBAAAAAEB3G0EAAAAA4C0VQQAAAACQghBB",
          "dtype": "f8"
         },
         "yaxis": "y"
        }
       ],
       "layout": {
        "autosize": true,
        "coloraxis": {
         "colorbar": {
          "title": {
           "text": "Population"
          }
         },
         "colorscale": [
          [
           0,
           "#0d0887"
          ],
          [
           0.1111111111111111,
           "#46039f"
          ],
          [
           0.2222222222222222,
           "#7201a8"
          ],
          [
           0.3333333333333333,
           "#9c179e"
          ],
          [
           0.4444444444444444,
           "#bd3786"
          ],
          [
           0.5555555555555556,
           "#d8576b"
          ],
          [
           0.6666666666666666,
           "#ed7953"
          ],
          [
           0.7777777777777778,
           "#fb9f3a"
          ],
          [
           0.8888888888888888,
           "#fdca26"
          ],
          [
           1,
           "#f0f921"
          ]
         ]
        },
        "legend": {
         "itemsizing": "constant",
         "tracegroupgap": 0
        },
        "template": {
         "data": {
          "bar": [
           {
            "error_x": {
             "color": "#2a3f5f"
            },
            "error_y": {
             "color": "#2a3f5f"
            },
            "marker": {
             "line": {
              "color": "#E5ECF6",
              "width": 0.5
             },
             "pattern": {
              "fillmode": "overlay",
              "size": 10,
              "solidity": 0.2
             }
            },
            "type": "bar"
           }
          ],
          "barpolar": [
           {
            "marker": {
             "line": {
              "color": "#E5ECF6",
              "width": 0.5
             },
             "pattern": {
              "fillmode": "overlay",
              "size": 10,
              "solidity": 0.2
             }
            },
            "type": "barpolar"
           }
          ],
          "carpet": [
           {
            "aaxis": {
             "endlinecolor": "#2a3f5f",
             "gridcolor": "white",
             "linecolor": "white",
             "minorgridcolor": "white",
             "startlinecolor": "#2a3f5f"
            },
            "baxis": {
             "endlinecolor": "#2a3f5f",
             "gridcolor": "white",
             "linecolor": "white",
             "minorgridcolor": "white",
             "startlinecolor": "#2a3f5f"
            },
            "type": "carpet"
           }
          ],
          "choropleth": [
           {
            "colorbar": {
             "outlinewidth": 0,
             "ticks": ""
            },
            "type": "choropleth"
           }
          ],
          "contour": [
           {
            "colorbar": {
             "outlinewidth": 0,
             "ticks": ""
            },
            "colorscale": [
             [
              0,
              "#0d0887"
             ],
             [
              0.1111111111111111,
              "#46039f"
             ],
             [
              0.2222222222222222,
              "#7201a8"
             ],
             [
              0.3333333333333333,
              "#9c179e"
             ],
             [
              0.4444444444444444,
              "#bd3786"
             ],
             [
              0.5555555555555556,
              "#d8576b"
             ],
             [
              0.6666666666666666,
              "#ed7953"
             ],
             [
              0.7777777777777778,
              "#fb9f3a"
             ],
             [
              0.8888888888888888,
              "#fdca26"
             ],
             [
              1,
              "#f0f921"
             ]
            ],
            "type": "contour"
           }
          ],
          "contourcarpet": [
           {
            "colorbar": {
             "outlinewidth": 0,
             "ticks": ""
            },
            "type": "contourcarpet"
           }
          ],
          "heatmap": [
           {
            "colorbar": {
             "outlinewidth": 0,
             "ticks": ""
            },
            "colorscale": [
             [
              0,
              "#0d0887"
             ],
             [
              0.1111111111111111,
              "#46039f"
             ],
             [
              0.2222222222222222,
              "#7201a8"
             ],
             [
              0.3333333333333333,
              "#9c179e"
             ],
             [
              0.4444444444444444,
              "#bd3786"
             ],
             [
              0.5555555555555556,
              "#d8576b"
             ],
             [
              0.6666666666666666,
              "#ed7953"
             ],
             [
              0.7777777777777778,
              "#fb9f3a"
             ],
             [
              0.8888888888888888,
              "#fdca26"
             ],
             [
              1,
              "#f0f921"
             ]
            ],
            "type": "heatmap"
           }
          ],
          "histogram": [
           {
            "marker": {
             "pattern": {
              "fillmode": "overlay",
              "size": 10,
              "solidity": 0.2
             }
            },
            "type": "histogram"
           }
          ],
          "histogram2d": [
           {
            "colorbar": {
             "outlinewidth": 0,
             "ticks": ""
            },
            "colorscale": [
             [
              0,
              "#0d0887"
             ],
             [
              0.1111111111111111,
              "#46039f"
             ],
             [
              0.2222222222222222,
              "#7201a8"
             ],
             [
              0.3333333333333333,
              "#9c179e"
             ],
             [
              0.4444444444444444,
              "#bd3786"
             ],
             [
              0.5555555555555556,
              "#d8576b"
             ],
             [
              0.6666666666666666,
              "#ed7953"
             ],
             [
              0.7777777777777778,
              "#fb9f3a"
             ],
             [
              0.8888888888888888,
              "#fdca26"
             ],
             [
              1,
              "#f0f921"
             ]
            ],
            "type": "histogram2d"
           }
          ],
          "histogram2dcontour": [
           {
            "colorbar": {
             "outlinewidth": 0,
             "ticks": ""
            },
            "colorscale": [
             [
              0,
              "#0d0887"
             ],
             [
              0.1111111111111111,
              "#46039f"
             ],
             [
              0.2222222222222222,
              "#7201a8"
             ],
             [
              0.3333333333333333,
              "#9c179e"
             ],
             [
              0.4444444444444444,
              "#bd3786"
             ],
             [
              0.5555555555555556,
              "#d8576b"
             ],
             [
              0.6666666666666666,
              "#ed7953"
             ],
             [
              0.7777777777777778,
              "#fb9f3a"
             ],
             [
              0.8888888888888888,
              "#fdca26"
             ],
             [
              1,
              "#f0f921"
             ]
            ],
            "type": "histogram2dcontour"
           }
          ],
          "mesh3d": [
           {
            "colorbar": {
             "outlinewidth": 0,
             "ticks": ""
            },
            "type": "mesh3d"
           }
          ],
          "parcoords": [
           {
            "line": {
             "colorbar": {
              "outlinewidth": 0,
              "ticks": ""
             }
            },
            "type": "parcoords"
           }
          ],
          "pie": [
           {
            "automargin": true,
            "type": "pie"
           }
          ],
          "scatter": [
           {
            "fillpattern": {
             "fillmode": "overlay",
             "size": 10,
             "solidity": 0.2
            },
            "type": "scatter"
           }
          ],
          "scatter3d": [
           {
            "line": {
             "colorbar": {
              "outlinewidth": 0,
              "ticks": ""
             }
            },
            "marker": {
             "colorbar": {
              "outlinewidth": 0,
              "ticks": ""
             }
            },
            "type": "scatter3d"
           }
          ],
          "scattercarpet": [
           {
            "marker": {
             "colorbar": {
              "outlinewidth": 0,
              "ticks": ""
             }
            },
            "type": "scattercarpet"
           }
          ],
          "scattergeo": [
           {
            "marker": {
             "colorbar": {
              "outlinewidth": 0,
              "ticks": ""
             }
            },
            "type": "scattergeo"
           }
          ],
          "scattergl": [
           {
            "marker": {
             "colorbar": {
              "outlinewidth": 0,
              "ticks": ""
             }
            },
            "type": "scattergl"
           }
          ],
          "scattermap": [
           {
            "marker": {
             "colorbar": {
              "outlinewidth": 0,
              "ticks": ""
             }
            },
            "type": "scattermap"
           }
          ],
          "scattermapbox": [
           {
            "marker": {
             "colorbar": {
              "outlinewidth": 0,
              "ticks": ""
             }
            },
            "type": "scattermapbox"
           }
          ],
          "scatterpolar": [
           {
            "marker": {
             "colorbar": {
              "outlinewidth": 0,
              "ticks": ""
             }
            },
            "type": "scatterpolar"
           }
          ],
          "scatterpolargl": [
           {
            "marker": {
             "colorbar": {
              "outlinewidth": 0,
              "ticks": ""
             }
            },
            "type": "scatterpolargl"
           }
          ],
          "scatterternary": [
           {
            "marker": {
             "colorbar": {
              "outlinewidth": 0,
              "ticks": ""
             }
            },
            "type": "scatterternary"
           }
          ],
          "surface": [
           {
            "colorbar": {
             "outlinewidth": 0,
             "ticks": ""
            },
            "colorscale": [
             [
              0,
              "#0d0887"
             ],
             [
              0.1111111111111111,
              "#46039f"
             ],
             [
              0.2222222222222222,
              "#7201a8"
             ],
             [
              0.3333333333333333,
              "#9c179e"
             ],
             [
              0.4444444444444444,
              "#bd3786"
             ],
             [
              0.5555555555555556,
              "#d8576b"
             ],
             [
              0.6666666666666666,
              "#ed7953"
             ],
             [
              0.7777777777777778,
              "#fb9f3a"
             ],
             [
              0.8888888888888888,
              "#fdca26"
             ],
             [
              1,
              "#f0f921"
             ]
            ],
            "type": "surface"
           }
          ],
          "table": [
           {
            "cells": {
             "fill": {
              "color": "#EBF0F8"
             },
             "line": {
              "color": "white"
             }
            },
            "header": {
             "fill": {
              "color": "#C8D4E3"
             },
             "line": {
              "color": "white"
             }
            },
            "type": "table"
           }
          ]
         },
         "layout": {
          "annotationdefaults": {
           "arrowcolor": "#2a3f5f",
           "arrowhead": 0,
           "arrowwidth": 1
          },
          "autotypenumbers": "strict",
          "coloraxis": {
           "colorbar": {
            "outlinewidth": 0,
            "ticks": ""
           }
          },
          "colorscale": {
           "diverging": [
            [
             0,
             "#8e0152"
            ],
            [
             0.1,
             "#c51b7d"
            ],
            [
             0.2,
             "#de77ae"
            ],
            [
             0.3,
             "#f1b6da"
            ],
            [
             0.4,
             "#fde0ef"
            ],
            [
             0.5,
             "#f7f7f7"
            ],
            [
             0.6,
             "#e6f5d0"
            ],
            [
             0.7,
             "#b8e186"
            ],
            [
             0.8,
             "#7fbc41"
            ],
            [
             0.9,
             "#4d9221"
            ],
            [
             1,
             "#276419"
            ]
           ],
           "sequential": [
            [
             0,
             "#0d0887"
            ],
            [
             0.1111111111111111,
             "#46039f"
            ],
            [
             0.2222222222222222,
             "#7201a8"
            ],
            [
             0.3333333333333333,
             "#9c179e"
            ],
            [
             0.4444444444444444,
             "#bd3786"
            ],
            [
             0.5555555555555556,
             "#d8576b"
            ],
            [
             0.6666666666666666,
             "#ed7953"
            ],
            [
             0.7777777777777778,
             "#fb9f3a"
            ],
            [
             0.8888888888888888,
             "#fdca26"
            ],
            [
             1,
             "#f0f921"
            ]
           ],
           "sequentialminus": [
            [
             0,
             "#0d0887"
            ],
            [
             0.1111111111111111,
             "#46039f"
            ],
            [
             0.2222222222222222,
             "#7201a8"
            ],
            [
             0.3333333333333333,
             "#9c179e"
            ],
            [
             0.4444444444444444,
             "#bd3786"
            ],
            [
             0.5555555555555556,
             "#d8576b"
            ],
            [
             0.6666666666666666,
             "#ed7953"
            ],
            [
             0.7777777777777778,
             "#fb9f3a"
            ],
            [
             0.8888888888888888,
             "#fdca26"
            ],
            [
             1,
             "#f0f921"
            ]
           ]
          },
          "colorway": [
           "#636efa",
           "#EF553B",
           "#00cc96",
           "#ab63fa",
           "#FFA15A",
           "#19d3f3",
           "#FF6692",
           "#B6E880",
           "#FF97FF",
           "#FECB52"
          ],
          "font": {
           "color": "#2a3f5f"
          },
          "geo": {
           "bgcolor": "white",
           "lakecolor": "white",
           "landcolor": "#E5ECF6",
           "showlakes": true,
           "showland": true,
           "subunitcolor": "white"
          },
          "hoverlabel": {
           "align": "left"
          },
          "hovermode": "closest",
          "mapbox": {
           "style": "light"
          },
          "paper_bgcolor": "white",
          "plot_bgcolor": "#E5ECF6",
          "polar": {
           "angularaxis": {
            "gridcolor": "white",
            "linecolor": "white",
            "ticks": ""
           },
           "bgcolor": "#E5ECF6",
           "radialaxis": {
            "gridcolor": "white",
            "linecolor": "white",
            "ticks": ""
           }
          },
          "scene": {
           "xaxis": {
            "backgroundcolor": "#E5ECF6",
            "gridcolor": "white",
            "gridwidth": 2,
            "linecolor": "white",
            "showbackground": true,
            "ticks": "",
            "zerolinecolor": "white"
           },
           "yaxis": {
            "backgroundcolor": "#E5ECF6",
            "gridcolor": "white",
            "gridwidth": 2,
            "linecolor": "white",
            "showbackground": true,
            "ticks": "",
            "zerolinecolor": "white"
           },
           "zaxis": {
            "backgroundcolor": "#E5ECF6",
            "gridcolor": "white",
            "gridwidth": 2,
            "linecolor": "white",
            "showbackground": true,
            "ticks": "",
            "zerolinecolor": "white"
           }
          },
          "shapedefaults": {
           "line": {
            "color": "#2a3f5f"
           }
          },
          "ternary": {
           "aaxis": {
            "gridcolor": "white",
            "linecolor": "white",
            "ticks": ""
           },
           "baxis": {
            "gridcolor": "white",
            "linecolor": "white",
            "ticks": ""
           },
           "bgcolor": "#E5ECF6",
           "caxis": {
            "gridcolor": "white",
            "linecolor": "white",
            "ticks": ""
           }
          },
          "title": {
           "x": 0.05
          },
          "xaxis": {
           "automargin": true,
           "gridcolor": "white",
           "linecolor": "white",
           "ticks": "",
           "title": {
            "standoff": 15
           },
           "zerolinecolor": "white",
           "zerolinewidth": 2
          },
          "yaxis": {
           "automargin": true,
           "gridcolor": "white",
           "linecolor": "white",
           "ticks": "",
           "title": {
            "standoff": 15
           },
           "zerolinecolor": "white",
           "zerolinewidth": 2
          }
         }
        },
        "title": {
         "text": "Income vs Home Prices"
        },
        "xaxis": {
         "anchor": "y",
         "autorange": true,
         "domain": [
          0,
          1
         ],
         "range": [
          14225.823035635172,
          137003.3490988669
         ],
         "title": {
          "text": "Per Capita Income ($)"
         },
         "type": "linear"
        },
        "yaxis": {
         "anchor": "x",
         "autorange": true,
         "domain": [
          0,
          1
         ],
         "range": [
          -109073.55676739063,
          1992811.3177237133
         ],
         "title": {
          "text": "Median Home Sale Price ($)"
         },
         "type": "linear"
        }
       }
      },
      "image/png": "[encoded data removed]"
     },
     "metadata": {},
     "output_type": "display_data"
    },
    {
     "data": {
      "application/vnd.plotly.v1+json": {
       "config": {
        "plotlyServerURL": "https://plot.ly"
       },
       "data": [
        {
         "hovertemplate": "Population=%{x}<br>Equalized Net Grand List ($)=%{y}<extra></extra>",
         "legendgroup": "",
         "marker": {
          "color": "#636efa",
          "symbol": "circle"
         },
         "mode": "markers",
         "name": "",
         "orientation": "v",
         "showlegend": false,
         "type": "scatter",
         "x": {
          "_inputArray": {
           "0": 6313,
           "1": 39680,
           "10": 41013,
           "100": 42558,
           "101": 4495,
           "102": 8192,
           "103": 3559,
           "104": 4785,
           "105": 76745,
           "106": 5966,
           "107": 44726,
           "108": 23424,
           "109": 49737,
           "11": 9276,
           "110": 38710,
           "111": 5992,
           "112": 252195,
           "113": 8860,
           "114": 35655,
           "115": 103807,
           "116": 33202,
           "117": 15679,
           "118": 19202,
           "119": 30072,
           "12": 5600,
           "120": 73577,
           "121": 70775,
           "122": 1829,
           "123": 60106,
           "124": 89931,
           "125": 3161,
           "126": 6690,
           "127": 225141,
           "128": 37816,
           "129": 44023,
           "13": 52444,
           "130": 130551,
           "131": 14157,
           "132": 17200,
           "133": 53599,
           "134": 12949,
           "135": 32832,
           "136": 22718,
           "137": 55659,
           "138": 56945,
           "139": 25111,
           "14": 297456,
           "140": 33848,
           "141": 16474,
           "142": 19669,
           "143": 16413,
           "15": 3015,
           "16": 119071,
           "17": 31562,
           "18": 19135,
           "19": 2664,
           "2": 8819,
           "20": 21811,
           "21": 4452,
           "22": 56515,
           "23": 7751,
           "24": 32390,
           "25": 2770,
           "26": 11029,
           "27": 2538,
           "28": 24507,
           "29": 29365,
           "3": 39592,
           "30": 169780,
           "31": 40316,
           "32": 8500,
           "33": 26502,
           "34": 10637,
           "35": 18339,
           "36": 106482,
           "37": 58657,
           "38": 38349,
           "39": 25303,
           "4": 7557,
           "40": 3577,
           "41": 13482,
           "42": 86244,
           "43": 12522,
           "44": 50841,
           "45": 3799,
           "46": 69619,
           "47": 6185,
           "48": 21906,
           "49": 114021,
           "5": 12841,
           "50": 25610,
           "51": 80642,
           "52": 44490,
           "53": 3637,
           "54": 252888,
           "55": 11049,
           "56": 19125,
           "57": 5686,
           "58": 35964,
           "59": 12565,
           "6": 40485,
           "60": 14326,
           "61": 8496,
           "62": 16398,
           "63": 5139,
           "64": 34806,
           "65": 125400,
           "66": 54279,
           "67": 125753,
           "68": 16461,
           "69": 8855,
           "7": 11433,
           "70": 99712,
           "71": 102099,
           "72": 34150,
           "73": 39097,
           "74": 4682,
           "75": 64421,
           "76": 150554,
           "77": 37129,
           "78": 23643,
           "79": 14529,
           "8": 35243,
           "80": 270761,
           "81": 58045,
           "82": 62370,
           "83": 55574,
           "84": 3258,
           "85": 6286,
           "86": 47601,
           "87": 172607,
           "88": 90133,
           "89": 14319,
           "9": 7192,
           "90": 18419,
           "91": 27550,
           "92": 30874,
           "93": 35384,
           "94": 24437,
           "95": 19553,
           "96": 9078,
           "97": 20506,
           "98": 18267,
           "99": 46337,
           "bdata": "qRgAAACbAABzIgAAqJoAAIUdAAApMgAAJZ4AAKksAACriQAAGBwAADWgAAA8JAAA4BUAANzMAADwiQQAxwsAAB/RAQBKewAAv0oAAGgKAAAzVQAAZBEAAMPcAABHHgAAhn4AANIKAAAVKwAA6gkAALtfAAC1cgAANJcCAHydAAA0IQAAhmcAAI0pAACjRwAA8p8BACHlAADNlQAA12IAAPkNAACqNAAA5FABAOowAACZxgAA1w4AAPMPAQApGAAAklUAAGW9AQAKZAAAAjsBAMqtAAA1DgAA2NsDACkrAAC1SgAANhYAAHyMAAAVMQAA9jcAADAhAAAOQAAAExQAAPaHAADY6QEAB9QAADnrAQBNQAAAlyIAAICFAQDTjgEAZoUAALmYAABKEgAApfsAABpMAgAJkQAAW1wAAME4AACpIQQAveIAAKLzAAAW2QAAugwAAI4YAADxuQAAP6ICABVgAQDvNwAA80cAAJ5rAACaeAAAOIoAAHVfAABhTAAAdiMAABpQAABbRwAAAbUAAD6mAACPEQAAACAAAOcNAACxEgAAySsBAE4XAAC2rgAAgFsAAEnCAAA2lwAAaBcAACPZAwCcIgAAR4sAAH+VAQCygQAAPz0AAAJLAAB4dQAAaR8BAHcUAQAlBwAAyuoAAEtfAQBZDAAAIhoAAHVvAwC4kwAA96sAAPf9AQBNNwAAMEMAAF/RAACVMgAAQIAAAL5YAABr2QAAcd4AABdiAAA4hAAAWkAAANVMAAAdQAAA",
           "dtype": "i4",
           "shape": "144"
          },
          "bdata": "qRgAAACbAABzIgAAqJoAAIUdAAApMgAAJZ4AAKksAACriQAAGBwAADWgAAA8JAAA4BUAANzMAADwiQQAxwsAAB/RAQBKewAAv0oAAGgKAAAzVQAAZBEAAMPcAABHHgAAhn4AANIKAAAVKwAA6gkAALtfAAC1cgAANJcCAHydAAA0IQAAhmcAAI0pAACjRwAA8p8BACHlAADNlQAA12IAAPkNAACqNAAA5FABAOowAACZxgAA1w4AAPMPAQApGAAAklUAAGW9AQAKZAAAAjsBAMqtAAA1DgAA2NsDACkrAAC1SgAANhYAAHyMAAAVMQAA9jcAADAhAAAOQAAAExQAAPaHAADY6QEAB9QAADnrAQBNQAAAlyIAAICFAQDTjgEAZoUAALmYAABKEgAApfsAABpMAgAJkQAAW1wAAME4AACpIQQAveIAAKLzAAAW2QAAugwAAI4YAADxuQAAP6ICABVgAQDvNwAA80cAAJ5rAACaeAAAOIoAAHVfAABhTAAAdiMAABpQAABbRwAAAbUAAD6mAACPEQAAACAAAOcNAACxEgAAySsBAE4XAAC2rgAAgFsAAEnCAAA2lwAAaBcAACPZAwCcIgAAR4sAAH+VAQCygQAAPz0AAAJLAAB4dQAAaR8BAHcUAQAlBwAAyuoAAEtfAQBZDAAAIhoAAHVvAwC4kwAA96sAAPf9AQBNNwAAMEMAAF/RAACVMgAAQIAAAL5YAABr2QAAcd4AABdiAAA4hAAAWkAAANVMAAAdQAAA",
          "dtype": "i4"
         },
         "xaxis": "x",
         "y": {
          "_inputArray": {
           "0": 402489800,
           "1": 1593904000,
           "10": 3671060628,
           "100": 3156174000,
           "101": 869258800,
           "102": 578611547.5,
           "103": 159566579.6,
           "104": 1041881000,
           "105": 7468412580,
           "106": 984060241.4,
           "107": 3701102835,
           "108": 1316698431,
           "109": 4276879349,
           "11": 633650480,
           "110": 3160107070,
           "111": 262421802.8,
           "112": 33352891564,
           "113": 387267104.1,
           "114": 4253386334,
           "115": 7041461636,
           "116": 2097716000,
           "117": 819229660.6,
           "118": 1058758000,
           "119": 1883061000,
           "12": 365149700,
           "120": 2927200014,
           "121": 7073070227,
           "122": 132309200,
           "123": 2855989613,
           "124": 6505882705,
           "125": 630823000,
           "126": 1724692000,
           "127": 7042998792,
           "128": 5308593615,
           "129": 2621860887,
           "13": 5424166000,
           "130": 9876620438,
           "131": 1784401413,
           "132": 3197754780,
           "133": 3317732536,
           "134": 630800925.7,
           "135": 6065752623,
           "136": 1061929332,
           "137": 1358375666,
           "138": 4440714000,
           "139": 2089399970,
           "14": 10588391889,
           "140": 1845005930,
           "141": 1624329395,
           "142": 1523513731,
           "143": 1177609482,
           "15": 513403400,
           "16": 5842394884,
           "17": 3602044339,
           "18": 1360148000,
           "19": 258664200,
           "2": 482676223,
           "20": 1543858847,
           "21": 312104800,
           "22": 4002765243,
           "23": 630911100,
           "24": 1829126260,
           "25": 276991300,
           "26": 792834394.6,
           "27": 569618504.6,
           "28": 1542001856,
           "29": 2139272000,
           "3": 3656627123,
           "30": 12034805501,
           "31": 12105108513,
           "32": 742184200,
           "33": 1128133000,
           "34": 868031340,
           "35": 1332416000,
           "36": 4354385580,
           "37": 2948030681,
           "38": 3330529179,
           "39": 1493801048,
           "4": 509629000,
           "40": 221369500,
           "41": 1742568000,
           "42": 4422084043,
           "43": 1518423857,
           "44": 5400657149,
           "45": 331651900,
           "46": 6164889918,
           "47": 786763300,
           "48": 1554087000,
           "49": 49305412148,
           "5": 732814100,
           "50": 1102491000,
           "51": 6380799758,
           "52": 4726265503,
           "53": 210897500,
           "54": 7617691245,
           "55": 821070000,
           "56": 1179254000,
           "57": 846850212.9,
           "58": 1935827301,
           "59": 1038939000,
           "6": 3430505776,
           "60": 952466500,
           "61": 593737663.3,
           "62": 1500782011,
           "63": 705404200,
           "64": 4190771740,
           "65": 6078718053,
           "66": 1598281817,
           "67": 4763873000,
           "68": 1448411293,
           "69": 641544000,
           "7": 805874274.3,
           "70": 5330504788,
           "71": 9943726239,
           "72": 3373117218,
           "73": 1962363427,
           "74": 493510400,
           "75": 2458756829,
           "76": 4301131554,
           "77": 11009175830,
           "78": 2557247000,
           "79": 968233325.7,
           "8": 3146911000,
           "80": 11084391336,
           "81": 2073701000,
           "82": 3992003000,
           "83": 4813620373,
           "84": 372264000,
           "85": 399931700,
           "86": 4390105930,
           "87": 20400626724,
           "88": 2839954451,
           "89": 2322424000,
           "9": 516995100,
           "90": 3247477200,
           "91": 3188559000,
           "92": 1597579200,
           "93": 2117220718,
           "94": 1091847000,
           "95": 1237244837,
           "96": 684613200,
           "97": 1089907000,
           "98": 2255614000,
           "99": 7182156823,
           "bdata": "AAAAyIH9t0EAAADgQsDXQQAAAP8NxbxBAABgdnY+60EAAABIUmC+QQAAAIrt1sVBAAAApiuP6UFmZiYxVQTIQQAAAKNBcudBAAAAHLjQvkEAAIAS/lnrQQAAAJhe4sJBAAAABL7DtUEAAABH4zT0QQAAiE7wuANCAAAACOqZvkEAAEDwvcP1QQAAYLZa1upBAAAAiI1E1EEAAAAQztWuQQAAwKdaAddBAAAAYFeaskEAAGA3q9LtQQAAAD54zcJBAAAAHZBB20EAAABEjYKwQc3MTK3YoMdBzcxMJNj5wEEAAAAwRfrWQQAAANCs4N9BAADod6RqBkIAAAhhKowGQgAAAIRqHsZBAAAAYnzP0EEAAAC2jd7JQQAAAIDD2tNBAADAaqo48EEAACAb7PblQQAAYPN60OhBAAAAFmZC1kEAAAA4qWOqQQAAAJBe99lBAACwXDp58EEAAEDMU6DWQQAA0M93HvRBAAAAPJvEs0EAAOATTPf2QQAAABKHcsdBAAAAFl8o10EAAGjEqfUmQgAAAF6rbdBBAADgcDTF90EAAPBpUZvxQQAAALgUJKlBAADQ5stg/EEAAABYRHjIQQAAADx/ktFBMzNzUvQ8yUEAAEBZmNjcQQAAALx59s5BAAAAIr5izEFmZqbf27HBQQAAwG4HXdZBAAAAlM4FxUEAAIBDQznvQQAAUAYepfZBAABAFvbQ10EAAIDuLr/xQQAAQCdAldVBAAAAoJcew0EAAEDFkNvzQQAA+MSJhQJCAABA5LUh6UEAAMCI0j3dQQAAAABfar1BAACg27RR4kEAACDy4AXwQQAAsIiVgQRCAAAAw48N40Gamdm2CNvMQQAAQB1zpQRCAAAAoorm3kEAAAA3JL7tQQAAUEmg7vFBAAAAQEwwtkEAAAA0eda3QQAAoDS7WvBBAACQcOP/EkIAAGCCyCjlQQAAABisTeFBAAAAOhIy6EEAAACTscHnQQAAAPBHztdBAACAW46M30EAAADWEEXQQQAAQOm2b9JBAAAAKC9nxEEAAABOqj3QQQAAAAY+zuBBAABwQXDB+kEAAACW7IPnQQAAABjr58lBAADArXQ+wUEzMzPnlQWjQQAAANTrDM9BAABA6m7S+0EzM7OoyFPNQQAAYB5Lk+tBAADAT86e00EAAKD+f93vQQAAwAdti+dBmpmZVXpIr0EAALDy8g8fQpqZGSA6FbdBAADAy7Cw70EAAEDYQjv6QQAAAMgmQt9BzcxM7jlqyEEAAAC4ro3PQQAAAMJOD9xBAADA4TDP5UEAADDJZ1n6QQAAAECDi59BAACgLV5H5UEAABBFfjz4QQAAACzMzMJBAAAAiC2z2UEAAIAgujz6QQAA8FyrxvNBAADggs2I40EAALAkimUCQgAAQIHzltpBAACAszvT50EAAACXErjoQZqZ2Q6hzMJBAADwosCY9kEAAAC64KXPQQAAgLzKPdRBAAAAsf6K8EEAAICobSLfQQAAgJojfttBAADALFM02EEAAMBgvrPWQQAAgEI5jNFB",
           "dtype": "f8",
           "shape": "144"
          },
          "bdata": "AAAAyIH9t0EAAADgQsDXQQAAAP8NxbxBAABgdnY+60EAAABIUmC+QQAAAIrt1sVBAAAApiuP6UFmZiYxVQTIQQAAAKNBcudBAAAAHLjQvkEAAIAS/lnrQQAAAJhe4sJBAAAABL7DtUEAAABH4zT0QQAAiE7wuANCAAAACOqZvkEAAEDwvcP1QQAAYLZa1upBAAAAiI1E1EEAAAAQztWuQQAAwKdaAddBAAAAYFeaskEAAGA3q9LtQQAAAD54zcJBAAAAHZBB20EAAABEjYKwQc3MTK3YoMdBzcxMJNj5wEEAAAAwRfrWQQAAANCs4N9BAADod6RqBkIAAAhhKowGQgAAAIRqHsZBAAAAYnzP0EEAAAC2jd7JQQAAAIDD2tNBAADAaqo48EEAACAb7PblQQAAYPN60OhBAAAAFmZC1kEAAAA4qWOqQQAAAJBe99lBAACwXDp58EEAAEDMU6DWQQAA0M93HvRBAAAAPJvEs0EAAOATTPf2QQAAABKHcsdBAAAAFl8o10EAAGjEqfUmQgAAAF6rbdBBAADgcDTF90EAAPBpUZvxQQAAALgUJKlBAADQ5stg/EEAAABYRHjIQQAAADx/ktFBMzNzUvQ8yUEAAEBZmNjcQQAAALx59s5BAAAAIr5izEFmZqbf27HBQQAAwG4HXdZBAAAAlM4FxUEAAIBDQznvQQAAUAYepfZBAABAFvbQ10EAAIDuLr/xQQAAQCdAldVBAAAAoJcew0EAAEDFkNvzQQAA+MSJhQJCAABA5LUh6UEAAMCI0j3dQQAAAABfar1BAACg27RR4kEAACDy4AXwQQAAsIiVgQRCAAAAw48N40Gamdm2CNvMQQAAQB1zpQRCAAAAoorm3kEAAAA3JL7tQQAAUEmg7vFBAAAAQEwwtkEAAAA0eda3QQAAoDS7WvBBAACQcOP/EkIAAGCCyCjlQQAAABisTeFBAAAAOhIy6EEAAACTscHnQQAAAPBHztdBAACAW46M30EAAADWEEXQQQAAQOm2b9JBAAAAKC9nxEEAAABOqj3QQQAAAAY+zuBBAABwQXDB+kEAAACW7IPnQQAAABjr58lBAADArXQ+wUEzMzPnlQWjQQAAANTrDM9BAABA6m7S+0EzM7OoyFPNQQAAYB5Lk+tBAADAT86e00EAAKD+f93vQQAAwAdti+dBmpmZVXpIr0EAALDy8g8fQpqZGSA6FbdBAADAy7Cw70EAAEDYQjv6QQAAAMgmQt9BzcxM7jlqyEEAAAC4ro3PQQAAAMJOD9xBAADA4TDP5UEAADDJZ1n6QQAAAECDi59BAACgLV5H5UEAABBFfjz4QQAAACzMzMJBAAAAiC2z2UEAAIAgujz6QQAA8FyrxvNBAADggs2I40EAALAkimUCQgAAQIHzltpBAACAszvT50EAAACXErjoQZqZ2Q6hzMJBAADwosCY9kEAAAC64KXPQQAAgLzKPdRBAAAAsf6K8EEAAICobSLfQQAAgJojfttBAADALFM02EEAAMBgvrPWQQAAgEI5jNFB",
          "dtype": "f8"
         },
         "yaxis": "y"
        },
        {
         "hovertemplate": "<b>LOWESS trendline</b><br><br>Population=%{x}<br>Equalized Net Grand List ($)=%{y} <b>(trend)</b><extra></extra>",
         "legendgroup": "",
         "marker": {
          "color": "#636efa",
          "symbol": "circle"
         },
         "mode": "lines",
         "name": "",
         "showlegend": false,
         "type": "scatter",
         "x": {
          "_inputArray": {
           "0": 1829,
           "1": 2538,
           "10": 3799,
           "100": 44023,
           "101": 44490,
           "102": 44726,
           "103": 46337,
           "104": 47601,
           "105": 49737,
           "106": 50841,
           "107": 52444,
           "108": 53599,
           "109": 54279,
           "11": 4452,
           "110": 55574,
           "111": 55659,
           "112": 56515,
           "113": 56945,
           "114": 58045,
           "115": 58657,
           "116": 60106,
           "117": 62370,
           "118": 64421,
           "119": 69619,
           "12": 4495,
           "120": 70775,
           "121": 73577,
           "122": 76745,
           "123": 80642,
           "124": 86244,
           "125": 89931,
           "126": 90133,
           "127": 99712,
           "128": 102099,
           "129": 103807,
           "13": 4682,
           "130": 106482,
           "131": 114021,
           "132": 119071,
           "133": 125400,
           "134": 125753,
           "135": 130551,
           "136": 150554,
           "137": 169780,
           "138": 172607,
           "139": 225141,
           "14": 4785,
           "140": 252195,
           "141": 252888,
           "142": 270761,
           "143": 297456,
           "15": 5139,
           "16": 5600,
           "17": 5686,
           "18": 5966,
           "19": 5992,
           "2": 2664,
           "20": 6185,
           "21": 6286,
           "22": 6313,
           "23": 6690,
           "24": 7192,
           "25": 7557,
           "26": 7751,
           "27": 8192,
           "28": 8496,
           "29": 8500,
           "3": 2770,
           "30": 8819,
           "31": 8855,
           "32": 8860,
           "33": 9078,
           "34": 9276,
           "35": 10637,
           "36": 11029,
           "37": 11049,
           "38": 11433,
           "39": 12522,
           "4": 3015,
           "40": 12565,
           "41": 12841,
           "42": 12949,
           "43": 13482,
           "44": 14157,
           "45": 14319,
           "46": 14326,
           "47": 14529,
           "48": 15679,
           "49": 16398,
           "5": 3161,
           "50": 16413,
           "51": 16461,
           "52": 16474,
           "53": 17200,
           "54": 18267,
           "55": 18339,
           "56": 18419,
           "57": 19125,
           "58": 19135,
           "59": 19202,
           "6": 3258,
           "60": 19553,
           "61": 19669,
           "62": 20506,
           "63": 21811,
           "64": 21906,
           "65": 22718,
           "66": 23424,
           "67": 23643,
           "68": 24437,
           "69": 24507,
           "7": 3559,
           "70": 25111,
           "71": 25303,
           "72": 25610,
           "73": 26502,
           "74": 27550,
           "75": 29365,
           "76": 30072,
           "77": 30874,
           "78": 31562,
           "79": 32390,
           "8": 3577,
           "80": 32832,
           "81": 33202,
           "82": 33848,
           "83": 34150,
           "84": 34806,
           "85": 35243,
           "86": 35384,
           "87": 35655,
           "88": 35964,
           "89": 37129,
           "9": 3637,
           "90": 37816,
           "91": 38349,
           "92": 38710,
           "93": 39097,
           "94": 39592,
           "95": 39680,
           "96": 40316,
           "97": 40485,
           "98": 41013,
           "99": 42558,
           "bdata": "JQcAAOoJAABoCgAA0goAAMcLAABZDAAAugwAAOcNAAD5DQAANQ4AANcOAABkEQAAjxEAAEoSAACxEgAAExQAAOAVAAA2FgAAThcAAGgXAAApGAAAjhgAAKkYAAAiGgAAGBwAAIUdAABHHgAAACAAADAhAAA0IQAAcyIAAJciAACcIgAAdiMAADwkAACNKQAAFSsAACkrAACpLAAA6jAAABUxAAApMgAAlTIAAKo0AABNNwAA7zcAAPY3AADBOAAAPz0AAA5AAAAdQAAATUAAAFpAAAAwQwAAW0cAAKNHAADzRwAAtUoAAL9KAAACSwAAYUwAANVMAAAaUAAAM1UAAJJVAAC+WAAAgFsAAFtcAAB1XwAAu18AABdiAADXYgAACmQAAIZnAACeawAAtXIAAHh1AACaeAAASnsAAIZ+AABAgAAAsoEAADiEAABmhQAA9ocAAKuJAAA4igAAR4sAAHyMAAAJkQAAuJMAAM2VAAA2lwAAuZgAAKiaAAAAmwAAfJ0AACWeAAA1oAAAPqYAAPerAADKrQAAtq4AAAG1AADxuQAAScIAAJnGAADczAAAX9EAAAfUAAAW2QAAa9kAAMPcAABx3gAAveIAACHlAADK6gAAovMAAKX7AADzDwEAdxQBAGkfAQDJKwEAAjsBAORQAQBLXwEAFWABAICFAQDTjgEAf5UBAPKfAQBlvQEAH9EBANjpAQA56wEA9/0BABpMAgA0lwIAP6ICAHVvAwAj2QMA2NsDAKkhBADwiQQA",
           "dtype": "i4",
           "shape": "144"
          },
          "bdata": "JQcAAOoJAABoCgAA0goAAMcLAABZDAAAugwAAOcNAAD5DQAANQ4AANcOAABkEQAAjxEAAEoSAACxEgAAExQAAOAVAAA2FgAAThcAAGgXAAApGAAAjhgAAKkYAAAiGgAAGBwAAIUdAABHHgAAACAAADAhAAA0IQAAcyIAAJciAACcIgAAdiMAADwkAACNKQAAFSsAACkrAACpLAAA6jAAABUxAAApMgAAlTIAAKo0AABNNwAA7zcAAPY3AADBOAAAPz0AAA5AAAAdQAAATUAAAFpAAAAwQwAAW0cAAKNHAADzRwAAtUoAAL9KAAACSwAAYUwAANVMAAAaUAAAM1UAAJJVAAC+WAAAgFsAAFtcAAB1XwAAu18AABdiAADXYgAACmQAAIZnAACeawAAtXIAAHh1AACaeAAASnsAAIZ+AABAgAAAsoEAADiEAABmhQAA9ocAAKuJAAA4igAAR4sAAHyMAAAJkQAAuJMAAM2VAAA2lwAAuZgAAKiaAAAAmwAAfJ0AACWeAAA1oAAAPqYAAPerAADKrQAAtq4AAAG1AADxuQAAScIAAJnGAADczAAAX9EAAAfUAAAW2QAAa9kAAMPcAABx3gAAveIAACHlAADK6gAAovMAAKX7AADzDwEAdxQBAGkfAQDJKwEAAjsBAORQAQBLXwEAFWABAICFAQDTjgEAf5UBAPKfAQBlvQEAH9EBANjpAQA56wEA9/0BABpMAgA0lwIAP6ICAHVvAwAj2QMA2NsDAKkhBADwiQQA",
          "dtype": "i4"
         },
         "xaxis": "x",
         "y": {
          "_inputArray": {
           "0": 323197854.76354325,
           "1": 368548004.4060552,
           "10": 449048869.2789113,
           "100": 3473291221.3634305,
           "101": 3514289346.116669,
           "102": 3535225088.047761,
           "103": 3681095021.4957457,
           "104": 3797426984.734522,
           "105": 3994986680.682301,
           "106": 4095485443.008048,
           "107": 4236275270.10854,
           "108": 4333906105.399517,
           "109": 4390156994.813979,
           "11": 490653973.3094791,
           "110": 4496383830.710016,
           "111": 4503903534.226657,
           "112": 4572462055.009372,
           "113": 4610383530.949851,
           "114": 4698951219.6682825,
           "115": 4746773696.417161,
           "116": 4855275695.15063,
           "117": 5014212262.229801,
           "118": 5152993205.25229,
           "119": 5505095173.494428,
           "12": 493391754.14500624,
           "120": 5583047241.742241,
           "121": 5773797348.273191,
           "122": 5990074259.616786,
           "123": 6259171216.860256,
           "124": 6653898509.873836,
           "125": 6917101116.335032,
           "126": 6931555395.969069,
           "127": 7585288467.909764,
           "128": 7738001735.782026,
           "129": 7846425628.781302,
           "13": 505295234.6656762,
           "130": 8016220822.382038,
           "131": 8500853028.453133,
           "132": 8831120687.037401,
           "133": 9248970188.657791,
           "134": 9272419026.32596,
           "135": 9592052998.364508,
           "136": 10925660950.30614,
           "137": 12209144460.183247,
           "138": 12398131476.754482,
           "139": 15895658858.848404,
           "14": 511849844.8479085,
           "140": 17691011643.307713,
           "141": 17736969837.431705,
           "142": 18921841335.461456,
           "143": 20690282795.49153,
           "15": 534367334.6606668,
           "16": 563667383.2859504,
           "17": 569130325.9753736,
           "18": 586909979.1540697,
           "19": 588560423.6401218,
           "2": 376600878.6313123,
           "20": 600808976.748196,
           "21": 607216838.1526362,
           "22": 608929595.0064424,
           "23": 632834249.0424277,
           "24": 664633618.5745375,
           "25": 687730920.5058719,
           "26": 699998755.3182387,
           "27": 727863109.9584657,
           "28": 747052211.5546731,
           "29": 747304594.5760716,
           "3": 383373968.764315,
           "30": 767423246.7356923,
           "31": 769692581.6129049,
           "32": 770007749.1576421,
           "33": 783744837.3713616,
           "34": 796214562.3580972,
           "35": 881757359.5073892,
           "36": 906345850.2841256,
           "37": 907599839.6058986,
           "38": 931667332.7699805,
           "39": 999847100.723444,
           "4": 399023291.0249317,
           "40": 1002537701.3092257,
           "41": 1019806174.4667923,
           "42": 1026562916.158991,
           "43": 1059908832.6075346,
           "44": 1102155797.845338,
           "45": 1112300872.9108105,
           "46": 1112739306.9671023,
           "47": 1125456499.2328308,
           "48": 1197622569.03859,
           "49": 1242891112.00389,
           "5": 408345364.1403577,
           "50": 1243837132.4470334,
           "51": 1246864894.3286307,
           "52": 1247685044.7016182,
           "53": 1293584042.6756654,
           "54": 1361446474.016825,
           "55": 1366045399.4470685,
           "56": 1371158396.2729313,
           "57": 1416418203.394956,
           "58": 1417060979.147494,
           "59": 1421368727.4849863,
           "6": 414537279.04046553,
           "60": 1443967656.205675,
           "61": 1451447204.570457,
           "62": 1505540787.4154549,
           "63": 1598824375.7399223,
           "64": 1606209849.7264183,
           "65": 1670542136.552333,
           "66": 1727957763.4724438,
           "67": 1745498724.974962,
           "68": 1809413772.7855253,
           "69": 1815246003.1460006,
           "7": 433743532.28247744,
           "70": 1865210152.5837765,
           "71": 1881237198.2335598,
           "72": 1906859945.4446776,
           "73": 1980429063.966144,
           "74": 2064886293.4283361,
           "75": 2221232046.4683886,
           "76": 2283037872.907102,
           "77": 2353357583.6631527,
           "78": 2415917150.0841413,
           "79": 2493135718.3306894,
           "8": 434891698.9327059,
           "80": 2534295679.855248,
           "81": 2568928406.048477,
           "82": 2628490362.9313745,
           "83": 2655878892.4184446,
           "84": 2713649046.4485965,
           "85": 2751990862.2657366,
           "86": 2764195600.618797,
           "87": 2787441172.8769197,
           "88": 2813875930.2473254,
           "89": 2910520495.2516313,
           "9": 438718608.649751,
           "90": 2965759897.886354,
           "91": 3008021064.3639293,
           "92": 3037730584.0993085,
           "93": 3068111293.644632,
           "94": 3107618780.950076,
           "95": 3114518615.368809,
           "96": 3164623652.9522147,
           "97": 3178038067.445133,
           "98": 3221534997.430395,
           "99": 3348303116.979632,
           "bdata": "knfDnptDs0E882ekmPe1Qa+doS55crZBJqrDkNLZtkHtYQa7nMi3QXvuIxTbVrhB81sKP1a1uEFxUEisZtq5QdDF7rLr67lBFVamkFAmukG7Zkcl8cO6QQY6TxXJPr1BIR8lio9ovUHBaaqCMR6+QYgQ2XQ1gr5BdiGpZszZv0EGmqTbcMzAQQvZ/Koe9sBBjriTjcR9wUGD79ETXIrBQePEXwjP58FBlYkTY7IYwkEb04CdwyXCQUVuhWQk3MJBcopJicDOw0FpwEB0+H7EQQy8qBGR3MRBAa/6oiexxUGH/8ZZjkPGQbe8SUl7RcZBKiteh/nexkGrc87SSfDGQZ4tlGKx8sZBx4ivon9bx0Eh1i2RorrHQSHywFdGR8pBOl4kvd4Cy0EWjs3vbwzLQbmOYsIOxMtB0JlcXjrMzUG1lKdyweDNQdq/O++AZM5B0VkUsg2YzkGyw01wdpbPQQUadgVkbNBBuEo6UheT0EEB5b16w5TQQbPmzpxGxdBBQnhCSpHY0UG8PwDaQIXSQTKcHLPciNJBSQiVf2mU0kFQ5yxtipfSQRo+q6qhRtNBqROBkoFJ1EHFnNy1DFvUQbV3Ed+NbtRB9kbZ5jQb1UGLcMmcqB3VQQQK32UXLtVBxykNqkyE1UFegiTp1KDVQdCW2qwub9ZB41rv7QfT10GjfW5ONO/XQW1ZI86c5NhBhTzewKK/2UHHZT6ZjALaQQxGMqNd9tpBE1jJLJ0M20GYXCVKNsvbQaXyjrNZCNxBmXVc6hdq3EFO1f3BvILdQdxpW4XqxN5BCv3O9amM4EH7Bh2WjALhQYw49WGsiOFBSbHCC///4UEClcpsR5PiQTFe+w/J4eJBII3Bktcj40HSzV2PcpXjQeZjjd2vyeNB51rO8t835EHqgMiJAYHkQS/NE+JImORBug+cQp/E5EEX6kfbCvfkQV0N6JVgr+VBA10887wY5kFPpQtJWGnmQYktA+MCouZB06C0N/Xb5kEGZ577TyfnQUnN6wp5NOdBi3ieZAqU50GIPm5moK3nQczFrSKXAOhBJVmfoWHy6EE5oav6xuDpQcG7Q5j5LupBQocBIOhW6kEm3a+tIW3rQTSBF2UES+xBadUVF9XD7UHuQWDAhIPuQSl5w8gNkO9BbGSWiyIl8EEPBi2sx1rwQTpca/UVwPBBY6Dj0kHH8EFjJnC+owjxQZcyr+rNLPFBSbE640SB8UGxrAZM4K7xQfto8gpaFvJBRK1j6uyt8kFhCVT7RjLzQS3pV2ARgvRBOOCbpGjM9EH+XkR+UoL1QVveOXmUUPZBnMMN+TVR90E7+93wpsn4QUtcxWOpxPlBToE/RHLS+UFljj4R5UH8QS6DfJSI0/xBN4DMQe86/UHUHGYp3dz9QQhAR5ILq/9BmUx4qQFzAEIoQ2WuQDoBQpGbkhZvRQFCg+oy6NjdAUL6crLYwlkEQkp3YRTGvQZCLgmmyOMXB0KIyVYLpJsNQhk77ajdeRBCEbq1udKEEEKI2N2KUZ8RQlT3raTyRBNC",
           "dtype": "f8",
           "shape": "144"
          },
          "bdata": "knfDnptDs0E882ekmPe1Qa+doS55crZBJqrDkNLZtkHtYQa7nMi3QXvuIxTbVrhB81sKP1a1uEFxUEisZtq5QdDF7rLr67lBFVamkFAmukG7Zkcl8cO6QQY6TxXJPr1BIR8lio9ovUHBaaqCMR6+QYgQ2XQ1gr5BdiGpZszZv0EGmqTbcMzAQQvZ/Koe9sBBjriTjcR9wUGD79ETXIrBQePEXwjP58FBlYkTY7IYwkEb04CdwyXCQUVuhWQk3MJBcopJicDOw0FpwEB0+H7EQQy8qBGR3MRBAa/6oiexxUGH/8ZZjkPGQbe8SUl7RcZBKiteh/nexkGrc87SSfDGQZ4tlGKx8sZBx4ivon9bx0Eh1i2RorrHQSHywFdGR8pBOl4kvd4Cy0EWjs3vbwzLQbmOYsIOxMtB0JlcXjrMzUG1lKdyweDNQdq/O++AZM5B0VkUsg2YzkGyw01wdpbPQQUadgVkbNBBuEo6UheT0EEB5b16w5TQQbPmzpxGxdBBQnhCSpHY0UG8PwDaQIXSQTKcHLPciNJBSQiVf2mU0kFQ5yxtipfSQRo+q6qhRtNBqROBkoFJ1EHFnNy1DFvUQbV3Ed+NbtRB9kbZ5jQb1UGLcMmcqB3VQQQK32UXLtVBxykNqkyE1UFegiTp1KDVQdCW2qwub9ZB41rv7QfT10GjfW5ONO/XQW1ZI86c5NhBhTzewKK/2UHHZT6ZjALaQQxGMqNd9tpBE1jJLJ0M20GYXCVKNsvbQaXyjrNZCNxBmXVc6hdq3EFO1f3BvILdQdxpW4XqxN5BCv3O9amM4EH7Bh2WjALhQYw49WGsiOFBSbHCC///4UEClcpsR5PiQTFe+w/J4eJBII3Bktcj40HSzV2PcpXjQeZjjd2vyeNB51rO8t835EHqgMiJAYHkQS/NE+JImORBug+cQp/E5EEX6kfbCvfkQV0N6JVgr+VBA10887wY5kFPpQtJWGnmQYktA+MCouZB06C0N/Xb5kEGZ577TyfnQUnN6wp5NOdBi3ieZAqU50GIPm5moK3nQczFrSKXAOhBJVmfoWHy6EE5oav6xuDpQcG7Q5j5LupBQocBIOhW6kEm3a+tIW3rQTSBF2UES+xBadUVF9XD7UHuQWDAhIPuQSl5w8gNkO9BbGSWiyIl8EEPBi2sx1rwQTpca/UVwPBBY6Dj0kHH8EFjJnC+owjxQZcyr+rNLPFBSbE640SB8UGxrAZM4K7xQfto8gpaFvJBRK1j6uyt8kFhCVT7RjLzQS3pV2ARgvRBOOCbpGjM9EH+XkR+UoL1QVveOXmUUPZBnMMN+TVR90E7+93wpsn4QUtcxWOpxPlBToE/RHLS+UFljj4R5UH8QS6DfJSI0/xBN4DMQe86/UHUHGYp3dz9QQhAR5ILq/9BmUx4qQFzAEIoQ2WuQDoBQpGbkhZvRQFCg+oy6NjdAUL6crLYwlkEQkp3YRTGvQZCLgmmyOMXB0KIyVYLpJsNQhk77ajdeRBCEbq1udKEEEKI2N2KUZ8RQlT3raTyRBNC",
          "dtype": "f8"
         },
         "yaxis": "y"
        }
       ],
       "layout": {
        "autosize": true,
        "legend": {
         "tracegroupgap": 0
        },
        "template": {
         "data": {
          "bar": [
           {
            "error_x": {
             "color": "#2a3f5f"
            },
            "error_y": {
             "color": "#2a3f5f"
            },
            "marker": {
             "line": {
              "color": "#E5ECF6",
              "width": 0.5
             },
             "pattern": {
              "fillmode": "overlay",
              "size": 10,
              "solidity": 0.2
             }
            },
            "type": "bar"
           }
          ],
          "barpolar": [
           {
            "marker": {
             "line": {
              "color": "#E5ECF6",
              "width": 0.5
             },
             "pattern": {
              "fillmode": "overlay",
              "size": 10,
              "solidity": 0.2
             }
            },
            "type": "barpolar"
           }
          ],
          "carpet": [
           {
            "aaxis": {
             "endlinecolor": "#2a3f5f",
             "gridcolor": "white",
             "linecolor": "white",
             "minorgridcolor": "white",
             "startlinecolor": "#2a3f5f"
            },
            "baxis": {
             "endlinecolor": "#2a3f5f",
             "gridcolor": "white",
             "linecolor": "white",
             "minorgridcolor": "white",
             "startlinecolor": "#2a3f5f"
            },
            "type": "carpet"
           }
          ],
          "choropleth": [
           {
            "colorbar": {
             "outlinewidth": 0,
             "ticks": ""
            },
            "type": "choropleth"
           }
          ],
          "contour": [
           {
            "colorbar": {
             "outlinewidth": 0,
             "ticks": ""
            },
            "colorscale": [
             [
              0,
              "#0d0887"
             ],
             [
              0.1111111111111111,
              "#46039f"
             ],
             [
              0.2222222222222222,
              "#7201a8"
             ],
             [
              0.3333333333333333,
              "#9c179e"
             ],
             [
              0.4444444444444444,
              "#bd3786"
             ],
             [
              0.5555555555555556,
              "#d8576b"
             ],
             [
              0.6666666666666666,
              "#ed7953"
             ],
             [
              0.7777777777777778,
              "#fb9f3a"
             ],
             [
              0.8888888888888888,
              "#fdca26"
             ],
             [
              1,
              "#f0f921"
             ]
            ],
            "type": "contour"
           }
          ],
          "contourcarpet": [
           {
            "colorbar": {
             "outlinewidth": 0,
             "ticks": ""
            },
            "type": "contourcarpet"
           }
          ],
          "heatmap": [
           {
            "colorbar": {
             "outlinewidth": 0,
             "ticks": ""
            },
            "colorscale": [
             [
              0,
              "#0d0887"
             ],
             [
              0.1111111111111111,
              "#46039f"
             ],
             [
              0.2222222222222222,
              "#7201a8"
             ],
             [
              0.3333333333333333,
              "#9c179e"
             ],
             [
              0.4444444444444444,
              "#bd3786"
             ],
             [
              0.5555555555555556,
              "#d8576b"
             ],
             [
              0.6666666666666666,
              "#ed7953"
             ],
             [
              0.7777777777777778,
              "#fb9f3a"
             ],
             [
              0.8888888888888888,
              "#fdca26"
             ],
             [
              1,
              "#f0f921"
             ]
            ],
            "type": "heatmap"
           }
          ],
          "histogram": [
           {
            "marker": {
             "pattern": {
              "fillmode": "overlay",
              "size": 10,
              "solidity": 0.2
             }
            },
            "type": "histogram"
           }
          ],
          "histogram2d": [
           {
            "colorbar": {
             "outlinewidth": 0,
             "ticks": ""
            },
            "colorscale": [
             [
              0,
              "#0d0887"
             ],
             [
              0.1111111111111111,
              "#46039f"
             ],
             [
              0.2222222222222222,
              "#7201a8"
             ],
             [
              0.3333333333333333,
              "#9c179e"
             ],
             [
              0.4444444444444444,
              "#bd3786"
             ],
             [
              0.5555555555555556,
              "#d8576b"
             ],
             [
              0.6666666666666666,
              "#ed7953"
             ],
             [
              0.7777777777777778,
              "#fb9f3a"
             ],
             [
              0.8888888888888888,
              "#fdca26"
             ],
             [
              1,
              "#f0f921"
             ]
            ],
            "type": "histogram2d"
           }
          ],
          "histogram2dcontour": [
           {
            "colorbar": {
             "outlinewidth": 0,
             "ticks": ""
            },
            "colorscale": [
             [
              0,
              "#0d0887"
             ],
             [
              0.1111111111111111,
              "#46039f"
             ],
             [
              0.2222222222222222,
              "#7201a8"
             ],
             [
              0.3333333333333333,
              "#9c179e"
             ],
             [
              0.4444444444444444,
              "#bd3786"
             ],
             [
              0.5555555555555556,
              "#d8576b"
             ],
             [
              0.6666666666666666,
              "#ed7953"
             ],
             [
              0.7777777777777778,
              "#fb9f3a"
             ],
             [
              0.8888888888888888,
              "#fdca26"
             ],
             [
              1,
              "#f0f921"
             ]
            ],
            "type": "histogram2dcontour"
           }
          ],
          "mesh3d": [
           {
            "colorbar": {
             "outlinewidth": 0,
             "ticks": ""
            },
            "type": "mesh3d"
           }
          ],
          "parcoords": [
           {
            "line": {
             "colorbar": {
              "outlinewidth": 0,
              "ticks": ""
             }
            },
            "type": "parcoords"
           }
          ],
          "pie": [
           {
            "automargin": true,
            "type": "pie"
           }
          ],
          "scatter": [
           {
            "fillpattern": {
             "fillmode": "overlay",
             "size": 10,
             "solidity": 0.2
            },
            "type": "scatter"
           }
          ],
          "scatter3d": [
           {
            "line": {
             "colorbar": {
              "outlinewidth": 0,
              "ticks": ""
             }
            },
            "marker": {
             "colorbar": {
              "outlinewidth": 0,
              "ticks": ""
             }
            },
            "type": "scatter3d"
           }
          ],
          "scattercarpet": [
           {
            "marker": {
             "colorbar": {
              "outlinewidth": 0,
              "ticks": ""
             }
            },
            "type": "scattercarpet"
           }
          ],
          "scattergeo": [
           {
            "marker": {
             "colorbar": {
              "outlinewidth": 0,
              "ticks": ""
             }
            },
            "type": "scattergeo"
           }
          ],
          "scattergl": [
           {
            "marker": {
             "colorbar": {
              "outlinewidth": 0,
              "ticks": ""
             }
            },
            "type": "scattergl"
           }
          ],
          "scattermap": [
           {
            "marker": {
             "colorbar": {
              "outlinewidth": 0,
              "ticks": ""
             }
            },
            "type": "scattermap"
           }
          ],
          "scattermapbox": [
           {
            "marker": {
             "colorbar": {
              "outlinewidth": 0,
              "ticks": ""
             }
            },
            "type": "scattermapbox"
           }
          ],
          "scatterpolar": [
           {
            "marker": {
             "colorbar": {
              "outlinewidth": 0,
              "ticks": ""
             }
            },
            "type": "scatterpolar"
           }
          ],
          "scatterpolargl": [
           {
            "marker": {
             "colorbar": {
              "outlinewidth": 0,
              "ticks": ""
             }
            },
            "type": "scatterpolargl"
           }
          ],
          "scatterternary": [
           {
            "marker": {
             "colorbar": {
              "outlinewidth": 0,
              "ticks": ""
             }
            },
            "type": "scatterternary"
           }
          ],
          "surface": [
           {
            "colorbar": {
             "outlinewidth": 0,
             "ticks": ""
            },
            "colorscale": [
             [
              0,
              "#0d0887"
             ],
             [
              0.1111111111111111,
              "#46039f"
             ],
             [
              0.2222222222222222,
              "#7201a8"
             ],
             [
              0.3333333333333333,
              "#9c179e"
             ],
             [
              0.4444444444444444,
              "#bd3786"
             ],
             [
              0.5555555555555556,
              "#d8576b"
             ],
             [
              0.6666666666666666,
              "#ed7953"
             ],
             [
              0.7777777777777778,
              "#fb9f3a"
             ],
             [
              0.8888888888888888,
              "#fdca26"
             ],
             [
              1,
              "#f0f921"
             ]
            ],
            "type": "surface"
           }
          ],
          "table": [
           {
            "cells": {
             "fill": {
              "color": "#EBF0F8"
             },
             "line": {
              "color": "white"
             }
            },
            "header": {
             "fill": {
              "color": "#C8D4E3"
             },
             "line": {
              "color": "white"
             }
            },
            "type": "table"
           }
          ]
         },
         "layout": {
          "annotationdefaults": {
           "arrowcolor": "#2a3f5f",
           "arrowhead": 0,
           "arrowwidth": 1
          },
          "autotypenumbers": "strict",
          "coloraxis": {
           "colorbar": {
            "outlinewidth": 0,
            "ticks": ""
           }
          },
          "colorscale": {
           "diverging": [
            [
             0,
             "#8e0152"
            ],
            [
             0.1,
             "#c51b7d"
            ],
            [
             0.2,
             "#de77ae"
            ],
            [
             0.3,
             "#f1b6da"
            ],
            [
             0.4,
             "#fde0ef"
            ],
            [
             0.5,
             "#f7f7f7"
            ],
            [
             0.6,
             "#e6f5d0"
            ],
            [
             0.7,
             "#b8e186"
            ],
            [
             0.8,
             "#7fbc41"
            ],
            [
             0.9,
             "#4d9221"
            ],
            [
             1,
             "#276419"
            ]
           ],
           "sequential": [
            [
             0,
             "#0d0887"
            ],
            [
             0.1111111111111111,
             "#46039f"
            ],
            [
             0.2222222222222222,
             "#7201a8"
            ],
            [
             0.3333333333333333,
             "#9c179e"
            ],
            [
             0.4444444444444444,
             "#bd3786"
            ],
            [
             0.5555555555555556,
             "#d8576b"
            ],
            [
             0.6666666666666666,
             "#ed7953"
            ],
            [
             0.7777777777777778,
             "#fb9f3a"
            ],
            [
             0.8888888888888888,
             "#fdca26"
            ],
            [
             1,
             "#f0f921"
            ]
           ],
           "sequentialminus": [
            [
             0,
             "#0d0887"
            ],
            [
             0.1111111111111111,
             "#46039f"
            ],
            [
             0.2222222222222222,
             "#7201a8"
            ],
            [
             0.3333333333333333,
             "#9c179e"
            ],
            [
             0.4444444444444444,
             "#bd3786"
            ],
            [
             0.5555555555555556,
             "#d8576b"
            ],
            [
             0.6666666666666666,
             "#ed7953"
            ],
            [
             0.7777777777777778,
             "#fb9f3a"
            ],
            [
             0.8888888888888888,
             "#fdca26"
            ],
            [
             1,
             "#f0f921"
            ]
           ]
          },
          "colorway": [
           "#636efa",
           "#EF553B",
           "#00cc96",
           "#ab63fa",
           "#FFA15A",
           "#19d3f3",
           "#FF6692",
           "#B6E880",
           "#FF97FF",
           "#FECB52"
          ],
          "font": {
           "color": "#2a3f5f"
          },
          "geo": {
           "bgcolor": "white",
           "lakecolor": "white",
           "landcolor": "#E5ECF6",
           "showlakes": true,
           "showland": true,
           "subunitcolor": "white"
          },
          "hoverlabel": {
           "align": "left"
          },
          "hovermode": "closest",
          "mapbox": {
           "style": "light"
          },
          "paper_bgcolor": "white",
          "plot_bgcolor": "#E5ECF6",
          "polar": {
           "angularaxis": {
            "gridcolor": "white",
            "linecolor": "white",
            "ticks": ""
           },
           "bgcolor": "#E5ECF6",
           "radialaxis": {
            "gridcolor": "white",
            "linecolor": "white",
            "ticks": ""
           }
          },
          "scene": {
           "xaxis": {
            "backgroundcolor": "#E5ECF6",
            "gridcolor": "white",
            "gridwidth": 2,
            "linecolor": "white",
            "showbackground": true,
            "ticks": "",
            "zerolinecolor": "white"
           },
           "yaxis": {
            "backgroundcolor": "#E5ECF6",
            "gridcolor": "white",
            "gridwidth": 2,
            "linecolor": "white",
            "showbackground": true,
            "ticks": "",
            "zerolinecolor": "white"
           },
           "zaxis": {
            "backgroundcolor": "#E5ECF6",
            "gridcolor": "white",
            "gridwidth": 2,
            "linecolor": "white",
            "showbackground": true,
            "ticks": "",
            "zerolinecolor": "white"
           }
          },
          "shapedefaults": {
           "line": {
            "color": "#2a3f5f"
           }
          },
          "ternary": {
           "aaxis": {
            "gridcolor": "white",
            "linecolor": "white",
            "ticks": ""
           },
           "baxis": {
            "gridcolor": "white",
            "linecolor": "white",
            "ticks": ""
           },
           "bgcolor": "#E5ECF6",
           "caxis": {
            "gridcolor": "white",
            "linecolor": "white",
            "ticks": ""
           }
          },
          "title": {
           "x": 0.05
          },
          "xaxis": {
           "automargin": true,
           "gridcolor": "white",
           "linecolor": "white",
           "ticks": "",
           "title": {
            "standoff": 15
           },
           "zerolinecolor": "white",
           "zerolinewidth": 2
          },
          "yaxis": {
           "automargin": true,
           "gridcolor": "white",
           "linecolor": "white",
           "ticks": "",
           "title": {
            "standoff": 15
           },
           "zerolinecolor": "white",
           "zerolinewidth": 2
          }
         }
        },
        "title": {
         "text": "Population vs Grand List Value"
        },
        "xaxis": {
         "anchor": "y",
         "autorange": true,
         "domain": [
          0,
          1
         ],
         "range": [
          -16059.034117926774,
          315344.0341179268
         ],
         "title": {
          "text": "Population"
         },
         "type": "linear"
        },
        "yaxis": {
         "anchor": "x",
         "autorange": true,
         "domain": [
          0,
          1
         ],
         "range": [
          -3925665315.126213,
          53363386663.12621
         ],
         "title": {
          "text": "Equalized Net Grand List ($)"
         },
         "type": "linear"
        }
       }
      },
      "image/png": "[encoded data removed]"
     },
     "metadata": {},
     "output_type": "display_data"
    }
   ],
   "source": [
    "\n",
    "# Plot 1: Tax Rates vs Home Prices\n",
    "fig1 = px.scatter(\n",
    "    final_df,\n",
    "    x='Mill rate real and personal property',\n",
    "    y='median_sale_price',\n",
    "    hover_name='Town',\n",
    "    labels={\n",
    "        'Mill rate real and personal property': 'Mill Rate ',\n",
    "        'median_sale_price': 'Median Home Sale Price ($)'\n",
    "    },\n",
    "    title=\"Tax Rates vs Home Prices\"\n",
    ")\n",
    "fig1.show()\n",
    "\n",
    "# save the figure as html\n",
    "fig1.write_html(\"tax_rates_vs_home_prices.html\")\n",
    "\n",
    "# Plot 2: Income vs Home Prices\n",
    "fig2 = px.scatter(\n",
    "    final_df,\n",
    "    x='Per capita income (ACS)',\n",
    "    y='median_sale_price',\n",
    "    color='Total',\n",
    "    size='sales_volume',\n",
    "    labels={\n",
    "        'Per capita income (ACS)': 'Per Capita Income ($)',\n",
    "        'median_sale_price': 'Median Home Sale Price ($)',\n",
    "        'Total': 'Population',\n",
    "        'sales_volume': 'Sales Volume'\n",
    "    },\n",
    "    title=\"Income vs Home Prices\"\n",
    ")\n",
    "fig2.show()\n",
    "\n",
    "# Plot 3: Population vs Grand List Value\n",
    "fig3 = px.scatter(\n",
    "    final_df,\n",
    "    x='Total',\n",
    "    y='Equalized net grand list',\n",
    "    trendline=\"lowess\",\n",
    "    labels={\n",
    "        'Total': 'Population',\n",
    "        'Equalized net grand list': 'Equalized Net Grand List ($)'\n",
    "    },\n",
    "    title=\"Population vs Grand List Value\"\n",
    ")\n",
    "fig3.show()\n"
   ]
  },
  {
   "cell_type": "markdown",
   "id": "6f39fc91-b78d-444f-98b4-dfd4fbbf5f1e",
   "metadata": {},
   "source": [
    "\n",
    "Below is a structured markdown report with observations for each subplot, plus definitions of the key terms used.\n",
    "\n",
    "---\n",
    "\n",
    "## 1. Tax Rates vs Home Prices\n",
    "\n",
    "- **Plot type:** Scatter plot  \n",
    "- **X-axis:** Municipal tax rate (mills per \\$1,000 of assessed value)  \n",
    "- **Y-axis:** Median home sale price (\\$)  \n",
    "\n",
    "### Key Observations\n",
    "- There is **no clear linear correlation** between tax rate and home price.\n",
    "- Municipalities with **moderate tax rates** (20–40 mills) span the **full range** of home prices.\n",
    "- A few **outliers** with very low tax rates (< 15 mills) still have **high home prices** (> \\$1 million).\n",
    "\n",
    "---\n",
    "\n",
    "## 2. Income vs Home Prices (Bubble Chart)\n",
    "\n",
    "- **Plot type:** Bubble chart  \n",
    "- **X-axis:** Median household income (\\$)  \n",
    "- **Y-axis:** Median home sale price (\\$)  \n",
    "- **Bubble size & color:** Grand List Value (total assessed property value)  \n",
    "\n",
    "### Key Observations\n",
    "- **Positive correlation:** Higher incomes generally correspond to higher home prices.\n",
    "- **Bubble encoding:** Larger, warmer-colored bubbles cluster in the upper-right — these represent affluent towns with a large tax base.\n",
    "- **Notable outliers:** A couple of municipalities have **exceptionally high grand lists** relative to their income (large bubbles at moderate X-values).\n",
    "\n",
    "---\n",
    "\n",
    "## 3. Population vs Grand List Value\n",
    "\n",
    "- **Plot type:** Scatter plot  \n",
    "- **X-axis:** Population (number of residents)  \n",
    "- **Y-axis:** Grand List Value (\\$)  \n",
    "\n",
    "### Key Observations\n",
    "- **Strong positive trend:** More populous municipalities tend to have a higher total assessed value.\n",
    "- **Deviations:** Some small towns have **disproportionately high grand lists** (e.g., resort or special‐assessment communities).\n",
    "\n",
    "---\n",
    "\n",
    "## 4. Sales Volume Distribution\n",
    "\n",
    "- **Plot type:** Histogram  \n",
    "- **X-axis:** Annual number of residential property sales  \n",
    "- **Y-axis:** Count of municipalities  \n",
    "\n",
    "### Key Observations\n",
    "- The distribution is **right-skewed**:  \n",
    "  - **Most towns** record **fewer than 500** sales per year.  \n",
    "  - A **long tail** extends to > 2,000 sales (major urban centers).\n",
    "\n",
    "---\n",
    "\n",
    "## 5. Terms & Definitions\n",
    "\n",
    "| Term                   | Definition                                                                                   |\n",
    "|------------------------|----------------------------------------------------------------------------------------------|\n",
    "| **Tax Rate**           | Mill rate charged per \\$1,000 of assessed property value (e.g., 30 mills = \\$30 on \\$1,000). |\n",
    "| **Home Price**         | Median sale price of single-family residential properties in a given municipality.           |\n",
    "| **Household Income**   | Median annual income of all households.                                                      |\n",
    "| **Grand List Value**   | Total assessed value of all taxable property in a municipality (reflects tax base size).     |\n",
    "| **Sales Volume**       | Number of residential real-estate transactions recorded in a calendar year.                  |\n",
    "| **Scatter Plot**       | Shows relationship between two continuous variables.                                        |\n",
    "| **Bubble Chart**       | Scatter plot where marker size (and/or color) encodes a third variable.                     |\n",
    "| **Histogram**          | Shows distribution of a single quantitative variable by binning.                             |\n",
    "| **Correlation**        | A measure of how two variables move together (positive, negative, or none).                  |\n",
    "| **Outlier**            | A data point that lies far from the common pattern of the rest of the data.                  |\n",
    "| **Skewness**           | The degree of asymmetry in a distribution (right-skew = long tail on the right).             |\n"
   ]
  },
  {
   "cell_type": "code",
   "execution_count": null,
   "id": "5e242089-8bbe-4cc5-a9af-4fb4b28e5c57",
   "metadata": {},
   "outputs": [
    {
     "data": {
      "image/png": "[encoded data removed]",
      "text/plain": [
       "<Figure size 1200x1200 with 2 Axes>"
      ]
     },
     "metadata": {},
     "output_type": "display_data"
    }
   ],
   "source": [
    "\n",
    "# Compute correlation matrix\n",
    "corr_df = final_df[[\n",
    "    'median_sale_price',\n",
    "    'Mill rate real and personal property',\n",
    "    'Per capita income (ACS)',\n",
    "    'Total',\n",
    "    'Equalized net grand list'\n",
    "]].corr()\n",
    "\n",
    "# Shorten labels for clarity\n",
    "labels = [\n",
    "    'Median Sale Price',\n",
    "    'Mill Rate',\n",
    "    'Per Capita Income',\n",
    "    'Population',\n",
    "    'Grand List'\n",
    "]\n",
    "corr_df.columns = labels\n",
    "corr_df.index = labels\n",
    "\n",
    "# Set Seaborn style for a clean look\n",
    "sns.set_style(\"whitegrid\", {\"grid.color\": \"lightgray\", \"grid.linestyle\": \"--\"})\n",
    "sns.set_context(\"paper\", font_scale=1.2)\n",
    "\n",
    "# Create figure\n",
    "fig, ax = plt.subplots(figsize=(8, 8), dpi=150)\n",
    "\n",
    "# Create heatmap\n",
    "sns.heatmap(\n",
    "    corr_df,\n",
    "    annot=True,  # Show correlation values\n",
    "    fmt='.2f',  # Format to 2 decimal places\n",
    "    cmap='RdBu',  # Match Plotly's color scale\n",
    "    vmin=-1, vmax=1,  # Set correlation range\n",
    "    center=0,  # Center the color scale at 0\n",
    "    square=True,  # Make cells square\n",
    "    cbar_kws={'label': 'Correlation Coefficient', 'orientation': 'vertical'},\n",
    "    annot_kws={'size': 10},\n",
    "    ax=ax\n",
    ")\n",
    "\n",
    "# Customize title and labels\n",
    "ax.set_title('Key Metric Correlations in Connecticut (2020)', fontsize=16, weight='bold', pad=20)\n",
    "ax.tick_params(axis='both', labelsize=11)\n",
    "\n",
    "# Rotate x-axis labels for readability\n",
    "plt.xticks(rotation=45, ha='right')\n",
    "plt.yticks(rotation=0)\n",
    "\n",
    "\n",
    "\n",
    "# Adjust layout for better spacing\n",
    "plt.tight_layout()\n",
    "\n",
    "# Save and show\n",
    "plt.savefig('ct_correlation_heatmap_2020.png', dpi=300, bbox_inches='tight')\n",
    "plt.show()"
   ]
  },
  {
   "cell_type": "markdown",
   "id": "40a2168a-6ee6-49c5-b827-73cebdb3482c",
   "metadata": {},
   "source": [
    "\n",
    "\n",
    "This heatmap shows Pearson correlation coefficients between five key municipal metrics. Values range from **–1** (perfect negative correlation) to **+1** (perfect positive correlation), with **0** indicating no linear relationship.\n",
    "\n",
    "---\n",
    "\n",
    "## 1. Median Sale Price\n",
    "\n",
    "- **vs. Per Capita Income:** **0.85** — _Strong positive correlation_; wealthier towns tend to have higher home prices.  \n",
    "- **vs. Grand List Value:** **0.55** — _Moderate positive correlation_; larger tax bases generally align with higher prices.  \n",
    "- **vs. Mill Rate:** **–0.43** — _Moderate negative correlation_; higher-tax towns tend to have somewhat lower home prices.  \n",
    "- **vs. Population:** **–0.03** — _No correlation_; town size alone doesn’t predict price.\n",
    "\n",
    "---\n",
    "\n",
    "## 2. Mill Rate (Tax Rate)\n",
    "\n",
    "- **vs. Per Capita Income:** **–0.52** — _Moderate negative_; richer towns set lower mill rates.  \n",
    "- **vs. Population:** **0.49** — _Moderate positive_; larger towns tend to have higher tax rates.  \n",
    "- **vs. Grand List Value:** **–0.07** — _No correlation_; total assessed value doesn’t drive mill rate directly.\n",
    "\n",
    "---\n",
    "\n",
    "## 3. Per Capita Income\n",
    "\n",
    "- **vs. Grand List Value:** **0.28** — _Weak positive_; wealthier towns have slightly larger tax bases.  \n",
    "- **vs. Population:** **–0.27** — _Weak negative_; more populous towns may have slightly lower per-capita income.\n",
    "\n",
    "---\n",
    "\n",
    "## 4. Population vs. Grand List Value\n",
    "\n",
    "- **Correlation:** **0.61** — _Strong positive_; bigger towns almost always have larger total assessed values.\n",
    "\n",
    "---\n",
    "\n",
    "## 5. Key Terms & Definitions\n",
    "\n",
    "| Term                     | Definition                                                                                       |\n",
    "|--------------------------|--------------------------------------------------------------------------------------------------|\n",
    "| **Correlation Coefficient** | A statistic (–1 to +1) measuring the strength and direction of a linear relationship between two variables. |\n",
    "| **Positive Correlation** | As one variable increases, the other tends to increase.                                          |\n",
    "| **Negative Correlation** | As one variable increases, the other tends to decrease.                                          |\n",
    "| **No Correlation**       | No apparent linear relationship (coefficient near 0).                                            |\n",
    "| **Median Sale Price**    | The middle value of home sale prices in a municipality.                                          |\n",
    "| **Mill Rate**            | The tax levy (mills per \\$1,000 of assessed value).                                              |\n",
    "| **Per Capita Income**    | Average income per person in a municipality.                                                     |\n",
    "| **Population**           | Total number of residents.                                                                       |\n",
    "| **Grand List Value**     | Aggregate assessed value of all taxable property (the town’s tax base).                          |\n",
    "\n",
    "---\n",
    "\n",
    "*Data Source:* Connecticut Real Estate Sales, Municipal Fiscal Indicators, and Population Projections (2020)  \n",
    "*Note:* Correlation does **not** imply causation—these values simply describe linear associations.  \n"
   ]
  },
  {
   "cell_type": "code",
   "execution_count": 15,
   "id": "4823fe08-93fe-47e7-990c-31d6938f85e9",
   "metadata": {},
   "outputs": [],
   "source": [
    "# Calculate key affordability metrics\n",
    "final_df['price_to_income'] = final_df['median_sale_price'] / final_df['Per capita income (ACS)']\n",
    "final_df['annual_tax_burden'] = (final_df['median_sale_price'] * final_df['Mill rate real and personal property'] / 1000)\n",
    "final_df['tax_to_income'] = final_df['annual_tax_burden'] / final_df['Per capita income (ACS)']\n",
    "\n",
    "# Composite affordability index (lower = more affordable)\n",
    "final_df['affordability_index'] = (\n",
    "    0.6 * final_df['price_to_income'] + \n",
    "    0.4 * final_df['tax_to_income']\n",
    ").round(1)\n",
    "\n",
    "# Classify affordability\n",
    "final_df['affordability_class'] = pd.cut(\n",
    "    final_df['affordability_index'],\n",
    "    bins=[0, 3, 5, 8, float('inf')],\n",
    "    labels=['Very Affordable', 'Moderate', 'Less Affordable', 'Least Affordable']\n",
    ")"
   ]
  },
  {
   "cell_type": "code",
   "execution_count": 16,
   "id": "c263deb6-1e17-47db-9a88-ef30dbb165e5",
   "metadata": {},
   "outputs": [
    {
     "data": {
      "application/vnd.plotly.v1+json": {
       "config": {
        "plotlyServerURL": "https://plot.ly"
       },
       "data": [
        {
         "hovertemplate": "<b>%{hovertext}</b><br><br>affordability_class=Very Affordable<br>Income per Capita ($)=%{x}<br>Home Price ($)=%{y}<br>Total=%{marker.size}<extra></extra>",
         "hovertext": [
          "Cornwall",
          "Cromwell",
          "Deep River",
          "New Hartford",
          "Plymouth",
          "Sharon",
          "Union"
         ],
         "legendgroup": "Very Affordable",
         "marker": {
          "color": "#2ecc71",
          "size": {
           "bdata": "6gm1cjQhwTh1X7ESJQc=",
           "dtype": "i2"
          },
          "sizemode": "area",
          "sizeref": 743.64,
          "symbol": "circle"
         },
         "mode": "markers",
         "name": "Very Affordable",
         "orientation": "v",
         "showlegend": true,
         "type": "scatter",
         "x": {
          "bdata": "AAAAAKD+8EAAAAAAwELnQAAAAACAC+dAAAAAAED/7EAAAAAA4MnjQAAAAABANfJAAAAAAMAn50A=",
          "dtype": "f8"
         },
         "xaxis": "x",
         "y": {
          "bdata": "AAAAAJDnFEEAAAAAQHcLQQAAAACATwJBAAAAAICEDkEAAAAAAGoIQQAAAADAXBVBAAAAAKAOBUE=",
          "dtype": "f8"
         },
         "yaxis": "y"
        },
        {
         "hovertemplate": "<b>%{hovertext}</b><br><br>affordability_class=Moderate<br>Income per Capita ($)=%{x}<br>Home Price ($)=%{y}<br>Total=%{marker.size}<extra></extra>",
         "hovertext": [
          "Andover",
          "Ashford",
          "Avon",
          "Barkhamsted",
          "Beacon Falls",
          "Berlin",
          "Bethany",
          "Bethlehem",
          "Bloomfield",
          "Bolton",
          "Bozrah",
          "Branford",
          "Bridgeport",
          "Bristol",
          "Brookfield",
          "Burlington",
          "Canaan",
          "Canton",
          "Chaplin",
          "Cheshire",
          "Colchester",
          "Colebrook",
          "Columbia",
          "Coventry",
          "Derby",
          "East Granby",
          "East Haddam",
          "East Hartford",
          "East Haven",
          "East Lyme",
          "East Windsor",
          "Eastford",
          "Enfield",
          "Essex",
          "Farmington",
          "Franklin",
          "Glastonbury",
          "Goshen",
          "Granby",
          "Griswold",
          "Groton",
          "Guilford",
          "Hampton",
          "Harwinton",
          "Hebron",
          "Kent",
          "Killingly",
          "Killingworth",
          "Lebanon",
          "Lisbon",
          "Litchfield",
          "Lyme",
          "Madison",
          "Manchester",
          "Meriden",
          "Middlebury",
          "Middlefield",
          "Middletown",
          "Milford",
          "Monroe",
          "Montville",
          "Morris",
          "Naugatuck",
          "New Britain",
          "New London",
          "Newington",
          "Newtown",
          "Norfolk",
          "North Canaan",
          "North Haven",
          "Norwich",
          "Old Lyme",
          "Old Saybrook",
          "Orange",
          "Plainfield",
          "Plainville",
          "Portland",
          "Preston",
          "Putnam",
          "Rocky Hill",
          "Salem",
          "Scotland",
          "Shelton",
          "Sherman",
          "Simsbury",
          "Somers",
          "South Windsor",
          "Southbury",
          "Sprague",
          "Sterling",
          "Stonington",
          "Stratford",
          "Suffield",
          "Thomaston",
          "Thompson",
          "Tolland",
          "Torrington",
          "Vernon",
          "Wallingford",
          "Warren",
          "Waterbury",
          "Waterford",
          "Watertown",
          "West Hartford",
          "Westbrook",
          "Wethersfield",
          "Willington",
          "Winchester",
          "Windham",
          "Windsor",
          "Windsor Locks",
          "Wolcott",
          "Woodbridge",
          "Woodbury",
          "Woodstock"
         ],
         "legendgroup": "Moderate",
         "marker": {
          "color": "#f1c40f",
          "size": {
           "bdata": "qRgAAHMiAAComgAAhR0AACkyAAAlngAAqSwAABgcAAA1oAAAPCQAAOAVAADczAAA8IkEAB/RAQBKewAAv0oAAGgKAAAzVQAAZBEAAMPcAACGfgAA0goAABUrAAC7XwAAhmcAAI0pAACjRwAA8p8BACHlAADNlQAA12IAAPkNAADkUAEA6jAAAJnGAADXDgAA8w8BACkYAACSVQAACmQAAAI7AQDKrQAANQ4AACkrAAC1SgAANhYAAHyMAAAVMQAA9jcAADAhAAAOQAAAExQAAPaHAADY6QEAOesBAE1AAACXIgAAgIUBANOOAQBmhQAAuZgAAEoSAACl+wAAGkwCAL3iAACi8wAAFtkAALoMAACOGAAA8bkAABVgAQDvNwAA80cAAJ5rAACaeAAAOIoAAGFMAAB2IwAAGlAAAD6mAAAAIAAA5w0AAMkrAQBOFwAAtq4AAIBbAABJwgAANpcAAGgXAACcIgAAR4sAAH+VAQCygQAAPz0AAAJLAAB4dQAAaR8BAMrqAABLXwEAWQwAAHVvAwC4kwAA96sAAPf9AQBNNwAAX9EAAJUyAAC+WAAAa9kAAHHeAAAXYgAAOIQAAFpAAADVTAAAHUAAAA==",
           "dtype": "i4"
          },
          "sizemode": "area",
          "sizeref": 743.64,
          "symbol": "circle"
         },
         "mode": "markers",
         "name": "Moderate",
         "orientation": "v",
         "showlegend": true,
         "type": "scatter",
         "x": {
          "bdata": "AAAAAGDg5UAAAAAAQMHmQAAAAACQN/JAAAAAAMBE5UAAAAAAQNvkQAAAAADgZehAAAAAAKAZ8UAAAAAAQC/nQAAAAADgduVAAAAAAMCB50AAAAAAgOLiQAAAAABgd+hAAAAAAIDb10AAAAAA4NbhQAAAAACAMOtAAAAAAICz6kAAAAAAgOzoQAAAAACAT+lAAAAAAEBg4UAAAAAAQMrqQAAAAACA8uZAAAAAAIDb50AAAAAAwPDoQAAAAABAO+dAAAAAAEAy4kAAAAAAgP3kQAAAAACgR+lAAAAAAEAX3UAAAAAAgAvgQAAAAADgUOdAAAAAAGCz40AAAAAAQMHkQAAAAADAFuJAAAAAAOB/7UAAAAAAQBDrQAAAAAAgeuRAAAAAACC+7UAAAAAAAJ/sQAAAAACgkupAAAAAAAAp4UAAAAAA4MLiQAAAAACgeO5AAAAAAOAo5EAAAAAAQBvoQAAAAACAiepAAAAAAOBV7kAAAAAAgLffQAAAAADguOdAAAAAAEBr50AAAAAAAFzkQAAAAACAXuhAAAAAAJBQ80AAAAAAAKTuQAAAAACAaeJAAAAAACCK4EAAAAAA4PDpQAAAAABgv+VAAAAAACC54kAAAAAAoE/pQAAAAAAg5+hAAAAAAKCA4UAAAAAAoCHnQAAAAACgeuFAAAAAAIAf2EAAAAAAgKDZQAAAAABgx+NAAAAAAKCY60AAAAAAwO7lQAAAAABgieNAAAAAAGCX6EAAAAAAwLjeQAAAAACwyvFAAAAAAODy6kAAAAAA4J7rQAAAAADAy91AAAAAAKD040AAAAAAYFnnQAAAAAAAGeNAAAAAAMCz4EAAAAAAoFDnQAAAAAAg5OlAAAAAAIAt4kAAAAAAAP7nQAAAAACgL/ZAAAAAACDm70AAAAAAoFrlQAAAAAAgIepAAAAAAMAW60AAAAAA4J3hQAAAAADA295AAAAAAAC/7EAAAAAAwEHjQAAAAABgPuhAAAAAAMDm4kAAAAAAAHvhQAAAAADge+xAAAAAACAg4EAAAAAAoKziQAAAAADA1ORAAAAAAEDp8UAAAAAAgH7YQAAAAABg8OVAAAAAACCB5EAAAAAAgGPsQAAAAACA3exAAAAAAODu5kAAAAAA4H7iQAAAAADA1+FAAAAAAMDs1EAAAAAAgE/kQAAAAAAgteNAAAAAAECO5EAAAAAAIB7xQAAAAABAGu5AAAAAAOAA6EA=",
          "dtype": "f8"
         },
         "xaxis": "x2",
         "y": {
          "bdata": "AAAAAODIEEEAAAAA4HoNQQAAAABg4xZBAAAAANA0DkEAAAAAAL0PQQAAAAAAFxFBAAAAADTsFkEAAAAAQCQUQQAAAAAATA1BAAAAALBNEUEAAAAAQH0KQQAAAADgyBBBAAAAAOAmAkEAAAAAwD4KQQAAAACAMRdBAAAAAKAOFUEAAAAAoJcTQQAAAAAAiBNBAAAAAABeCkEAAAAApjkWQQAAAADgyBBBAAAAAKDSDkEAAAAAUNoRQQAAAAAATA1BAAAAAIATDEEAAAAA+HkQQQAAAABQ6g9BAAAAAABqCEEAAAAAwK8MQQAAAAAAghRBAAAAAADhCUEAAAAAgBMMQQAAAABAdwtBAAAAAFCeG0EAAAAAINwSQQAAAABQ/AxBAAAAAMBcFUEAAAAAIEcWQQAAAABAJBRBAAAAAIATDEEAAAAAgPsPQQAAAABgVBlBAAAAAIDYEEEAAAAAsMQSQQAAAAB4vxNBAAAAAGByFEEAAAAAAO4LQQAAAAAAfBVBAAAAAEDoDUEAAAAAYBAMQQAAAAAw/RNBAAAAAGA2HkEAAAAA1HwdQQAAAAAA2wpBAAAAAABqCEEAAAAAYOMWQQAAAABAXw9BAAAAAGBCDEEAAAAAoA4VQQAAAABgVBlBAAAAAGC/DEEAAAAAwFwVQQAAAABAdwtBAAAAANAmCEEAAAAAwM0HQQAAAACA6A5BAAAAAOCMGkEAAAAA4DkTQQAAAADQ6AlBAAAAAOA5E0EAAAAAICEEQQAAAABAdxtBAAAAAADbGkEAAAAAsB0ZQQAAAABQpApBAAAAAMA+CkEAAAAAgIQOQQAAAABgxQtBAAAAAMC1C0EAAAAAgAcOQQAAAABArRJBAAAAAEBfD0EAAAAAYOMWQQAAAABgrR9BAAAAAIDAFEEAAAAA4IAMQQAAAADgwhFBAAAAACBlEUEAAAAAsMYKQQAAAADg1wpBAAAAAOyiFkEAAAAA4DkTQQAAAAAwhhJBAAAAAICiCUEAAAAAwK8MQQAAAADA6xJBAAAAAEAkBEEAAAAAwMEJQQAAAAAA2wpBAAAAAFAtGUEAAAAAgMAEQQAAAADWKBBBAAAAAMAgD0EAAAAAgMAUQQAAAAAYfhRBAAAAAMD3EEEAAAAAxCwMQQAAAACAMQdBAAAAAIDABEEAAAAAgIQOQQAAAADAPgpBAAAAAKgBEEEAAAAAQHcbQQAAAADgLRVBAAAAAJCCEEE=",
          "dtype": "f8"
         },
         "yaxis": "y2"
        },
        {
         "hovertemplate": "<b>%{hovertext}</b><br><br>affordability_class=Less Affordable<br>Income per Capita ($)=%{x}<br>Home Price ($)=%{y}<br>Total=%{marker.size}<extra></extra>",
         "hovertext": [
          "Ansonia",
          "Bethel",
          "Bridgewater",
          "Chester",
          "Danbury",
          "Darien",
          "Easton",
          "Hartford",
          "Mansfield",
          "New Canaan",
          "New Fairfield",
          "New Haven",
          "Norwalk",
          "Redding",
          "Ridgefield",
          "Roxbury",
          "Stamford",
          "Trumbull",
          "Washington",
          "Weston",
          "Wilton"
         ],
         "legendgroup": "Less Affordable",
         "marker": {
          "color": "#e67e22",
          "size": {
           "bdata": "AJsAAKuJAADHCwAARx4AADSXAgB8nQAAqjQAANjbAwAH1AAACZEAAFtcAACpIQQAP6ICAFtHAAABtQAAjxEAACPZAwB3FAEAIhoAADBDAABAgAAA",
           "dtype": "i4"
          },
          "sizemode": "area",
          "sizeref": 743.64,
          "symbol": "circle"
         },
         "mode": "markers",
         "name": "Less Affordable",
         "orientation": "v",
         "showlegend": true,
         "type": "scatter",
         "x": {
          "bdata": "AAAAAECT3UAAAAAAIBzlQAAAAACg7fFAAAAAAKAK5EAAAAAAANThQAAAAABQsv9AAAAAAJBm80AAAAAAwInVQAAAAADAk9RAAAAAAEAM/EAAAAAAQAzpQAAAAADA9dpAAAAAAIDJ6UAAAAAA4FfyQAAAAACgN/RAAAAAAFAi8kAAAAAAYHvrQAAAAAAgPelAAAAAABDE8UAAAAAAoEn5QAAAAADAp/ZA",
          "dtype": "f8"
         },
         "xaxis": "x3",
         "y": {
          "bdata": "AAAAADAfD0EAAAAA4BsYQQAAAADQEiNBAAAAACT7FUEAAAAAYHIUQQAAAACYMzZBAAAAAOiFJEEAAAAAQAYJQQAAAAAATA1BAAAAABAgNkEAAAAAoPAZQQAAAACAhA5BAAAAAPCnHEEAAAAAshcjQQAAAACgDiVBAAAAAMiPJkEAAAAAkAUgQQAAAACAExxBAAAAACDWI0EAAAAAEPwrQQAAAACwmilB",
          "dtype": "f8"
         },
         "yaxis": "y3"
        },
        {
         "hovertemplate": "<b>%{hovertext}</b><br><br>affordability_class=Least Affordable<br>Income per Capita ($)=%{x}<br>Home Price ($)=%{y}<br>Total=%{marker.size}<extra></extra>",
         "hovertext": [
          "Greenwich"
         ],
         "legendgroup": "Least Affordable",
         "marker": {
          "color": "#e74c3c",
          "size": {
           "bdata": "Zb0BAA==",
           "dtype": "i4"
          },
          "sizemode": "area",
          "sizeref": 743.64,
          "symbol": "circle"
         },
         "mode": "markers",
         "name": "Least Affordable",
         "orientation": "v",
         "showlegend": true,
         "type": "scatter",
         "x": {
          "bdata": "AAAAAMB3+kA=",
          "dtype": "f8"
         },
         "xaxis": "x4",
         "y": {
          "bdata": "AAAAAByDOkE=",
          "dtype": "f8"
         },
         "yaxis": "y4"
        }
       ],
       "layout": {
        "annotations": [
         {
          "font": {},
          "showarrow": false,
          "text": "affordability_class=Very Affordable",
          "x": 0.1175,
          "xanchor": "center",
          "xref": "paper",
          "y": 1,
          "yanchor": "bottom",
          "yref": "paper"
         },
         {
          "font": {},
          "showarrow": false,
          "text": "affordability_class=Moderate",
          "x": 0.3725,
          "xanchor": "center",
          "xref": "paper",
          "y": 1,
          "yanchor": "bottom",
          "yref": "paper"
         },
         {
          "font": {},
          "showarrow": false,
          "text": "affordability_class=Less Affordable",
          "x": 0.6275,
          "xanchor": "center",
          "xref": "paper",
          "y": 1,
          "yanchor": "bottom",
          "yref": "paper"
         },
         {
          "font": {},
          "showarrow": false,
          "text": "affordability_class=Least Affordable",
          "x": 0.8824999999999998,
          "xanchor": "center",
          "xref": "paper",
          "y": 1,
          "yanchor": "bottom",
          "yref": "paper"
         }
        ],
        "height": 500,
        "hovermode": "closest",
        "legend": {
         "itemsizing": "constant",
         "title": {
          "text": "affordability_class"
         },
         "tracegroupgap": 0
        },
        "template": {
         "data": {
          "bar": [
           {
            "error_x": {
             "color": "#2a3f5f"
            },
            "error_y": {
             "color": "#2a3f5f"
            },
            "marker": {
             "line": {
              "color": "#E5ECF6",
              "width": 0.5
             },
             "pattern": {
              "fillmode": "overlay",
              "size": 10,
              "solidity": 0.2
             }
            },
            "type": "bar"
           }
          ],
          "barpolar": [
           {
            "marker": {
             "line": {
              "color": "#E5ECF6",
              "width": 0.5
             },
             "pattern": {
              "fillmode": "overlay",
              "size": 10,
              "solidity": 0.2
             }
            },
            "type": "barpolar"
           }
          ],
          "carpet": [
           {
            "aaxis": {
             "endlinecolor": "#2a3f5f",
             "gridcolor": "white",
             "linecolor": "white",
             "minorgridcolor": "white",
             "startlinecolor": "#2a3f5f"
            },
            "baxis": {
             "endlinecolor": "#2a3f5f",
             "gridcolor": "white",
             "linecolor": "white",
             "minorgridcolor": "white",
             "startlinecolor": "#2a3f5f"
            },
            "type": "carpet"
           }
          ],
          "choropleth": [
           {
            "colorbar": {
             "outlinewidth": 0,
             "ticks": ""
            },
            "type": "choropleth"
           }
          ],
          "contour": [
           {
            "colorbar": {
             "outlinewidth": 0,
             "ticks": ""
            },
            "colorscale": [
             [
              0,
              "#0d0887"
             ],
             [
              0.1111111111111111,
              "#46039f"
             ],
             [
              0.2222222222222222,
              "#7201a8"
             ],
             [
              0.3333333333333333,
              "#9c179e"
             ],
             [
              0.4444444444444444,
              "#bd3786"
             ],
             [
              0.5555555555555556,
              "#d8576b"
             ],
             [
              0.6666666666666666,
              "#ed7953"
             ],
             [
              0.7777777777777778,
              "#fb9f3a"
             ],
             [
              0.8888888888888888,
              "#fdca26"
             ],
             [
              1,
              "#f0f921"
             ]
            ],
            "type": "contour"
           }
          ],
          "contourcarpet": [
           {
            "colorbar": {
             "outlinewidth": 0,
             "ticks": ""
            },
            "type": "contourcarpet"
           }
          ],
          "heatmap": [
           {
            "colorbar": {
             "outlinewidth": 0,
             "ticks": ""
            },
            "colorscale": [
             [
              0,
              "#0d0887"
             ],
             [
              0.1111111111111111,
              "#46039f"
             ],
             [
              0.2222222222222222,
              "#7201a8"
             ],
             [
              0.3333333333333333,
              "#9c179e"
             ],
             [
              0.4444444444444444,
              "#bd3786"
             ],
             [
              0.5555555555555556,
              "#d8576b"
             ],
             [
              0.6666666666666666,
              "#ed7953"
             ],
             [
              0.7777777777777778,
              "#fb9f3a"
             ],
             [
              0.8888888888888888,
              "#fdca26"
             ],
             [
              1,
              "#f0f921"
             ]
            ],
            "type": "heatmap"
           }
          ],
          "histogram": [
           {
            "marker": {
             "pattern": {
              "fillmode": "overlay",
              "size": 10,
              "solidity": 0.2
             }
            },
            "type": "histogram"
           }
          ],
          "histogram2d": [
           {
            "colorbar": {
             "outlinewidth": 0,
             "ticks": ""
            },
            "colorscale": [
             [
              0,
              "#0d0887"
             ],
             [
              0.1111111111111111,
              "#46039f"
             ],
             [
              0.2222222222222222,
              "#7201a8"
             ],
             [
              0.3333333333333333,
              "#9c179e"
             ],
             [
              0.4444444444444444,
              "#bd3786"
             ],
             [
              0.5555555555555556,
              "#d8576b"
             ],
             [
              0.6666666666666666,
              "#ed7953"
             ],
             [
              0.7777777777777778,
              "#fb9f3a"
             ],
             [
              0.8888888888888888,
              "#fdca26"
             ],
             [
              1,
              "#f0f921"
             ]
            ],
            "type": "histogram2d"
           }
          ],
          "histogram2dcontour": [
           {
            "colorbar": {
             "outlinewidth": 0,
             "ticks": ""
            },
            "colorscale": [
             [
              0,
              "#0d0887"
             ],
             [
              0.1111111111111111,
              "#46039f"
             ],
             [
              0.2222222222222222,
              "#7201a8"
             ],
             [
              0.3333333333333333,
              "#9c179e"
             ],
             [
              0.4444444444444444,
              "#bd3786"
             ],
             [
              0.5555555555555556,
              "#d8576b"
             ],
             [
              0.6666666666666666,
              "#ed7953"
             ],
             [
              0.7777777777777778,
              "#fb9f3a"
             ],
             [
              0.8888888888888888,
              "#fdca26"
             ],
             [
              1,
              "#f0f921"
             ]
            ],
            "type": "histogram2dcontour"
           }
          ],
          "mesh3d": [
           {
            "colorbar": {
             "outlinewidth": 0,
             "ticks": ""
            },
            "type": "mesh3d"
           }
          ],
          "parcoords": [
           {
            "line": {
             "colorbar": {
              "outlinewidth": 0,
              "ticks": ""
             }
            },
            "type": "parcoords"
           }
          ],
          "pie": [
           {
            "automargin": true,
            "type": "pie"
           }
          ],
          "scatter": [
           {
            "fillpattern": {
             "fillmode": "overlay",
             "size": 10,
             "solidity": 0.2
            },
            "type": "scatter"
           }
          ],
          "scatter3d": [
           {
            "line": {
             "colorbar": {
              "outlinewidth": 0,
              "ticks": ""
             }
            },
            "marker": {
             "colorbar": {
              "outlinewidth": 0,
              "ticks": ""
             }
            },
            "type": "scatter3d"
           }
          ],
          "scattercarpet": [
           {
            "marker": {
             "colorbar": {
              "outlinewidth": 0,
              "ticks": ""
             }
            },
            "type": "scattercarpet"
           }
          ],
          "scattergeo": [
           {
            "marker": {
             "colorbar": {
              "outlinewidth": 0,
              "ticks": ""
             }
            },
            "type": "scattergeo"
           }
          ],
          "scattergl": [
           {
            "marker": {
             "colorbar": {
              "outlinewidth": 0,
              "ticks": ""
             }
            },
            "type": "scattergl"
           }
          ],
          "scattermap": [
           {
            "marker": {
             "colorbar": {
              "outlinewidth": 0,
              "ticks": ""
             }
            },
            "type": "scattermap"
           }
          ],
          "scattermapbox": [
           {
            "marker": {
             "colorbar": {
              "outlinewidth": 0,
              "ticks": ""
             }
            },
            "type": "scattermapbox"
           }
          ],
          "scatterpolar": [
           {
            "marker": {
             "colorbar": {
              "outlinewidth": 0,
              "ticks": ""
             }
            },
            "type": "scatterpolar"
           }
          ],
          "scatterpolargl": [
           {
            "marker": {
             "colorbar": {
              "outlinewidth": 0,
              "ticks": ""
             }
            },
            "type": "scatterpolargl"
           }
          ],
          "scatterternary": [
           {
            "marker": {
             "colorbar": {
              "outlinewidth": 0,
              "ticks": ""
             }
            },
            "type": "scatterternary"
           }
          ],
          "surface": [
           {
            "colorbar": {
             "outlinewidth": 0,
             "ticks": ""
            },
            "colorscale": [
             [
              0,
              "#0d0887"
             ],
             [
              0.1111111111111111,
              "#46039f"
             ],
             [
              0.2222222222222222,
              "#7201a8"
             ],
             [
              0.3333333333333333,
              "#9c179e"
             ],
             [
              0.4444444444444444,
              "#bd3786"
             ],
             [
              0.5555555555555556,
              "#d8576b"
             ],
             [
              0.6666666666666666,
              "#ed7953"
             ],
             [
              0.7777777777777778,
              "#fb9f3a"
             ],
             [
              0.8888888888888888,
              "#fdca26"
             ],
             [
              1,
              "#f0f921"
             ]
            ],
            "type": "surface"
           }
          ],
          "table": [
           {
            "cells": {
             "fill": {
              "color": "#EBF0F8"
             },
             "line": {
              "color": "white"
             }
            },
            "header": {
             "fill": {
              "color": "#C8D4E3"
             },
             "line": {
              "color": "white"
             }
            },
            "type": "table"
           }
          ]
         },
         "layout": {
          "annotationdefaults": {
           "arrowcolor": "#2a3f5f",
           "arrowhead": 0,
           "arrowwidth": 1
          },
          "autotypenumbers": "strict",
          "coloraxis": {
           "colorbar": {
            "outlinewidth": 0,
            "ticks": ""
           }
          },
          "colorscale": {
           "diverging": [
            [
             0,
             "#8e0152"
            ],
            [
             0.1,
             "#c51b7d"
            ],
            [
             0.2,
             "#de77ae"
            ],
            [
             0.3,
             "#f1b6da"
            ],
            [
             0.4,
             "#fde0ef"
            ],
            [
             0.5,
             "#f7f7f7"
            ],
            [
             0.6,
             "#e6f5d0"
            ],
            [
             0.7,
             "#b8e186"
            ],
            [
             0.8,
             "#7fbc41"
            ],
            [
             0.9,
             "#4d9221"
            ],
            [
             1,
             "#276419"
            ]
           ],
           "sequential": [
            [
             0,
             "#0d0887"
            ],
            [
             0.1111111111111111,
             "#46039f"
            ],
            [
             0.2222222222222222,
             "#7201a8"
            ],
            [
             0.3333333333333333,
             "#9c179e"
            ],
            [
             0.4444444444444444,
             "#bd3786"
            ],
            [
             0.5555555555555556,
             "#d8576b"
            ],
            [
             0.6666666666666666,
             "#ed7953"
            ],
            [
             0.7777777777777778,
             "#fb9f3a"
            ],
            [
             0.8888888888888888,
             "#fdca26"
            ],
            [
             1,
             "#f0f921"
            ]
           ],
           "sequentialminus": [
            [
             0,
             "#0d0887"
            ],
            [
             0.1111111111111111,
             "#46039f"
            ],
            [
             0.2222222222222222,
             "#7201a8"
            ],
            [
             0.3333333333333333,
             "#9c179e"
            ],
            [
             0.4444444444444444,
             "#bd3786"
            ],
            [
             0.5555555555555556,
             "#d8576b"
            ],
            [
             0.6666666666666666,
             "#ed7953"
            ],
            [
             0.7777777777777778,
             "#fb9f3a"
            ],
            [
             0.8888888888888888,
             "#fdca26"
            ],
            [
             1,
             "#f0f921"
            ]
           ]
          },
          "colorway": [
           "#636efa",
           "#EF553B",
           "#00cc96",
           "#ab63fa",
           "#FFA15A",
           "#19d3f3",
           "#FF6692",
           "#B6E880",
           "#FF97FF",
           "#FECB52"
          ],
          "font": {
           "color": "#2a3f5f"
          },
          "geo": {
           "bgcolor": "white",
           "lakecolor": "white",
           "landcolor": "#E5ECF6",
           "showlakes": true,
           "showland": true,
           "subunitcolor": "white"
          },
          "hoverlabel": {
           "align": "left"
          },
          "hovermode": "closest",
          "mapbox": {
           "style": "light"
          },
          "paper_bgcolor": "white",
          "plot_bgcolor": "#E5ECF6",
          "polar": {
           "angularaxis": {
            "gridcolor": "white",
            "linecolor": "white",
            "ticks": ""
           },
           "bgcolor": "#E5ECF6",
           "radialaxis": {
            "gridcolor": "white",
            "linecolor": "white",
            "ticks": ""
           }
          },
          "scene": {
           "xaxis": {
            "backgroundcolor": "#E5ECF6",
            "gridcolor": "white",
            "gridwidth": 2,
            "linecolor": "white",
            "showbackground": true,
            "ticks": "",
            "zerolinecolor": "white"
           },
           "yaxis": {
            "backgroundcolor": "#E5ECF6",
            "gridcolor": "white",
            "gridwidth": 2,
            "linecolor": "white",
            "showbackground": true,
            "ticks": "",
            "zerolinecolor": "white"
           },
           "zaxis": {
            "backgroundcolor": "#E5ECF6",
            "gridcolor": "white",
            "gridwidth": 2,
            "linecolor": "white",
            "showbackground": true,
            "ticks": "",
            "zerolinecolor": "white"
           }
          },
          "shapedefaults": {
           "line": {
            "color": "#2a3f5f"
           }
          },
          "ternary": {
           "aaxis": {
            "gridcolor": "white",
            "linecolor": "white",
            "ticks": ""
           },
           "baxis": {
            "gridcolor": "white",
            "linecolor": "white",
            "ticks": ""
           },
           "bgcolor": "#E5ECF6",
           "caxis": {
            "gridcolor": "white",
            "linecolor": "white",
            "ticks": ""
           }
          },
          "title": {
           "x": 0.05
          },
          "xaxis": {
           "automargin": true,
           "gridcolor": "white",
           "linecolor": "white",
           "ticks": "",
           "title": {
            "standoff": 15
           },
           "zerolinecolor": "white",
           "zerolinewidth": 2
          },
          "yaxis": {
           "automargin": true,
           "gridcolor": "white",
           "linecolor": "white",
           "ticks": "",
           "title": {
            "standoff": 15
           },
           "zerolinecolor": "white",
           "zerolinewidth": 2
          }
         }
        },
        "title": {
         "text": "<b>Affordability Classification</b><br><span style='font-size:12px'>Size = Population | Color = Affordability Tier</span>"
        },
        "xaxis": {
         "anchor": "y",
         "domain": [
          0,
          0.235
         ],
         "title": {
          "text": "Income per Capita ($)"
         }
        },
        "xaxis2": {
         "anchor": "y2",
         "domain": [
          0.255,
          0.49
         ],
         "matches": "x",
         "title": {
          "text": "Income per Capita ($)"
         }
        },
        "xaxis3": {
         "anchor": "y3",
         "domain": [
          0.51,
          0.745
         ],
         "matches": "x",
         "title": {
          "text": "Income per Capita ($)"
         }
        },
        "xaxis4": {
         "anchor": "y4",
         "domain": [
          0.7649999999999999,
          0.9999999999999999
         ],
         "matches": "x",
         "title": {
          "text": "Income per Capita ($)"
         }
        },
        "yaxis": {
         "anchor": "x",
         "domain": [
          0,
          1
         ],
         "title": {
          "text": "Home Price ($)"
         }
        },
        "yaxis2": {
         "anchor": "x2",
         "domain": [
          0,
          1
         ],
         "matches": "y",
         "showticklabels": false
        },
        "yaxis3": {
         "anchor": "x3",
         "domain": [
          0,
          1
         ],
         "matches": "y",
         "showticklabels": false
        },
        "yaxis4": {
         "anchor": "x4",
         "domain": [
          0,
          1
         ],
         "matches": "y",
         "showticklabels": false
        }
       }
      }
     },
     "metadata": {},
     "output_type": "display_data"
    }
   ],
   "source": [
    "fig = px.scatter(\n",
    "    final_df,\n",
    "    x='Per capita income (ACS)',\n",
    "    y='median_sale_price',\n",
    "    color='affordability_class',\n",
    "    size='Total',\n",
    "    facet_col='affordability_class',\n",
    "    hover_name='Town',\n",
    "    category_orders={\n",
    "        'affordability_class': ['Very Affordable', 'Moderate', 'Less Affordable', 'Least Affordable']\n",
    "    },\n",
    "    color_discrete_sequence=['#2ecc71', '#f1c40f', '#e67e22', '#e74c3c'],\n",
    "    title=\"<b>Affordability Classification</b><br>\"\n",
    "          \"<span style='font-size:12px'>Size = Population | Color = Affordability Tier</span>\",\n",
    "    labels={\n",
    "        'Per capita income (ACS)': 'Income per Capita ($)',\n",
    "        'median_sale_price': 'Home Price ($)'\n",
    "    }\n",
    ")\n",
    "fig.update_layout(height=500, hovermode='closest')\n",
    "fig.show()"
   ]
  },
  {
   "cell_type": "code",
   "execution_count": 19,
   "id": "e60e7f72",
   "metadata": {},
   "outputs": [
    {
     "data": {
      "application/vnd.plotly.v1+json": {
       "config": {
        "plotlyServerURL": "https://plot.ly"
       },
       "data": [
        {
         "hovertemplate": "Town=%{x}<br>Affordability Index=%{y}<extra></extra>",
         "legendgroup": "",
         "marker": {
          "color": "#2ecc71",
          "pattern": {
           "shape": ""
          }
         },
         "name": "",
         "orientation": "v",
         "showlegend": false,
         "textposition": "auto",
         "type": "bar",
         "x": [
          "Deep River",
          "Union",
          "New Hartford",
          "Sharon",
          "Cromwell"
         ],
         "xaxis": "x",
         "y": {
          "bdata": "ZmZmZmZm/j+amZmZmZkBQM3MzMzMzARAZmZmZmZmBkAzMzMzMzMHQA==",
          "dtype": "f8"
         },
         "yaxis": "y"
        }
       ],
       "layout": {
        "barmode": "relative",
        "legend": {
         "tracegroupgap": 0
        },
        "showlegend": false,
        "template": {
         "data": {
          "bar": [
           {
            "error_x": {
             "color": "#2a3f5f"
            },
            "error_y": {
             "color": "#2a3f5f"
            },
            "marker": {
             "line": {
              "color": "#E5ECF6",
              "width": 0.5
             },
             "pattern": {
              "fillmode": "overlay",
              "size": 10,
              "solidity": 0.2
             }
            },
            "type": "bar"
           }
          ],
          "barpolar": [
           {
            "marker": {
             "line": {
              "color": "#E5ECF6",
              "width": 0.5
             },
             "pattern": {
              "fillmode": "overlay",
              "size": 10,
              "solidity": 0.2
             }
            },
            "type": "barpolar"
           }
          ],
          "carpet": [
           {
            "aaxis": {
             "endlinecolor": "#2a3f5f",
             "gridcolor": "white",
             "linecolor": "white",
             "minorgridcolor": "white",
             "startlinecolor": "#2a3f5f"
            },
            "baxis": {
             "endlinecolor": "#2a3f5f",
             "gridcolor": "white",
             "linecolor": "white",
             "minorgridcolor": "white",
             "startlinecolor": "#2a3f5f"
            },
            "type": "carpet"
           }
          ],
          "choropleth": [
           {
            "colorbar": {
             "outlinewidth": 0,
             "ticks": ""
            },
            "type": "choropleth"
           }
          ],
          "contour": [
           {
            "colorbar": {
             "outlinewidth": 0,
             "ticks": ""
            },
            "colorscale": [
             [
              0,
              "#0d0887"
             ],
             [
              0.1111111111111111,
              "#46039f"
             ],
             [
              0.2222222222222222,
              "#7201a8"
             ],
             [
              0.3333333333333333,
              "#9c179e"
             ],
             [
              0.4444444444444444,
              "#bd3786"
             ],
             [
              0.5555555555555556,
              "#d8576b"
             ],
             [
              0.6666666666666666,
              "#ed7953"
             ],
             [
              0.7777777777777778,
              "#fb9f3a"
             ],
             [
              0.8888888888888888,
              "#fdca26"
             ],
             [
              1,
              "#f0f921"
             ]
            ],
            "type": "contour"
           }
          ],
          "contourcarpet": [
           {
            "colorbar": {
             "outlinewidth": 0,
             "ticks": ""
            },
            "type": "contourcarpet"
           }
          ],
          "heatmap": [
           {
            "colorbar": {
             "outlinewidth": 0,
             "ticks": ""
            },
            "colorscale": [
             [
              0,
              "#0d0887"
             ],
             [
              0.1111111111111111,
              "#46039f"
             ],
             [
              0.2222222222222222,
              "#7201a8"
             ],
             [
              0.3333333333333333,
              "#9c179e"
             ],
             [
              0.4444444444444444,
              "#bd3786"
             ],
             [
              0.5555555555555556,
              "#d8576b"
             ],
             [
              0.6666666666666666,
              "#ed7953"
             ],
             [
              0.7777777777777778,
              "#fb9f3a"
             ],
             [
              0.8888888888888888,
              "#fdca26"
             ],
             [
              1,
              "#f0f921"
             ]
            ],
            "type": "heatmap"
           }
          ],
          "histogram": [
           {
            "marker": {
             "pattern": {
              "fillmode": "overlay",
              "size": 10,
              "solidity": 0.2
             }
            },
            "type": "histogram"
           }
          ],
          "histogram2d": [
           {
            "colorbar": {
             "outlinewidth": 0,
             "ticks": ""
            },
            "colorscale": [
             [
              0,
              "#0d0887"
             ],
             [
              0.1111111111111111,
              "#46039f"
             ],
             [
              0.2222222222222222,
              "#7201a8"
             ],
             [
              0.3333333333333333,
              "#9c179e"
             ],
             [
              0.4444444444444444,
              "#bd3786"
             ],
             [
              0.5555555555555556,
              "#d8576b"
             ],
             [
              0.6666666666666666,
              "#ed7953"
             ],
             [
              0.7777777777777778,
              "#fb9f3a"
             ],
             [
              0.8888888888888888,
              "#fdca26"
             ],
             [
              1,
              "#f0f921"
             ]
            ],
            "type": "histogram2d"
           }
          ],
          "histogram2dcontour": [
           {
            "colorbar": {
             "outlinewidth": 0,
             "ticks": ""
            },
            "colorscale": [
             [
              0,
              "#0d0887"
             ],
             [
              0.1111111111111111,
              "#46039f"
             ],
             [
              0.2222222222222222,
              "#7201a8"
             ],
             [
              0.3333333333333333,
              "#9c179e"
             ],
             [
              0.4444444444444444,
              "#bd3786"
             ],
             [
              0.5555555555555556,
              "#d8576b"
             ],
             [
              0.6666666666666666,
              "#ed7953"
             ],
             [
              0.7777777777777778,
              "#fb9f3a"
             ],
             [
              0.8888888888888888,
              "#fdca26"
             ],
             [
              1,
              "#f0f921"
             ]
            ],
            "type": "histogram2dcontour"
           }
          ],
          "mesh3d": [
           {
            "colorbar": {
             "outlinewidth": 0,
             "ticks": ""
            },
            "type": "mesh3d"
           }
          ],
          "parcoords": [
           {
            "line": {
             "colorbar": {
              "outlinewidth": 0,
              "ticks": ""
             }
            },
            "type": "parcoords"
           }
          ],
          "pie": [
           {
            "automargin": true,
            "type": "pie"
           }
          ],
          "scatter": [
           {
            "fillpattern": {
             "fillmode": "overlay",
             "size": 10,
             "solidity": 0.2
            },
            "type": "scatter"
           }
          ],
          "scatter3d": [
           {
            "line": {
             "colorbar": {
              "outlinewidth": 0,
              "ticks": ""
             }
            },
            "marker": {
             "colorbar": {
              "outlinewidth": 0,
              "ticks": ""
             }
            },
            "type": "scatter3d"
           }
          ],
          "scattercarpet": [
           {
            "marker": {
             "colorbar": {
              "outlinewidth": 0,
              "ticks": ""
             }
            },
            "type": "scattercarpet"
           }
          ],
          "scattergeo": [
           {
            "marker": {
             "colorbar": {
              "outlinewidth": 0,
              "ticks": ""
             }
            },
            "type": "scattergeo"
           }
          ],
          "scattergl": [
           {
            "marker": {
             "colorbar": {
              "outlinewidth": 0,
              "ticks": ""
             }
            },
            "type": "scattergl"
           }
          ],
          "scattermap": [
           {
            "marker": {
             "colorbar": {
              "outlinewidth": 0,
              "ticks": ""
             }
            },
            "type": "scattermap"
           }
          ],
          "scattermapbox": [
           {
            "marker": {
             "colorbar": {
              "outlinewidth": 0,
              "ticks": ""
             }
            },
            "type": "scattermapbox"
           }
          ],
          "scatterpolar": [
           {
            "marker": {
             "colorbar": {
              "outlinewidth": 0,
              "ticks": ""
             }
            },
            "type": "scatterpolar"
           }
          ],
          "scatterpolargl": [
           {
            "marker": {
             "colorbar": {
              "outlinewidth": 0,
              "ticks": ""
             }
            },
            "type": "scatterpolargl"
           }
          ],
          "scatterternary": [
           {
            "marker": {
             "colorbar": {
              "outlinewidth": 0,
              "ticks": ""
             }
            },
            "type": "scatterternary"
           }
          ],
          "surface": [
           {
            "colorbar": {
             "outlinewidth": 0,
             "ticks": ""
            },
            "colorscale": [
             [
              0,
              "#0d0887"
             ],
             [
              0.1111111111111111,
              "#46039f"
             ],
             [
              0.2222222222222222,
              "#7201a8"
             ],
             [
              0.3333333333333333,
              "#9c179e"
             ],
             [
              0.4444444444444444,
              "#bd3786"
             ],
             [
              0.5555555555555556,
              "#d8576b"
             ],
             [
              0.6666666666666666,
              "#ed7953"
             ],
             [
              0.7777777777777778,
              "#fb9f3a"
             ],
             [
              0.8888888888888888,
              "#fdca26"
             ],
             [
              1,
              "#f0f921"
             ]
            ],
            "type": "surface"
           }
          ],
          "table": [
           {
            "cells": {
             "fill": {
              "color": "#EBF0F8"
             },
             "line": {
              "color": "white"
             }
            },
            "header": {
             "fill": {
              "color": "#C8D4E3"
             },
             "line": {
              "color": "white"
             }
            },
            "type": "table"
           }
          ]
         },
         "layout": {
          "annotationdefaults": {
           "arrowcolor": "#2a3f5f",
           "arrowhead": 0,
           "arrowwidth": 1
          },
          "autotypenumbers": "strict",
          "coloraxis": {
           "colorbar": {
            "outlinewidth": 0,
            "ticks": ""
           }
          },
          "colorscale": {
           "diverging": [
            [
             0,
             "#8e0152"
            ],
            [
             0.1,
             "#c51b7d"
            ],
            [
             0.2,
             "#de77ae"
            ],
            [
             0.3,
             "#f1b6da"
            ],
            [
             0.4,
             "#fde0ef"
            ],
            [
             0.5,
             "#f7f7f7"
            ],
            [
             0.6,
             "#e6f5d0"
            ],
            [
             0.7,
             "#b8e186"
            ],
            [
             0.8,
             "#7fbc41"
            ],
            [
             0.9,
             "#4d9221"
            ],
            [
             1,
             "#276419"
            ]
           ],
           "sequential": [
            [
             0,
             "#0d0887"
            ],
            [
             0.1111111111111111,
             "#46039f"
            ],
            [
             0.2222222222222222,
             "#7201a8"
            ],
            [
             0.3333333333333333,
             "#9c179e"
            ],
            [
             0.4444444444444444,
             "#bd3786"
            ],
            [
             0.5555555555555556,
             "#d8576b"
            ],
            [
             0.6666666666666666,
             "#ed7953"
            ],
            [
             0.7777777777777778,
             "#fb9f3a"
            ],
            [
             0.8888888888888888,
             "#fdca26"
            ],
            [
             1,
             "#f0f921"
            ]
           ],
           "sequentialminus": [
            [
             0,
             "#0d0887"
            ],
            [
             0.1111111111111111,
             "#46039f"
            ],
            [
             0.2222222222222222,
             "#7201a8"
            ],
            [
             0.3333333333333333,
             "#9c179e"
            ],
            [
             0.4444444444444444,
             "#bd3786"
            ],
            [
             0.5555555555555556,
             "#d8576b"
            ],
            [
             0.6666666666666666,
             "#ed7953"
            ],
            [
             0.7777777777777778,
             "#fb9f3a"
            ],
            [
             0.8888888888888888,
             "#fdca26"
            ],
            [
             1,
             "#f0f921"
            ]
           ]
          },
          "colorway": [
           "#636efa",
           "#EF553B",
           "#00cc96",
           "#ab63fa",
           "#FFA15A",
           "#19d3f3",
           "#FF6692",
           "#B6E880",
           "#FF97FF",
           "#FECB52"
          ],
          "font": {
           "color": "#2a3f5f"
          },
          "geo": {
           "bgcolor": "white",
           "lakecolor": "white",
           "landcolor": "#E5ECF6",
           "showlakes": true,
           "showland": true,
           "subunitcolor": "white"
          },
          "hoverlabel": {
           "align": "left"
          },
          "hovermode": "closest",
          "mapbox": {
           "style": "light"
          },
          "paper_bgcolor": "white",
          "plot_bgcolor": "#E5ECF6",
          "polar": {
           "angularaxis": {
            "gridcolor": "white",
            "linecolor": "white",
            "ticks": ""
           },
           "bgcolor": "#E5ECF6",
           "radialaxis": {
            "gridcolor": "white",
            "linecolor": "white",
            "ticks": ""
           }
          },
          "scene": {
           "xaxis": {
            "backgroundcolor": "#E5ECF6",
            "gridcolor": "white",
            "gridwidth": 2,
            "linecolor": "white",
            "showbackground": true,
            "ticks": "",
            "zerolinecolor": "white"
           },
           "yaxis": {
            "backgroundcolor": "#E5ECF6",
            "gridcolor": "white",
            "gridwidth": 2,
            "linecolor": "white",
            "showbackground": true,
            "ticks": "",
            "zerolinecolor": "white"
           },
           "zaxis": {
            "backgroundcolor": "#E5ECF6",
            "gridcolor": "white",
            "gridwidth": 2,
            "linecolor": "white",
            "showbackground": true,
            "ticks": "",
            "zerolinecolor": "white"
           }
          },
          "shapedefaults": {
           "line": {
            "color": "#2a3f5f"
           }
          },
          "ternary": {
           "aaxis": {
            "gridcolor": "white",
            "linecolor": "white",
            "ticks": ""
           },
           "baxis": {
            "gridcolor": "white",
            "linecolor": "white",
            "ticks": ""
           },
           "bgcolor": "#E5ECF6",
           "caxis": {
            "gridcolor": "white",
            "linecolor": "white",
            "ticks": ""
           }
          },
          "title": {
           "x": 0.05
          },
          "xaxis": {
           "automargin": true,
           "gridcolor": "white",
           "linecolor": "white",
           "ticks": "",
           "title": {
            "standoff": 15
           },
           "zerolinecolor": "white",
           "zerolinewidth": 2
          },
          "yaxis": {
           "automargin": true,
           "gridcolor": "white",
           "linecolor": "white",
           "ticks": "",
           "title": {
            "standoff": 15
           },
           "zerolinecolor": "white",
           "zerolinewidth": 2
          }
         }
        },
        "title": {
         "text": "Top 5 Most Affordable Towns"
        },
        "xaxis": {
         "anchor": "y",
         "domain": [
          0,
          1
         ],
         "tickangle": 45,
         "title": {
          "text": "Town"
         }
        },
        "yaxis": {
         "anchor": "x",
         "domain": [
          0,
          1
         ],
         "title": {
          "text": "Affordability Index"
         }
        }
       }
      }
     },
     "metadata": {},
     "output_type": "display_data"
    },
    {
     "data": {
      "application/vnd.plotly.v1+json": {
       "config": {
        "plotlyServerURL": "https://plot.ly"
       },
       "data": [
        {
         "hovertemplate": "Town=%{x}<br>Affordability Index=%{y}<extra></extra>",
         "legendgroup": "",
         "marker": {
          "color": "#e74c3c",
          "pattern": {
           "shape": ""
          }
         },
         "name": "",
         "orientation": "v",
         "showlegend": false,
         "textposition": "auto",
         "type": "bar",
         "x": [
          "Roxbury",
          "Darien",
          "Mansfield",
          "New Canaan",
          "Greenwich"
         ],
         "xaxis": "x",
         "y": {
          "bdata": "AAAAAAAAGEAzMzMzMzMbQAAAAAAAABxAzczMzMzMHkBmZmZmZmYjQA==",
          "dtype": "f8"
         },
         "yaxis": "y"
        }
       ],
       "layout": {
        "barmode": "relative",
        "legend": {
         "tracegroupgap": 0
        },
        "showlegend": false,
        "template": {
         "data": {
          "bar": [
           {
            "error_x": {
             "color": "#2a3f5f"
            },
            "error_y": {
             "color": "#2a3f5f"
            },
            "marker": {
             "line": {
              "color": "#E5ECF6",
              "width": 0.5
             },
             "pattern": {
              "fillmode": "overlay",
              "size": 10,
              "solidity": 0.2
             }
            },
            "type": "bar"
           }
          ],
          "barpolar": [
           {
            "marker": {
             "line": {
              "color": "#E5ECF6",
              "width": 0.5
             },
             "pattern": {
              "fillmode": "overlay",
              "size": 10,
              "solidity": 0.2
             }
            },
            "type": "barpolar"
           }
          ],
          "carpet": [
           {
            "aaxis": {
             "endlinecolor": "#2a3f5f",
             "gridcolor": "white",
             "linecolor": "white",
             "minorgridcolor": "white",
             "startlinecolor": "#2a3f5f"
            },
            "baxis": {
             "endlinecolor": "#2a3f5f",
             "gridcolor": "white",
             "linecolor": "white",
             "minorgridcolor": "white",
             "startlinecolor": "#2a3f5f"
            },
            "type": "carpet"
           }
          ],
          "choropleth": [
           {
            "colorbar": {
             "outlinewidth": 0,
             "ticks": ""
            },
            "type": "choropleth"
           }
          ],
          "contour": [
           {
            "colorbar": {
             "outlinewidth": 0,
             "ticks": ""
            },
            "colorscale": [
             [
              0,
              "#0d0887"
             ],
             [
              0.1111111111111111,
              "#46039f"
             ],
             [
              0.2222222222222222,
              "#7201a8"
             ],
             [
              0.3333333333333333,
              "#9c179e"
             ],
             [
              0.4444444444444444,
              "#bd3786"
             ],
             [
              0.5555555555555556,
              "#d8576b"
             ],
             [
              0.6666666666666666,
              "#ed7953"
             ],
             [
              0.7777777777777778,
              "#fb9f3a"
             ],
             [
              0.8888888888888888,
              "#fdca26"
             ],
             [
              1,
              "#f0f921"
             ]
            ],
            "type": "contour"
           }
          ],
          "contourcarpet": [
           {
            "colorbar": {
             "outlinewidth": 0,
             "ticks": ""
            },
            "type": "contourcarpet"
           }
          ],
          "heatmap": [
           {
            "colorbar": {
             "outlinewidth": 0,
             "ticks": ""
            },
            "colorscale": [
             [
              0,
              "#0d0887"
             ],
             [
              0.1111111111111111,
              "#46039f"
             ],
             [
              0.2222222222222222,
              "#7201a8"
             ],
             [
              0.3333333333333333,
              "#9c179e"
             ],
             [
              0.4444444444444444,
              "#bd3786"
             ],
             [
              0.5555555555555556,
              "#d8576b"
             ],
             [
              0.6666666666666666,
              "#ed7953"
             ],
             [
              0.7777777777777778,
              "#fb9f3a"
             ],
             [
              0.8888888888888888,
              "#fdca26"
             ],
             [
              1,
              "#f0f921"
             ]
            ],
            "type": "heatmap"
           }
          ],
          "histogram": [
           {
            "marker": {
             "pattern": {
              "fillmode": "overlay",
              "size": 10,
              "solidity": 0.2
             }
            },
            "type": "histogram"
           }
          ],
          "histogram2d": [
           {
            "colorbar": {
             "outlinewidth": 0,
             "ticks": ""
            },
            "colorscale": [
             [
              0,
              "#0d0887"
             ],
             [
              0.1111111111111111,
              "#46039f"
             ],
             [
              0.2222222222222222,
              "#7201a8"
             ],
             [
              0.3333333333333333,
              "#9c179e"
             ],
             [
              0.4444444444444444,
              "#bd3786"
             ],
             [
              0.5555555555555556,
              "#d8576b"
             ],
             [
              0.6666666666666666,
              "#ed7953"
             ],
             [
              0.7777777777777778,
              "#fb9f3a"
             ],
             [
              0.8888888888888888,
              "#fdca26"
             ],
             [
              1,
              "#f0f921"
             ]
            ],
            "type": "histogram2d"
           }
          ],
          "histogram2dcontour": [
           {
            "colorbar": {
             "outlinewidth": 0,
             "ticks": ""
            },
            "colorscale": [
             [
              0,
              "#0d0887"
             ],
             [
              0.1111111111111111,
              "#46039f"
             ],
             [
              0.2222222222222222,
              "#7201a8"
             ],
             [
              0.3333333333333333,
              "#9c179e"
             ],
             [
              0.4444444444444444,
              "#bd3786"
             ],
             [
              0.5555555555555556,
              "#d8576b"
             ],
             [
              0.6666666666666666,
              "#ed7953"
             ],
             [
              0.7777777777777778,
              "#fb9f3a"
             ],
             [
              0.8888888888888888,
              "#fdca26"
             ],
             [
              1,
              "#f0f921"
             ]
            ],
            "type": "histogram2dcontour"
           }
          ],
          "mesh3d": [
           {
            "colorbar": {
             "outlinewidth": 0,
             "ticks": ""
            },
            "type": "mesh3d"
           }
          ],
          "parcoords": [
           {
            "line": {
             "colorbar": {
              "outlinewidth": 0,
              "ticks": ""
             }
            },
            "type": "parcoords"
           }
          ],
          "pie": [
           {
            "automargin": true,
            "type": "pie"
           }
          ],
          "scatter": [
           {
            "fillpattern": {
             "fillmode": "overlay",
             "size": 10,
             "solidity": 0.2
            },
            "type": "scatter"
           }
          ],
          "scatter3d": [
           {
            "line": {
             "colorbar": {
              "outlinewidth": 0,
              "ticks": ""
             }
            },
            "marker": {
             "colorbar": {
              "outlinewidth": 0,
              "ticks": ""
             }
            },
            "type": "scatter3d"
           }
          ],
          "scattercarpet": [
           {
            "marker": {
             "colorbar": {
              "outlinewidth": 0,
              "ticks": ""
             }
            },
            "type": "scattercarpet"
           }
          ],
          "scattergeo": [
           {
            "marker": {
             "colorbar": {
              "outlinewidth": 0,
              "ticks": ""
             }
            },
            "type": "scattergeo"
           }
          ],
          "scattergl": [
           {
            "marker": {
             "colorbar": {
              "outlinewidth": 0,
              "ticks": ""
             }
            },
            "type": "scattergl"
           }
          ],
          "scattermap": [
           {
            "marker": {
             "colorbar": {
              "outlinewidth": 0,
              "ticks": ""
             }
            },
            "type": "scattermap"
           }
          ],
          "scattermapbox": [
           {
            "marker": {
             "colorbar": {
              "outlinewidth": 0,
              "ticks": ""
             }
            },
            "type": "scattermapbox"
           }
          ],
          "scatterpolar": [
           {
            "marker": {
             "colorbar": {
              "outlinewidth": 0,
              "ticks": ""
             }
            },
            "type": "scatterpolar"
           }
          ],
          "scatterpolargl": [
           {
            "marker": {
             "colorbar": {
              "outlinewidth": 0,
              "ticks": ""
             }
            },
            "type": "scatterpolargl"
           }
          ],
          "scatterternary": [
           {
            "marker": {
             "colorbar": {
              "outlinewidth": 0,
              "ticks": ""
             }
            },
            "type": "scatterternary"
           }
          ],
          "surface": [
           {
            "colorbar": {
             "outlinewidth": 0,
             "ticks": ""
            },
            "colorscale": [
             [
              0,
              "#0d0887"
             ],
             [
              0.1111111111111111,
              "#46039f"
             ],
             [
              0.2222222222222222,
              "#7201a8"
             ],
             [
              0.3333333333333333,
              "#9c179e"
             ],
             [
              0.4444444444444444,
              "#bd3786"
             ],
             [
              0.5555555555555556,
              "#d8576b"
             ],
             [
              0.6666666666666666,
              "#ed7953"
             ],
             [
              0.7777777777777778,
              "#fb9f3a"
             ],
             [
              0.8888888888888888,
              "#fdca26"
             ],
             [
              1,
              "#f0f921"
             ]
            ],
            "type": "surface"
           }
          ],
          "table": [
           {
            "cells": {
             "fill": {
              "color": "#EBF0F8"
             },
             "line": {
              "color": "white"
             }
            },
            "header": {
             "fill": {
              "color": "#C8D4E3"
             },
             "line": {
              "color": "white"
             }
            },
            "type": "table"
           }
          ]
         },
         "layout": {
          "annotationdefaults": {
           "arrowcolor": "#2a3f5f",
           "arrowhead": 0,
           "arrowwidth": 1
          },
          "autotypenumbers": "strict",
          "coloraxis": {
           "colorbar": {
            "outlinewidth": 0,
            "ticks": ""
           }
          },
          "colorscale": {
           "diverging": [
            [
             0,
             "#8e0152"
            ],
            [
             0.1,
             "#c51b7d"
            ],
            [
             0.2,
             "#de77ae"
            ],
            [
             0.3,
             "#f1b6da"
            ],
            [
             0.4,
             "#fde0ef"
            ],
            [
             0.5,
             "#f7f7f7"
            ],
            [
             0.6,
             "#e6f5d0"
            ],
            [
             0.7,
             "#b8e186"
            ],
            [
             0.8,
             "#7fbc41"
            ],
            [
             0.9,
             "#4d9221"
            ],
            [
             1,
             "#276419"
            ]
           ],
           "sequential": [
            [
             0,
             "#0d0887"
            ],
            [
             0.1111111111111111,
             "#46039f"
            ],
            [
             0.2222222222222222,
             "#7201a8"
            ],
            [
             0.3333333333333333,
             "#9c179e"
            ],
            [
             0.4444444444444444,
             "#bd3786"
            ],
            [
             0.5555555555555556,
             "#d8576b"
            ],
            [
             0.6666666666666666,
             "#ed7953"
            ],
            [
             0.7777777777777778,
             "#fb9f3a"
            ],
            [
             0.8888888888888888,
             "#fdca26"
            ],
            [
             1,
             "#f0f921"
            ]
           ],
           "sequentialminus": [
            [
             0,
             "#0d0887"
            ],
            [
             0.1111111111111111,
             "#46039f"
            ],
            [
             0.2222222222222222,
             "#7201a8"
            ],
            [
             0.3333333333333333,
             "#9c179e"
            ],
            [
             0.4444444444444444,
             "#bd3786"
            ],
            [
             0.5555555555555556,
             "#d8576b"
            ],
            [
             0.6666666666666666,
             "#ed7953"
            ],
            [
             0.7777777777777778,
             "#fb9f3a"
            ],
            [
             0.8888888888888888,
             "#fdca26"
            ],
            [
             1,
             "#f0f921"
            ]
           ]
          },
          "colorway": [
           "#636efa",
           "#EF553B",
           "#00cc96",
           "#ab63fa",
           "#FFA15A",
           "#19d3f3",
           "#FF6692",
           "#B6E880",
           "#FF97FF",
           "#FECB52"
          ],
          "font": {
           "color": "#2a3f5f"
          },
          "geo": {
           "bgcolor": "white",
           "lakecolor": "white",
           "landcolor": "#E5ECF6",
           "showlakes": true,
           "showland": true,
           "subunitcolor": "white"
          },
          "hoverlabel": {
           "align": "left"
          },
          "hovermode": "closest",
          "mapbox": {
           "style": "light"
          },
          "paper_bgcolor": "white",
          "plot_bgcolor": "#E5ECF6",
          "polar": {
           "angularaxis": {
            "gridcolor": "white",
            "linecolor": "white",
            "ticks": ""
           },
           "bgcolor": "#E5ECF6",
           "radialaxis": {
            "gridcolor": "white",
            "linecolor": "white",
            "ticks": ""
           }
          },
          "scene": {
           "xaxis": {
            "backgroundcolor": "#E5ECF6",
            "gridcolor": "white",
            "gridwidth": 2,
            "linecolor": "white",
            "showbackground": true,
            "ticks": "",
            "zerolinecolor": "white"
           },
           "yaxis": {
            "backgroundcolor": "#E5ECF6",
            "gridcolor": "white",
            "gridwidth": 2,
            "linecolor": "white",
            "showbackground": true,
            "ticks": "",
            "zerolinecolor": "white"
           },
           "zaxis": {
            "backgroundcolor": "#E5ECF6",
            "gridcolor": "white",
            "gridwidth": 2,
            "linecolor": "white",
            "showbackground": true,
            "ticks": "",
            "zerolinecolor": "white"
           }
          },
          "shapedefaults": {
           "line": {
            "color": "#2a3f5f"
           }
          },
          "ternary": {
           "aaxis": {
            "gridcolor": "white",
            "linecolor": "white",
            "ticks": ""
           },
           "baxis": {
            "gridcolor": "white",
            "linecolor": "white",
            "ticks": ""
           },
           "bgcolor": "#E5ECF6",
           "caxis": {
            "gridcolor": "white",
            "linecolor": "white",
            "ticks": ""
           }
          },
          "title": {
           "x": 0.05
          },
          "xaxis": {
           "automargin": true,
           "gridcolor": "white",
           "linecolor": "white",
           "ticks": "",
           "title": {
            "standoff": 15
           },
           "zerolinecolor": "white",
           "zerolinewidth": 2
          },
          "yaxis": {
           "automargin": true,
           "gridcolor": "white",
           "linecolor": "white",
           "ticks": "",
           "title": {
            "standoff": 15
           },
           "zerolinecolor": "white",
           "zerolinewidth": 2
          }
         }
        },
        "title": {
         "text": "Top 5 Least Affordable Towns"
        },
        "xaxis": {
         "anchor": "y",
         "domain": [
          0,
          1
         ],
         "tickangle": 45,
         "title": {
          "text": "Town"
         }
        },
        "yaxis": {
         "anchor": "x",
         "domain": [
          0,
          1
         ],
         "title": {
          "text": "Affordability Index"
         }
        }
       }
      }
     },
     "metadata": {},
     "output_type": "display_data"
    }
   ],
   "source": [
    "\n",
    "# Sort by affordability_index using final_df\n",
    "sorted_affordable = final_df.sort_values('affordability_index')\n",
    "\n",
    "# Top 5 most affordable (lowest index)\n",
    "top5_affordable = sorted_affordable.head(5)\n",
    "fig_green = px.bar(\n",
    "    top5_affordable,\n",
    "    x='Town',\n",
    "    y='affordability_index',\n",
    "    color_discrete_sequence=['#2ecc71'],  # green\n",
    "    title=\"Top 5 Most Affordable Towns\",\n",
    "    labels={'affordability_index': 'Affordability Index'}\n",
    ")\n",
    "fig_green.update_layout(xaxis_tickangle=45, showlegend=False)\n",
    "fig_green.show()\n",
    "\n",
    "# Top 5 least affordable (highest index)\n",
    "top5_unaffordable = sorted_affordable.tail(5)\n",
    "fig_red = px.bar(\n",
    "    top5_unaffordable,\n",
    "    x='Town',\n",
    "    y='affordability_index',\n",
    "    color_discrete_sequence=['#e74c3c'],  # red\n",
    "    title=\"Top 5 Least Affordable Towns\",\n",
    "    labels={'affordability_index': 'Affordability Index'}\n",
    ")\n",
    "fig_red.update_layout(xaxis_tickangle=45, showlegend=False)\n",
    "fig_red.show()\n"
   ]
  },
  {
   "cell_type": "code",
   "execution_count": null,
   "id": "760c05ae-a2bc-45ce-80d0-8f7148a37481",
   "metadata": {},
   "outputs": [],
   "source": []
  },
  {
   "cell_type": "code",
   "execution_count": null,
   "id": "5d09081d-c450-4c6a-a9c7-afb93ff5f256",
   "metadata": {},
   "outputs": [],
   "source": []
  },
  {
   "cell_type": "markdown",
   "id": "619a2a57-2073-4e22-9141-281c2edf3858",
   "metadata": {},
   "source": [
    "## **Exploratory Data Analysis Highlights**\n",
    "\n",
    "1. Distribution of Median Prices: Ranged from under Dollar 100K to over Dollar 600K, with a right skew toward higher-income suburbs.\n",
    "\n",
    "2. Correlation Matrix (heatmap):\n",
    "\n",
    "- Strong positive: Median sale price ↔ Per-capita income (r≈0.75).\n",
    "\n",
    "- Weak/none: Mill rate ↔ Sale price (r≈0.10).\n",
    "\n",
    "- Moderate: Population ↔ Grand list value (r≈0.65).\n",
    "\n",
    "3. Scatter Trends:\n",
    "\n",
    "- Little linear relationship between tax rate and home price—towns with similar tax rates span the full price range.\n",
    "\n",
    "- Lowess on population vs grand list shows super-linear growth (larger towns have disproportionately larger tax bases).\n",
    "\n"
   ]
  },
  {
   "cell_type": "markdown",
   "id": "7332fa92-9b33-425d-ad50-4ca7f5226f85",
   "metadata": {},
   "source": [
    "## **Genre**\n",
    "\n",
    "Magazine-Style Data Story — a linear, section-by-section narrative combining static (and lightly interactive) charts with explanatory text, as described by Segel & Heer (2010)"
   ]
  },
  {
   "cell_type": "markdown",
   "id": "e0ae518a-683a-40a5-b686-ed5d75ba3f83",
   "metadata": {},
   "source": [
    "## **Visual Narrative Tools**\n",
    "\n",
    "Following Segel & Heer’s taxonomy of visual techniques, from each major category we used:\n",
    "\n",
    "1. Visual Representations\n",
    "\n",
    "- Scatter plots, heatmaps, bar charts to match chart form to analytical question (correlation, distribution, ranking).\n",
    "\n",
    "2. Visual Attributes / Cues\n",
    "\n",
    "- Color encoding for affordability classes (green → red gradient).\n",
    "\n",
    "- Marker size proportional to population, adding a third data dimension.\n",
    "\n",
    "3. Faceting & Layout\n",
    "\n",
    "- Breaking the tax vs price scatter into panels by affordability class for direct comparison.\n",
    "\n",
    "- Consistent axis labels, color legends, and titles to unify the narrative flow."
   ]
  },
  {
   "cell_type": "markdown",
   "id": "244cd869-2b39-4b52-82b5-ac498970b318",
   "metadata": {},
   "source": [
    "## **Narrative Structure Tools**\n",
    "\n",
    "Per Segel & Heer’s narrative structure taxonomy, we employed:\n",
    "\n",
    "1. Sectional Sequencing\n",
    "\n",
    "- Numbered markdown headings (“1. Tax Rates vs Home Prices”, “2. Correlation Matrix”, “3. Affordability Classification”) to guide the reader linearly.\n",
    "\n",
    "2. Annotation & Commentary\n",
    "\n",
    "- Bullet-point “Key Observations” under each plot highlighting the take-home message.\n",
    "\n",
    "- Definition tables for key terms (e.g. affordability tiers).\n",
    "\n",
    "3. Summary Lists\n",
    "\n",
    "- Top-5 most/least affordable towns presented via bar charts immediately after classification to crystallize insights."
   ]
  },
  {
   "cell_type": "markdown",
   "id": "ec6d146e-f7a0-4b21-a968-223d1c22c408",
   "metadata": {},
   "source": [
    "## **Visualizations & Rationale**\n",
    "\n",
    "- Scatter (Tax vs Price): Best for spotting correlation (or lack thereof) between two continuous variables.\n",
    "\n",
    "- Heatmap (Correlation Matrix): Compactly displays multiple pairwise correlations at once.\n",
    "\n",
    "- Scatter with Trendline (Population vs Grand List): Shows both raw relationship and smoothed trend for skewed data.\n",
    "\n",
    "- Faceted Scatter (Affordability): Side-by-side panels let viewers compare how price-income dynamics shift across tiers.\n",
    "\n",
    "- Bar Charts (Top-5 Rankings): Clear ordinal ranking of towns by affordability index.\n",
    "\n"
   ]
  },
  {
   "cell_type": "markdown",
   "id": "88c35666-22d9-49ff-97d9-70b7496de04e",
   "metadata": {},
   "source": [
    "## **Discussion**\n",
    "\n",
    "**What Went Well**\n",
    "\n",
    "- Seamless integration of three disparate datasets into a unified town-level view.\n",
    "\n",
    "- Interactive Plotly charts encourage exploration (hover tooltips, zoom).\n",
    "\n",
    "- Affordability index distilled two complex burdens into one interpretable metric.\n",
    "  "
   ]
  },
  {
   "cell_type": "markdown",
   "id": "b27117ae-9448-499c-82dc-69b97ff840e6",
   "metadata": {},
   "source": [
    "## **Conclusion**\n",
    "\n",
    "In this analysis of Connecticut’s 2020 municipal data, we synthesized real estate transactions, fiscal indicators, and demographic projections to paint a holistic picture of housing affordability across the state. By constructing a composite Affordability Index—combining median home price relative to per-capita income with annual tax burden relative to income—we distilled complex financial and market dynamics into a single, actionable metric.\n",
    "\n",
    "Key takeaways include:\n",
    "\n",
    "- Strong Income–Price Link: Towns with higher per-capita incomes overwhelmingly command higher median sale prices, underscoring regional economic disparities.\n",
    "\n",
    "- Tax Rates Matter, But Not Equally: Mill rates alone did not predict home prices—some lower-income towns levy high rates on modest property values, while affluent suburbs maintain moderate rates on high valuations.\n",
    "\n",
    "- Affordability Hotspots & Pressure Points: The most affordable municipalities balanced moderate prices and reasonable tax burdens; conversely, the least affordable combined steep prices with either above-average mill rates or relatively lower incomes.\n",
    "\n",
    "- Population Scale & Fiscal Base: Larger towns benefit from a super-linear grand list growth, reflecting diverse commercial and residential development that smaller towns can’t match.\n",
    "\n",
    "Our interactive visualizations—scatter plots, heatmaps, and ranked bar charts—allowed users to drill into these patterns, while faceting by Affordability Index tier clarified how relationships shift across affordability classes.\n",
    "\n",
    "Moving forward, integrating geospatial mapping, multi-year trends, and formal statistical modeling would deepen insights and support data-driven policymaking. Nevertheless, even in its current form, this analysis equips stakeholders—homebuyers, municipal leaders, and planners—with clear, comparative intelligence on where housing markets blend value, taxation, and income most favorably (or unfavorably) in Connecticut."
   ]
  },
  {
   "cell_type": "code",
   "execution_count": null,
   "id": "2a69b756-8893-4f97-b1b4-fe453c415344",
   "metadata": {},
   "outputs": [],
   "source": []
  }
 ],
 "metadata": {
  "kernelspec": {
   "display_name": "Python 3 (ipykernel)",
   "language": "python",
   "name": "python3"
  },
  "language_info": {
   "codemirror_mode": {
    "name": "ipython",
    "version": 3
   },
   "file_extension": ".py",
   "mimetype": "text/x-python",
   "name": "python",
   "nbconvert_exporter": "python",
   "pygments_lexer": "ipython3",
   "version": "3.12.4"
  }
 },
 "nbformat": 4,
 "nbformat_minor": 5
}
